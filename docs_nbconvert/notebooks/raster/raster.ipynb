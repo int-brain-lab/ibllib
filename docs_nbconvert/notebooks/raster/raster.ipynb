{
 "cells": [
  {
   "cell_type": "markdown",
   "metadata": {},
   "source": [
    "# Tutorial 2 -looking at spikes\n",
    "## Author: M Faulkner\n",
    "## Date: 12/06/20\n",
    "\n",
    "### About the tutorial\n",
    "This tutorial shows how to load in spikes object and produce a histogram plot"
   ]
  },
  {
   "cell_type": "markdown",
   "metadata": {},
   "source": [
    "Get all the imports etttcccc. This is a link to this tutorial [press the link](../01_overview.html)"
   ]
  },
  {
   "cell_type": "code",
   "execution_count": null,
   "metadata": {},
   "outputs": [],
   "source": [
    "#from oneibl.one import ONE\n",
    "#import alf.io\n",
    "from pathlib import Path\n",
    "import matplotlib.pyplot as plt\n",
    "import numpy as np\n",
    "\n",
    "#one = ONE()\n",
    "eid = 'a3df91c8-52a6-4afa-957b-3479a7d0897c'\n",
    "probe_label = 'probe00'\n",
    "\n",
    "#sess_path = one.path_from_eid(eid)\n",
    "#alf_path = Path(sess_path, 'alf', probe_label)\n",
    "\n",
    "#spikes = alf.io.load_object(alf_path, 'spikes')\n",
    "\n",
    "\n",
    "\n",
    "\n"
   ]
  },
  {
   "cell_type": "code",
   "execution_count": null,
   "metadata": {},
   "outputs": [],
   "source": [
    " #clust, counts = np.unique(spikes.clusters, return_counts=True)"
   ]
  },
  {
   "cell_type": "code",
   "execution_count": null,
   "metadata": {},
   "outputs": [],
   "source": [
    "#plt.hist(clust, weights=counts)"
   ]
  },
  {
   "cell_type": "code",
   "execution_count": null,
   "metadata": {},
   "outputs": [],
   "source": []
  }
 ],
 "metadata": {
  "kernelspec": {
   "display_name": "Python 3",
   "language": "python",
   "name": "python3"
  },
  "language_info": {
   "codemirror_mode": {
    "name": "ipython",
    "version": 3
   },
   "file_extension": ".py",
   "mimetype": "text/x-python",
   "name": "python",
   "nbconvert_exporter": "python",
   "pygments_lexer": "ipython3",
   "version": "3.7.7-final"
  }
 },
 "nbformat": 4,
 "nbformat_minor": 4
}