{
 "cells": [
  {
   "cell_type": "markdown",
   "metadata": {},
   "source": [
    "# Working with wheel data\n",
    "\n",
    "This example will give you information about how the rotary encoder records wheel movements, how to find out the units and spatial resolution of the standard wheel data, and how to load the wheel data.  There are also examples of how to load wheel movements and rection times from ALF datasets and DataJoint tables, as well as how to calculate these from scratch."
   ]
  },
  {
   "cell_type": "code",
   "execution_count": null,
   "metadata": {},
   "outputs": [],
   "source": [
    "#%matplotlib notebook\n",
    "\n",
    "import re\n",
    "\n",
    "import numpy as np\n",
    "import matplotlib.pyplot as plt\n",
    "import seaborn as sns\n",
    "from one.api import ONE\n",
    "\n",
    "from brainbox.io.one import load_wheel_reaction_times\n",
    "import brainbox.behavior.wheel as wh\n",
    "from ibllib.io.extractors.ephys_fpga import extract_wheel_moves\n",
    "from ibllib.io.extractors.training_wheel import extract_first_movement_times\n",
    "# from ibllib.misc.exp_ref import eid2ref\n",
    "\n",
    "one = ONE(base_url='https://openalyx.internationalbrainlab.org', silent=True)\n",
    "sns.set_style('whitegrid')"
   ]
  },
  {
   "cell_type": "code",
   "execution_count": null,
   "metadata": {},
   "outputs": [],
   "source": [
    "# NB: This function will soon be available from ibllib.misc.exp_ref\n",
    "def eid2ref(eid):\n",
    "    \"\"\"\n",
    "    Get human-readable session ref from path\n",
    "    :param eid: The experiment uuid to find reference for\n",
    "    :return: dict containing 'subject', 'date' and 'sequence'\n",
    "    \"\"\"\n",
    "    path_str = str(one.eid2path(eid))\n",
    "    pattern = r'(?P<subject>[\\w-]+)([\\\\/])(?P<date>\\d{4}-\\d{2}-\\d{2})(\\2)(?P<sequence>\\d{3})'\n",
    "    match = re.search(pattern, path_str)\n",
    "    return match.groupdict()"
   ]
  },
  {
   "cell_type": "code",
   "execution_count": null,
   "metadata": {},
   "outputs": [],
   "source": [
    "eid = 'c7bd79c9-c47e-4ea5-aea3-74dda991b48e'\n",
    "eid2ref(eid)"
   ]
  },
  {
   "cell_type": "markdown",
   "metadata": {},
   "source": [
    "### Device\n",
    "\n",
    "The standard resolution of the rotary encoder is 1024 'ticks' per revolulation.  With quadrature (X4) encoding we measure four fronts giving from the device: low -> high and high -> low, from channels A and B.  Therefore the number of measured 'ticks' per revolution becomes 4096.\n",
    "\n",
    "X4 encoding is used in ephys sessions, while in training sessions the encoding is X1, i.e. four times fewer ticks per revolution.\n",
    "\n",
    "![Quadrature encoding schematic](http://www.ni.com/cms/images/devzone/tut/ipuuzhqc3503.jpg)\n",
    "\n",
    "For more information on the rotary encoder see these links:\n",
    "[National Instruments guide to rotary encoders](http://www.ni.com/tutorial/7109/en/)\n",
    "[Datasheet for the Kuebler](https://www.kuebler.com/pdf?2400-2420_en.pdf)"
   ]
  },
  {
   "cell_type": "markdown",
   "metadata": {},
   "source": [
    "### Units\n",
    "The wheel module contains some default values that are useful for determining the units of the raw data, and for interconverting your ALF position units."
   ]
  },
  {
   "cell_type": "code",
   "execution_count": null,
   "metadata": {},
   "outputs": [],
   "source": [
    "device_info = ('The wheel diameter is {} cm and the number of ticks is {} per revolution'\n",
    "               .format(wh.WHEEL_DIAMETER, wh.ENC_RES))\n",
    "print(device_info)"
   ]
  },
  {
   "cell_type": "markdown",
   "metadata": {},
   "source": [
    "### Loading the wheel data\n",
    "The wheel traces can be accessed via ONE.  There are two ALF files: `wheel.position` and `wheel.timestamps`.  The timestamps are, as usual, in seconds (same as the trials object) and the positions are in radians.  The positions are not evenly sampled, meaning that when the wheel doesn't move, no position is registered.  For reference,\n",
    "\n",
    "More information on the ALF dataset types can be found [here](https://docs.google.com/document/d/1OqIqqakPakHXRAwceYLwFY9gOrm8_P62XIfCTnHwstg/edit#heading=h.hnjqyfnroyya).\n",
    "\n",
    "**NB**: There are some old `wheel.velocity` ALF files that contain the volocity measured as the diff between neighbouring samples.  Later on we describe a better way to calculate the velocity."
   ]
  },
  {
   "cell_type": "code",
   "execution_count": null,
   "metadata": {},
   "outputs": [],
   "source": [
    "wheel = one.load_object(eid, 'wheel', collection='alf')\n",
    "\n",
    "print('wheel.position: \\n', wheel.position)\n",
    "print('wheel.timestamps: \\n', wheel.timestamps)"
   ]
  },
  {
   "cell_type": "markdown",
   "metadata": {},
   "source": [
    "### Loading movement data\n",
    "There is also an ALF dataset type called 'wheelMoves' with two attributes:\n",
    "1. `wheelMoves.intervals` - An N-by-2 arrays where N is the number of movements detected.  The first column contains the movement onset time in absolute seconds; the second contains the offset.\n",
    "2. `wheelMoves.peakAmplitude` - The absolute maximum amplitude of each detected wheel movement, relative to onset position.  This can be used to determine whether the movement was particularly large and therefore whether it was a flinch vs a determined movement.\n",
    "\n",
    "If the dataset doesn't exist you can also extract the wheel moves with a single function.  Below we attempt to load the wheelMoves ALF and upon failing, extract it ourselves."
   ]
  },
  {
   "cell_type": "code",
   "execution_count": null,
   "metadata": {},
   "outputs": [],
   "source": [
    "try:\n",
    "    # Warning: Some older sessions may not have a wheelMoves dataset\n",
    "    wheel_moves = one.load_object(eid, 'wheelMoves', collection='alf')\n",
    "    assert wheel_moves, 'object not found'\n",
    "except AssertionError:\n",
    "    wheel_moves = extract_wheel_moves(wheel.timestamps, wheel.position)"
   ]
  },
  {
   "cell_type": "markdown",
   "metadata": {},
   "source": [
    "### The movements algorithm\n",
    "The wheel movement onsets and offsets are calculated using the `wheel.movements` function.  The output of this function is saved in the 'wheelMoves' ALF.\n",
    "\n",
    "Refer to the `wheel.movements` function docstring for details of how the movements are detected.  In addition to the data found in the wheelMoves object, the function outputs an array of peak velocity times.  Also the function has a `make_plots` flag which will produce plots of the wheel position and velocity with the movement onsets and offsets highlighted (see below).\n",
    "\n",
    "The movements algorithm requires the positions and timestamps to be evenly sampled so they should be interpolated first, which can be done with the `wheel.interpolate_position` function.  The default sampling frequency is 1000Hz:"
   ]
  },
  {
   "cell_type": "code",
   "execution_count": null,
   "metadata": {},
   "outputs": [],
   "source": [
    "pos, t = wh.interpolate_position(wheel.timestamps, wheel.position)\n",
    "sec = 5  # Number of seconds to plot\n",
    "plt.figure()\n",
    "\n",
    "# Plot the interpolated data points\n",
    "mask = t < (t[0] + sec)\n",
    "plt.plot(t[mask], pos[mask], '.', markeredgecolor='lightgrey', markersize=1)\n",
    "\n",
    "# Plot the original data\n",
    "mask = wheel.timestamps < (wheel.timestamps[0] + sec)\n",
    "plt.plot(wheel.timestamps[mask], wheel.position[mask], 'r+', markersize=6)\n",
    "\n",
    "# Labels etc.\n",
    "plt.xlabel('time / sec')\n",
    "plt.ylabel('position / rad')\n",
    "plt.box(on=None)\n",
    "plt.show()"
   ]
  },
  {
   "cell_type": "markdown",
   "metadata": {},
   "source": [
    "Once interpolated, the movements can be extracted from the position trace.  **NB**: The position thresholds are dependant on the wheel position units.  The defaults values are for the raw input of a X4 1024 encoder, so we will convert them to radians:"
   ]
  },
  {
   "cell_type": "code",
   "execution_count": null,
   "metadata": {},
   "outputs": [],
   "source": [
    "# Convert the pos threshold defaults from samples to correct unit\n",
    "thresholds_cm = wh.samples_to_cm(np.array([8, 1.5]), resolution=wh.ENC_RES)\n",
    "thresholds = wh.cm_to_rad(thresholds_cm)"
   ]
  },
  {
   "cell_type": "code",
   "execution_count": null,
   "metadata": {},
   "outputs": [],
   "source": [
    "# Detect wheel movements for the first 5 seconds\n",
    "mask = t < (t[0] + sec)\n",
    "\n",
    "onsets, offsets, peak_amp, peak_vel_times = wh.movements(\n",
    "    t[mask], pos[mask], pos_thresh=thresholds[0], pos_thresh_onset=thresholds[0], make_plots=True)\n",
    "plt.show()"
   ]
  },
  {
   "cell_type": "markdown",
   "metadata": {},
   "source": [
    "For scale, the stimulus must be moved 35 visual degrees to reach threshold.  The wheel gain is 4 degrees/mm (__NB__: the gain is double for the first session or so, see [Appendix 2 of the behavior paper](https://docs.google.com/document/d/1RA6wgbWfxD2kGlpNxt0n3HVcW4TEIx8e-YO7k_W1pHs/edit))"
   ]
  },
  {
   "cell_type": "code",
   "execution_count": null,
   "metadata": {},
   "outputs": [],
   "source": [
    "threshold_deg = 35 # visual degrees\n",
    "gain = 4  # deg / mm\n",
    "threshold_rad = wh.cm_to_rad(1e-1) * (threshold_deg / gain)  # rad\n",
    "\n",
    "print('The wheel must be turned ~%.1f rad to move the stimulus to threshold' % threshold_rad)"
   ]
  },
  {
   "cell_type": "markdown",
   "metadata": {},
   "source": [
    "### Calculating velocity\n",
    "Wheel velocity can be calculated using the `velocity_smoothed` function, which returns the velocity and acceleration convolved with a Gaussian window.  As with the `movements` function, the input is expected to be evenly sampled, therefore you should interpolate the wheel data before calling this function.  The default window size of 3ms is reasonable, and interpolating at a frequency of 1000 (the default) is sufficiently high."
   ]
  },
  {
   "cell_type": "code",
   "execution_count": null,
   "metadata": {},
   "outputs": [],
   "source": [
    "# pos was the output of interpolate_position using the default frequency of 1000Hz\n",
    "Fs = 1000\n",
    "pos, t = wh.interpolate_position(wheel.timestamps, wheel.position, freq=Fs)\n",
    "vel, acc = wh.velocity_smoothed(pos, Fs)"
   ]
  },
  {
   "cell_type": "markdown",
   "metadata": {},
   "source": [
    "### Last move onset\n",
    "The `movements` algorithm is the recommended way of detecting movement onsets because it is quicker and more accurate, however there is another function that will return the last movement onset before a particular event.  This is useful for quickly finding the movement that reached threshold for a given trial.  This function finds the first sample after the velocity has been zero for at least 50ms.  Because it uses velocity, the smoothed derivative of position, it is less accurate.  **NB**: The more accurate approach is to find all moves for which the onset occured before feedback time and the offset occured afterwards."
   ]
  },
  {
   "cell_type": "code",
   "execution_count": null,
   "metadata": {},
   "outputs": [],
   "source": [
    "trial_data = one.load_object(eid, 'trials', collection='alf')\n",
    "idx = 23 # trial index\n",
    "ts = wh.last_movement_onset(t, vel, trial_data['feedback_times'][idx]);\n",
    "\n",
    "mask = np.logical_and(trial_data['goCue_times'][idx] < t, t < trial_data['feedback_times'][idx])\n",
    "plt.figure();\n",
    "plt.plot(t[mask], pos[mask]);\n",
    "plt.axvline(x=ts);\n",
    "plt.show()"
   ]
  },
  {
   "cell_type": "markdown",
   "metadata": {},
   "source": [
    "### Calculating reaction times\n",
    "Reaction times based on wheel movements can be calculated with the `load_wheel_reaction_times` function which is located in the behavior module of brainbox.\n",
    "\n",
    "Reaction times are defined as the time between the go cue (onset tone) and the onset of the first substantial wheel movement.  A movement is considered sufficiently large if its peak amplitude is at least 1/3rd of the distance to threshold (~0.1 radians).\n",
    "\n",
    "Negative times mean the onset of the movement occurred before the go cue.  Nans may occur if there was no detected movement withing the period, or when the goCue_times or feedback_times are nan.\n",
    "\n",
    "The function loads the trials object and if `firstMovement_times` is not present it loads the wheel moves and extracts these times."
   ]
  },
  {
   "cell_type": "code",
   "execution_count": null,
   "metadata": {},
   "outputs": [],
   "source": [
    "# Load the reaction times\n",
    "# brainbox.io.one.load_wheel_reaction_times\n",
    "rt = load_wheel_reaction_times(eid)"
   ]
  },
  {
   "cell_type": "code",
   "execution_count": null,
   "metadata": {},
   "outputs": [],
   "source": [
    "trial_data = one.load_object(eid, 'trials', collection='alf')\n",
    "\n",
    "# # Replace nans with zeros\n",
    "trial_data.contrastRight[np.isnan(trial_data.contrastRight)] = 0\n",
    "trial_data.contrastLeft[np.isnan(trial_data.contrastLeft)] = 0\n",
    "\n",
    "contrast = trial_data.contrastRight - trial_data.contrastLeft\n",
    "mean_rt = [np.nanmean(rt[contrast == c]) for c in set(contrast)]\n",
    "\n",
    "# RT may be nan if there were no detected movements, or if the goCue or stimOn times were nan\n",
    "xdata = np.unique(contrast)\n",
    "plt.figure(figsize=(4, 3))  # Some sort of strange behaviour in this cell's output\n",
    "plt.plot(xdata, mean_rt);\n",
    "\n",
    "plt.xlabel('contrast')\n",
    "plt.ylabel('mean rt / s')\n",
    "plt.ylim(bottom=0);\n",
    "plt.show()"
   ]
  },
  {
   "cell_type": "markdown",
   "metadata": {},
   "source": [
    "### Finding reaction time and 'determined' movements\n",
    "Below is an example of how you might filter trials by those responses that are unambiguous.  The function `extract_first_movement_times` is used for calculating the trial reaction times but also returns whether the first significant movement was 'final', i.e. was the one that reached threshold.  For details of how 'first movement' is defined, see the function docstring."
   ]
  },
  {
   "cell_type": "code",
   "execution_count": null,
   "metadata": {},
   "outputs": [],
   "source": [
    "firstMove_times, is_final_movement, ids = extract_first_movement_times(wheel_moves, trial_data)"
   ]
  },
  {
   "cell_type": "markdown",
   "metadata": {},
   "source": [
    "#### Direction changes\n",
    "Below is an example of how to plot the times that the wheel changed direction.  Changing the smoothing window when calculating the velocity may improve the detected changes, depending on what your goal is."
   ]
  },
  {
   "cell_type": "code",
   "execution_count": null,
   "metadata": {},
   "outputs": [],
   "source": [
    "n = 569\n",
    "on, off = wheel_moves['intervals'][n,]\n",
    "mask = np.logical_and(t > on, t < off)\n",
    "sng = np.sign(vel[mask])\n",
    "idx, = np.where(np.diff(sng) != 0)\n",
    "\n",
    "plt.figure()\n",
    "plt.plot(t[mask], pos[mask], 'k')\n",
    "for i in idx:\n",
    "    plt.axvline(x=t[mask][i], color='k', linestyle=':')\n",
    "\n",
    "plt.title('Movement #%s' % n)\n",
    "plt.xlabel('time / s')\n",
    "plt.ylabel('position / rad');\n",
    "plt.show()"
   ]
  },
  {
   "cell_type": "markdown",
   "metadata": {},
   "source": [
    "The function `direction_changes` does the same as above, returning a list of times and indices of each movement's direction changes."
   ]
  },
  {
   "cell_type": "code",
   "execution_count": null,
   "metadata": {},
   "outputs": [],
   "source": [
    "n = 403  # trial number\n",
    "start, end = trial_data['intervals'][n,]  # trial intervals\n",
    "intervals = wheel_moves['intervals']  # movement onsets and offsets\n",
    "\n",
    "# Find direction changes for a given trial\n",
    "mask = np.logical_and(intervals[:,0] > start, intervals[:,0] < end)\n",
    "change_times, idx, = wh.direction_changes(t, vel, intervals[mask])\n",
    "\n",
    "plt.figure()\n",
    "mask = np.logical_and(t > start, t < end)  # trial intervals mask\n",
    "plt.plot(t[mask], pos[mask], 'k')  # plot wheel trace for trial\n",
    "for i in np.concatenate(change_times):\n",
    "    plt.axvline(x=i, color='k', linestyle=':')\n",
    "\n",
    "plt.title('Trial #%s' % n)\n",
    "plt.xlabel('time / s')\n",
    "plt.ylabel('position / rad');\n",
    "plt.show()"
   ]
  },
  {
   "cell_type": "markdown",
   "metadata": {},
   "source": [
    "### Splitting wheel trace by trial\n",
    "To plot a selection of 'determined' movements, we can split the traces using the `traces_by_trial` function.\n",
    "\n",
    "*NB*: This using the `within_ranges` function which is generic and can be used to detect which points are within a range.  This is useful for returning masks for slicing (must be cast to bool), to label points within ranges or to dectect whether any points belong to more than one range."
   ]
  },
  {
   "cell_type": "code",
   "execution_count": null,
   "metadata": {},
   "outputs": [],
   "source": [
    "n_trials = 3  # Number of trials to plot\n",
    "# Randomly select the trials to plot\n",
    "trial_ids = np.random.randint(trial_data['choice'].size, size=n_trials)\n",
    "fig, axs = plt.subplots(1, n_trials, figsize=(8.5,2.5))\n",
    "plt.tight_layout()\n",
    "\n",
    "# Plot go cue and response times\n",
    "goCues = trial_data['goCue_times'][trial_ids]\n",
    "responses = trial_data['response_times'][trial_ids]\n",
    "\n",
    "# Plot traces between trial intervals\n",
    "starts = trial_data['intervals'][trial_ids, 0]\n",
    "ends = trial_data['intervals'][trial_ids, 1]\n",
    "# Cut up the wheel vectors\n",
    "traces = wh.traces_by_trial(t, pos, start=starts, end=ends)\n",
    "zipped = zip(traces, axs, goCues, responses, trial_ids)\n",
    "\n",
    "for (trace, ax, go, resp, n) in zipped:\n",
    "    ax.plot(trace[0], trace[1], 'k-')\n",
    "    ax.axvline(x=go, color='g', label='go cue', linestyle=':')\n",
    "    ax.axvline(x=resp, color='r', label='threshold', linestyle=':')\n",
    "    ax.set_title('Trial #%s' % n)\n",
    "\n",
    "    # Turn off tick labels\n",
    "    ax.set_yticklabels([])\n",
    "    ax.set_xticklabels([])\n",
    "\n",
    "# Add labels to first\n",
    "axs[0].set_xlabel('time / sec')\n",
    "axs[0].set_ylabel('position / rad')\n",
    "plt.legend();\n",
    "plt.tight_layout()\n",
    "plt.show()"
   ]
  }
 ],
 "metadata": {
  "kernelspec": {
   "display_name": "Python 3 (ipykernel)",
   "language": "python",
   "name": "python3"
  },
  "language_info": {
   "codemirror_mode": {
    "name": "ipython",
    "version": 3
   },
   "file_extension": ".py",
   "mimetype": "text/x-python",
   "name": "python",
   "nbconvert_exporter": "python",
   "pygments_lexer": "ipython3",
   "version": "3.9.7"
  }
 },
 "nbformat": 4,
 "nbformat_minor": 2
}
