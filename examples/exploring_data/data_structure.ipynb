{
 "cells": [
  {
   "cell_type": "markdown",
   "metadata": {
    "collapsed": false,
    "pycharm": {
     "name": "#%% md\n"
    }
   },
   "source": [
    "# Get to know the datasets and folder structure\n",
    "## Useful links\n",
    "If you first want to quickly view and browse what datasets are in a recording session, you can easily do so in a web browser via this [Flatiron web page](https://ibl.flatironinstitute.org/public/).\n",
    "\n",
    "Note:\n",
    "* The size of each dataset can be easily viewed under the `Size` column in the web browser. For example,\n",
    "the [raw video data](https://ibl.flatironinstitute.org/public/mainenlab/Subjects/ZFM-01576/2020-12-01/001/raw_video_data/) is particularly heavy (several GB).\n",
    "\n",
    "A detailed explanation of datasets definition and format are described in this [sheet](https://docs.google.com/spreadsheets/u/1/d/1ieLXRPLLSgUKcLvFkrqizfZl5HjdfE6bQ2KLBCRmjQo/edit?usp=drive_web&ouid=107692576857324699678) and [document](https://docs.google.com/document/d/1OqIqqakPakHXRAwceYLwFY9gOrm8_P62XIfCTnHwstg/edit#).\n",
    "\n",
    "## What is the folder structure for experiment sessions\n",
    "Generally speaking, all the data for a single experiment session fits into a folder, which name is characterised by:\n",
    "it's lab name / a folder Subjects / the name of the subject (i.e. the mouse nickname) / the date / the session number.\n",
    "\n",
    "For example `mainenlab/Subjects/ZFM-01576/2020-12-01/001`, which data can be browsed through [here](https://ibl.flatironinstitute.org/public/mainenlab/Subjects/ZFM-01576/2020-12-01/001/).\n",
    "\n",
    "Note:\n",
    "* A lab can host multiple subjects, e.g. the [Churchland lab](https://ibl.flatironinstitute.org/public/churchlandlab/Subjects) hosts `CSHL047` and `CSHL049`.\n",
    "* There can be multiple sessions done in one day per subject, in such case the number of session `001` would increase\n",
    "to `002`, `003` etc.\n",
    "* Sometimes, the valuable data is found only in a later session in the day (in the case of a restart for example),\n",
    "so it is not uncommon to see sessions for which only the `003` folder is saved for example.\n"
   ]
  },
  {
   "cell_type": "markdown",
   "metadata": {
    "collapsed": false,
    "pycharm": {
     "name": "#%% md\n"
    }
   },
   "source": [
    "## How are data files organised within a session folder\n",
    "\n",
    "### Overview\n",
    "Within a session folder (such as [mainenlab/Subjects/ZFM-01576/2020-12-01/001/](https://ibl.flatironinstitute.org/public/mainenlab/Subjects/ZFM-01576/2020-12-01/001/)) there will be multiple folders containing different kinds of data as explained below.\n",
    "An example layout of the folder structure is shown here:\n",
    "\n",
    "    subject/\n",
    "    ├─ 2020-12-01/\n",
    "    │  ├─ 001/\n",
    "    │  │  ├─ alf/\n",
    "    │  │  │  ├─ probeXX/\n",
    "    │  │  │     ├─ pykilosort/\n",
    "    │  │  ├─ raw_ephys_data\n",
    "    │  │  │  ├─ probeXX/\n",
    "    │  │  ├─ raw_video_data\n",
    "\n",
    "\n",
    "Generally speaking, the following subfolders will contain:\n",
    "* `alf/` : The extracted data, to be used in analysis (notably the spike sorting, trials and DLC data).\n",
    "* `raw_ephys_data/` : The raw ephys data (in this case, Neuropixels data)\n",
    "* `raw_video_data/`: The raw video data\n",
    "* `raw_passive_data/`: The raw passive data (events that occur during the replay of task stimuli)\n",
    "* `raw_behavior_data/` : The raw behavior data (events that occur during a trials)\n",
    "* `spike_sorters/` : The raw output data for each spike sorter used\n",
    "* `logs/` : logged information\n",
    "\n",
    "Note:\n",
    "* Analysis is conducted mainly on the data contained in the first three subfolders, i.e. `alf/` , `raw_ephys_data/` and `raw_video_data/`, which the content of is detailed below.\n",
    "* Some data (e.g. `raw_passive_data/`) may not be available for all sessions."
   ]
  },
  {
   "cell_type": "markdown",
   "metadata": {
    "collapsed": false
   },
   "source": [
    "### Processed data: alf folder\n",
    "Everything contained within the `alf` folder is processed data, with all times synchronised to a common clock. This folder contains the data that is required for the majority of all analysis. All files in the alf folders follow the [Alyx File](https://int-brain-lab.github.io/ONE/alf_intro.html#alyx-files-alf) naming convention, where related datasets are grouped into a common object e.g trials or wheel.\n",
    "\n",
    "The `alf/` folder notably contains:\n",
    "* the probe folder (`probe00/` or `probe01/`), in which are the processed output of the spike sorting to be used for analysis\n",
    "* the processed behavior trials data\n",
    "* the processed DLC data (for each camera used, here `body`, `left` and `right`)\n",
    "* the processed wheel data\n",
    "* the processed passive protocol data\n",
    "\n",
    "Below is breakdown of the dataset objects contained in each folder.\n",
    "\n",
    "#### Download an example alf folder\n",
    "An example of the files contained in a sample alf folder can be downloaded by clicking [here](https://ibl-brain-wide-map-public.s3.amazonaws.com/sample_data/mainenlab/Subjects/ZM_2241/2020-01-30/001/alf_ZM2241_2020-01-30_001.zip)"
   ]
  },
  {
   "cell_type": "markdown",
   "metadata": {
    "collapsed": false
   },
   "source": [
    "#### Datasets in alf\n",
    "The `alf` folder contains the processed behaviour, wheel and video data.\n",
    "Browse the documentation detailing these datasets and how to load them:\n",
    "\n",
    "* trials -> behavioural task related data\n",
    "    - [Description of datasets](https://docs.google.com/document/d/1OqIqqakPakHXRAwceYLwFY9gOrm8_P62XIfCTnHwstg/edit#heading=h.nvzaz0fozs8h)\n",
    "    - [Loading Example](https://int-brain-lab.github.io/iblenv/notebooks_external/loading_trials_data.html)\n",
    "* wheel, wheelMoves -> wheel data recorded during task\n",
    "    - [Description of datasets](https://docs.google.com/document/d/1OqIqqakPakHXRAwceYLwFY9gOrm8_P62XIfCTnHwstg/edit#heading=h.hnjqyfnroyya)\n",
    "    - [Loading Example](https://int-brain-lab.github.io/iblenv/notebooks_external/loading_wheel_data.html)\n",
    "* leftCamera, rightCamera, bodyCamera -> extracted dlc features during task\n",
    "    - [Description of datasets](https://docs.google.com/document/d/1OqIqqakPakHXRAwceYLwFY9gOrm8_P62XIfCTnHwstg/edit#heading=h.yjwa7dpoipz)\n",
    "    - [Loading Example](https://int-brain-lab.github.io/iblenv/notebooks_external/loading_video_data.html)"
   ]
  },
  {
   "cell_type": "markdown",
   "metadata": {
    "collapsed": false
   },
   "source": [
    "#### Datasets in alf/probeXX/pykilosort\n",
    "The `alf/probeXX/` folder contains the spike sorted data.\n",
    "Typically, only one version of spike sorting output is available, and stored in a folder named `pykilosort` (see example [`alf/probe00/`](https://ibl.flatironinstitute.org/public/mainenlab/Subjects/ZFM-01576/2020-12-01/001/alf/probe00/)).\n",
    "\n",
    "Note:\n",
    " * A folder `alf/probeXX/` can contain the output of multiple spike sorters.\n",
    " * In such a case, it would contain a first spike sorter output directly into the folder itself (see e.g. if there is the `cluster` datasets directly in the folder `alf/probeXX/`), and a secondary version under a subfolder (here the subfolder named `pykilosort`).\n",
    " * In the case of multiple spike sorting version being available, the data loading methods use the default version from `pykilosort` (see [loading example](https://int-brain-lab.github.io/iblenv/notebooks_external/loading_spikesorting_data.html))."
   ]
  },
  {
   "cell_type": "markdown",
   "metadata": {
    "collapsed": false,
    "pycharm": {
     "name": "#%% md\n"
    }
   },
   "source": [
    "Browse the documentation detailing the spike sorting datasets and how to load them:\n",
    "* spikes, clusters, channels -> spikesorted output of neuropixel data\n",
    "    - [Description of datasets](https://docs.google.com/document/d/1OqIqqakPakHXRAwceYLwFY9gOrm8_P62XIfCTnHwstg/edit#heading=h.5houj8bng5o)\n",
    "    - [Loading Example](https://int-brain-lab.github.io/iblenv/notebooks_external/loading_spikesorting_data.html)\n",
    "* spikes_subset -> sample of waveforms extracted during spikesorting\n",
    "    - [Description of datasets](https://docs.google.com/document/d/1OqIqqakPakHXRAwceYLwFY9gOrm8_P62XIfCTnHwstg/edit#heading=h.vcop4lz26gs9)\n",
    "    - [Loading Example](https://int-brain-lab.github.io/iblenv/notebooks_external/loading_spike_waveforms.html)"
   ]
  },
  {
   "cell_type": "markdown",
   "metadata": {
    "collapsed": false
   },
   "source": [
    "### Raw data\n",
    "\n",
    "Data stored in folders with the prefix `raw`, contain original data collected from each recording device (e.g Neuropixel probe or camera). Data in these folders are in the clock of the recording device and are not synchronised.\n",
    "\n",
    "Notably, the raw electrophysiology data that has been used to obtain the spikesorting and the raw video data that has been used to extract DLC features are available for most sessions.\n",
    "\n",
    "A summary of the data contained in each folder is given below.\n",
    "\n",
    "#### Datasets in raw_ephys_data\n",
    "The `raw_ephys_data` folder contains the synchronisation data recorded from the NIDAQ device via the software SpikeGLX.\n",
    "\n",
    "Note:\n",
    "* For recordings obtained with 3A Neuropixel probes this folder is empty and synchronisation pulses are stored in the raw_ephys_data/probeXX folder"
   ]
  },
  {
   "cell_type": "markdown",
   "metadata": {
    "collapsed": false
   },
   "source": [
    "Browse the documentation detailing the SpikeGLX datasets and how to load them:\n",
    "* \\_spikeglx_ephysData*.nidq -> raw synchronisation pulses from NIDAQ recorded using spikeglx\n",
    "    - [Description of datasets](https://docs.google.com/document/d/1OqIqqakPakHXRAwceYLwFY9gOrm8_P62XIfCTnHwstg/edit#heading=h.ms0y69xbzova)\n",
    "    - [Loading Example](https://int-brain-lab.github.io/iblenv/notebooks_external/loading_raw_ephys_data.html)\n",
    "* \\_spikeglx_sync -> extracted synchronisation pulses from NIDAQ\n",
    "    - [Description of datasets](https://docs.google.com/document/d/1OqIqqakPakHXRAwceYLwFY9gOrm8_P62XIfCTnHwstg/edit#)"
   ]
  },
  {
   "cell_type": "markdown",
   "metadata": {
    "collapsed": false
   },
   "source": [
    "#### Datasets in raw_ephys_data/probeXX\n",
    "The `raw_ephys_data/probeXX` folder contains the raw electrophysiology data acquired on a given probe.\n",
    "\n",
    "Note:\n",
    "* These datasets have a large data size !\n",
    "* It is possible to download only (smaller-sized) chunks of the raw ephys data, rather than the whole file at once (cf loading example below)"
   ]
  },
  {
   "cell_type": "markdown",
   "metadata": {
    "collapsed": false
   },
   "source": [
    "Browse the documentation detailing the raw ephys datasets and how to load them:\n",
    "* \\_spikeglx_ephysData\\*.ap, _spikeglx_ephysData*.lf -> raw ephys data in AP and LFP band recorded using spikeglx\n",
    "    - [Description of datasets](https://docs.google.com/document/d/1OqIqqakPakHXRAwceYLwFY9gOrm8_P62XIfCTnHwstg/edit#heading=h.ms0y69xbzova)\n",
    "    - [Loading Example](https://int-brain-lab.github.io/iblenv/notebooks_external/loading_raw_ephys_data.html)\n",
    "* ephysTimeRmsAP, ephysTimeRmsLF -> rms noise in AP and LFP band across recording\n",
    "    - [Description of datasets](https://docs.google.com/document/d/1OqIqqakPakHXRAwceYLwFY9gOrm8_P62XIfCTnHwstg/edit#)\n",
    "    - [Loading Example](https://int-brain-lab.github.io/iblenv/notebooks_external/loading_ephys_data.html)\n",
    "* ephysSpectralDensityAP, ephysSpectralDensityLF -> power spectrum in AP and LFP band\n",
    "    - [Description of datasets](https://docs.google.com/document/d/1OqIqqakPakHXRAwceYLwFY9gOrm8_P62XIfCTnHwstg/edit#heading=h.fmz3a9wvpo4)\n",
    "    - [Loading Example](https://int-brain-lab.github.io/iblenv/notebooks_external/loading_ephys_data.html)"
   ]
  },
  {
   "cell_type": "markdown",
   "metadata": {
    "collapsed": false
   },
   "source": [
    "#### Datasets in raw_video_data\n",
    "The `raw_video_data` folder contains the raw camera data for each of the camera (e.g. `Left`, `Right`, `Body`).\n",
    "\n",
    "Note:\n",
    "* These dataset have a large data size !\n",
    "* It is possible to download only selected frames of the raw video data, rather than the whole file at once (cf loading example below)\n",
    "* You can view the raw video data in the browser by clicking on it, e.g. [_iblrig_leftCamera.raw](https://ibl.flatironinstitute.org/public/mainenlab/Subjects/ZFM-01576/2020-12-01/001/raw_video_data/_iblrig_leftCamera.raw.97594869-1f00-41f4-8409-6c8d07b30314.mp4)."
   ]
  },
  {
   "cell_type": "markdown",
   "metadata": {
    "collapsed": false,
    "pycharm": {
     "name": "#%% md\n"
    }
   },
   "source": [
    "Browse the documentation detailing the raw video datasets and how to load them:\n",
    "* bodyCamera, leftCamera, rightCamera - raw video files\n",
    "    - [Description of datasets](https://docs.google.com/document/d/1OqIqqakPakHXRAwceYLwFY9gOrm8_P62XIfCTnHwstg/edit#heading=h.qsj6net9dgkb)\n",
    "    - [Loading Example](https://int-brain-lab.github.io/iblenv/notebooks_external/loading_raw_video_data.html)"
   ]
  }
 ],
 "metadata": {
  "kernelspec": {
   "display_name": "Python 3",
   "language": "python",
   "name": "python3"
  },
  "language_info": {
   "codemirror_mode": {
    "name": "ipython",
    "version": 2
   },
   "file_extension": ".py",
   "mimetype": "text/x-python",
   "name": "python",
   "nbconvert_exporter": "python",
   "pygments_lexer": "ipython2",
   "version": "2.7.6"
  }
 },
 "nbformat": 4,
 "nbformat_minor": 0
}