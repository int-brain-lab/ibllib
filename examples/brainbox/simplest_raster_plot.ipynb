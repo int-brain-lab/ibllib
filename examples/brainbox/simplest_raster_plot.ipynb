{
 "cells": [
  {
   "cell_type": "code",
   "execution_count": 6,
   "metadata": {},
   "outputs": [],
   "source": [
    "from pathlib import Path\n",
    "import numpy as np \n",
    "from brainbox.processing import bincount2D\n",
    "import matplotlib.pyplot as plt\n",
    "from oneibl.one import ONE\n",
    "import alf.io \n",
    "plt.ion()"
   ]
  },
  {
   "cell_type": "code",
   "execution_count": 3,
   "metadata": {},
   "outputs": [],
   "source": [
    "def raster_complete(R, times, Clusters):\n",
    "\n",
    "    '''\n",
    "    Plot a rasterplot for the complete recording \n",
    "    (might be slow, restrict R if so), \n",
    "    ordered by insertion depth \n",
    "    '''\n",
    "\n",
    "    plt.imshow(R, aspect='auto', cmap='binary', vmax=T_BIN / 0.001 / 4, \n",
    "               origin='lower', extent=np.r_[times[[0,-1]], Clusters[[0, -1]]])\n",
    "    \n",
    "    plt.xlabel('Time (s)')\n",
    "    plt.ylabel('Cluster #; ordered by depth')\n",
    "    plt.show()\n",
    "    \n",
    "    #plt.savefig('/home/mic/Rasters/%s.svg' %(trial_number))\n",
    "    #plt.close('all')\n",
    "    plt.tight_layout()\n",
    "    \n",
    "    "
   ]
  },
  {
   "cell_type": "code",
   "execution_count": 4,
   "metadata": {},
   "outputs": [
    {
     "name": "stdout",
     "output_type": "stream",
     "text": [
      "Connected to https://alyx.internationalbrainlab.org as michael.schartner\n"
     ]
    },
    {
     "name": "stderr",
     "output_type": "stream",
     "text": [
      "\u001b[36m2019-10-22 14:07:50.637 INFO     [webclient.py:81] Downloading: /home/mic/Downloads/FlatIron/wittenlab/Subjects/ibl_witten_04/2019-08-04/002/alf/_ibl_trials.probabilityLeft.ffd4ba38-3497-45bf-8a3f-e6c4c7151266.npy Bytes: 2416\u001b[0m\n"
     ]
    },
    {
     "name": "stdout",
     "output_type": "stream",
     "text": [
      "\r",
      " |████████████████████████████████████████████████████████████████████████████████████████████████████| 100.0% \r"
     ]
    },
    {
     "name": "stderr",
     "output_type": "stream",
     "text": [
      "\u001b[36m2019-10-22 14:07:51.7 INFO     [webclient.py:81] Downloading: /home/mic/Downloads/FlatIron/wittenlab/Subjects/ibl_witten_04/2019-08-04/002/alf/_ibl_trials.contrastRight.266e0dc3-23cd-4c69-99be-86c2dc44c54c.npy Bytes: 2416\u001b[0m\n"
     ]
    },
    {
     "name": "stdout",
     "output_type": "stream",
     "text": [
      "\r",
      " |████████████████████████████████████████████████████████████████████████████████████████████████████| 100.0% \r"
     ]
    },
    {
     "name": "stderr",
     "output_type": "stream",
     "text": [
      "\u001b[36m2019-10-22 14:07:51.375 INFO     [webclient.py:81] Downloading: /home/mic/Downloads/FlatIron/wittenlab/Subjects/ibl_witten_04/2019-08-04/002/alf/_ibl_trials.itiDuration.f8549731-d9ce-4cc3-9566-e750d00f1a0c.npy Bytes: 2416\u001b[0m\n"
     ]
    },
    {
     "name": "stdout",
     "output_type": "stream",
     "text": [
      "\r",
      " |████████████████████████████████████████████████████████████████████████████████████████████████████| 100.0% \r"
     ]
    },
    {
     "name": "stderr",
     "output_type": "stream",
     "text": [
      "\u001b[36m2019-10-22 14:07:51.743 INFO     [webclient.py:81] Downloading: /home/mic/Downloads/FlatIron/wittenlab/Subjects/ibl_witten_04/2019-08-04/002/alf/_ibl_trials.rewardVolume.630f6af2-082b-4a00-870d-c6929e55cc89.npy Bytes: 2416\u001b[0m\n"
     ]
    },
    {
     "name": "stdout",
     "output_type": "stream",
     "text": [
      "\r",
      " |████████████████████████████████████████████████████████████████████████████████████████████████████| 100.0% \r"
     ]
    },
    {
     "name": "stderr",
     "output_type": "stream",
     "text": [
      "\u001b[36m2019-10-22 14:07:52.114 INFO     [webclient.py:81] Downloading: /home/mic/Downloads/FlatIron/wittenlab/Subjects/ibl_witten_04/2019-08-04/002/alf/_ibl_trials.feedbackType.0574acb9-c7ce-4153-9d63-755904b437bb.npy Bytes: 2416\u001b[0m\n"
     ]
    },
    {
     "name": "stdout",
     "output_type": "stream",
     "text": [
      "\r",
      " |████████████████████████████████████████████████████████████████████████████████████████████████████| 100.0% \r"
     ]
    },
    {
     "name": "stderr",
     "output_type": "stream",
     "text": [
      "\u001b[36m2019-10-22 14:07:52.481 INFO     [webclient.py:81] Downloading: /home/mic/Downloads/FlatIron/wittenlab/Subjects/ibl_witten_04/2019-08-04/002/alf/_ibl_trials.contrastLeft.62bb0e9d-b3f1-484f-a11a-45ad38c20fa7.npy Bytes: 2416\u001b[0m\n"
     ]
    },
    {
     "name": "stdout",
     "output_type": "stream",
     "text": [
      "\r",
      " |████████████████████████████████████████████████████████████████████████████████████████████████████| 100.0% \r"
     ]
    },
    {
     "name": "stderr",
     "output_type": "stream",
     "text": [
      "\u001b[36m2019-10-22 14:07:52.848 INFO     [webclient.py:81] Downloading: /home/mic/Downloads/FlatIron/wittenlab/Subjects/ibl_witten_04/2019-08-04/002/alf/_ibl_trials.choice.106bc549-e270-4fde-8161-9c93e2915d63.npy Bytes: 2416\u001b[0m\n"
     ]
    },
    {
     "name": "stdout",
     "output_type": "stream",
     "text": [
      "\r",
      " |████████████████████████████████████████████████████████████████████████████████████████████████████| 100.0% \r"
     ]
    },
    {
     "name": "stderr",
     "output_type": "stream",
     "text": [
      "\u001b[36m2019-10-22 14:07:53.215 INFO     [webclient.py:81] Downloading: /home/mic/Downloads/FlatIron/wittenlab/Subjects/ibl_witten_04/2019-08-04/002/alf/_ibl_trials.goCueTrigger_times.8a674745-1ea0-4f6e-98a8-f243137b970f.npy Bytes: 2416\u001b[0m\n"
     ]
    },
    {
     "name": "stdout",
     "output_type": "stream",
     "text": [
      "\r",
      " |████████████████████████████████████████████████████████████████████████████████████████████████████| 100.0% \r"
     ]
    },
    {
     "name": "stderr",
     "output_type": "stream",
     "text": [
      "\u001b[36m2019-10-22 14:07:53.583 INFO     [webclient.py:81] Downloading: /home/mic/Downloads/FlatIron/wittenlab/Subjects/ibl_witten_04/2019-08-04/002/alf/_ibl_trials.goCue_times.b84288de-7e22-4d20-96c0-765f80cded02.npy Bytes: 2416\u001b[0m\n"
     ]
    },
    {
     "name": "stdout",
     "output_type": "stream",
     "text": [
      "\r",
      " |████████████████████████████████████████████████████████████████████████████████████████████████████| 100.0% \r"
     ]
    },
    {
     "name": "stderr",
     "output_type": "stream",
     "text": [
      "\u001b[36m2019-10-22 14:07:53.949 INFO     [webclient.py:81] Downloading: /home/mic/Downloads/FlatIron/wittenlab/Subjects/ibl_witten_04/2019-08-04/002/alf/clusters.peakChannel.88284234-3e11-4069-a655-2d3d71d3c378.npy Bytes: 2832\u001b[0m\n"
     ]
    },
    {
     "name": "stdout",
     "output_type": "stream",
     "text": [
      "\r",
      " |████████████████████████████████████████████████████████████████████████████████████████████████████| 100.0% \r"
     ]
    },
    {
     "name": "stderr",
     "output_type": "stream",
     "text": [
      "\u001b[36m2019-10-22 14:07:54.317 INFO     [webclient.py:81] Downloading: /home/mic/Downloads/FlatIron/wittenlab/Subjects/ibl_witten_04/2019-08-04/002/alf/channels.sitePositions.c2cca453-5751-49ef-93fd-b58480349db3.npy Bytes: 6064\u001b[0m\n"
     ]
    },
    {
     "name": "stdout",
     "output_type": "stream",
     "text": [
      "\r",
      " |████████████████████████████████████████████████████████████████████████████████████████████████████| 100.0% \r"
     ]
    },
    {
     "name": "stderr",
     "output_type": "stream",
     "text": [
      "\u001b[36m2019-10-22 14:07:54.685 INFO     [webclient.py:81] Downloading: /home/mic/Downloads/FlatIron/wittenlab/Subjects/ibl_witten_04/2019-08-04/002/alf/spikes.amps.44b85a71-0eec-4f57-8937-d3c0899f9d15.npy Bytes: 62505800\u001b[0m\n"
     ]
    },
    {
     "name": "stdout",
     "output_type": "stream",
     "text": [
      " |████████████████████████████████████████████████████████████████████████████████████████████████████| 100.0% \r"
     ]
    },
    {
     "name": "stderr",
     "output_type": "stream",
     "text": [
      "\u001b[36m2019-10-22 14:07:57.438 INFO     [webclient.py:81] Downloading: /home/mic/Downloads/FlatIron/wittenlab/Subjects/ibl_witten_04/2019-08-04/002/alf/channels.rawRow.d681ed43-344b-4ec9-a43b-356169a2cc8c.npy Bytes: 1624\u001b[0m\n"
     ]
    },
    {
     "name": "stdout",
     "output_type": "stream",
     "text": [
      "\r",
      " |████████████████████████████████████████████████████████████████████████████████████████████████████| 100.1% \r"
     ]
    },
    {
     "name": "stderr",
     "output_type": "stream",
     "text": [
      "\u001b[36m2019-10-22 14:07:57.806 INFO     [webclient.py:81] Downloading: /home/mic/Downloads/FlatIron/wittenlab/Subjects/ibl_witten_04/2019-08-04/002/alf/spikes.depths.7f47a7ff-b541-4c11-8cd1-945eba547196.npy Bytes: 62505800\u001b[0m\n"
     ]
    },
    {
     "name": "stdout",
     "output_type": "stream",
     "text": [
      " |████████████████████████████████████████████████████████████████████████████████████████████████████| 100.0% \r"
     ]
    },
    {
     "name": "stderr",
     "output_type": "stream",
     "text": [
      "\u001b[36m2019-10-22 14:08:00.558 INFO     [webclient.py:81] Downloading: /home/mic/Downloads/FlatIron/wittenlab/Subjects/ibl_witten_04/2019-08-04/002/alf/clusters.waveformDuration.3ec1ff33-7c8a-43bf-bbbb-14349e12df6d.npy Bytes: 914080\u001b[0m\n"
     ]
    },
    {
     "name": "stdout",
     "output_type": "stream",
     "text": [
      "\r",
      " |████████████████████████████████████████████████████████████████████████████████████████████████████| 100.0% \r"
     ]
    },
    {
     "name": "stderr",
     "output_type": "stream",
     "text": [
      "\u001b[36m2019-10-22 14:08:01.466 INFO     [webclient.py:81] Downloading: /home/mic/Downloads/FlatIron/wittenlab/Subjects/ibl_witten_04/2019-08-04/002/alf/spikes.clusters.fe68e43c-64fb-42eb-ad0f-907fda7b82f9.npy Bytes: 31252964\u001b[0m\n"
     ]
    },
    {
     "name": "stdout",
     "output_type": "stream",
     "text": [
      " |████████████████████████████████████████████████████████████████████████████████████████████████████| 100.0% \r"
     ]
    },
    {
     "name": "stderr",
     "output_type": "stream",
     "text": [
      "\u001b[36m2019-10-22 14:08:03.332 INFO     [webclient.py:81] Downloading: /home/mic/Downloads/FlatIron/wittenlab/Subjects/ibl_witten_04/2019-08-04/002/alf/clusters.depths.8b18e332-e6c8-4d15-ba41-30c43745ffa4.npy Bytes: 2832\u001b[0m\n"
     ]
    },
    {
     "name": "stdout",
     "output_type": "stream",
     "text": [
      "\r",
      " |████████████████████████████████████████████████████████████████████████████████████████████████████| 100.0% \r"
     ]
    },
    {
     "name": "stderr",
     "output_type": "stream",
     "text": [
      "\u001b[36m2019-10-22 14:08:03.703 INFO     [webclient.py:81] Downloading: /home/mic/Downloads/FlatIron/wittenlab/Subjects/ibl_witten_04/2019-08-04/002/alf/spikes.times.6a6592e2-4bed-4bac-96cc-c8be0cba4a2c.npy Bytes: 62505800\u001b[0m\n"
     ]
    },
    {
     "name": "stdout",
     "output_type": "stream",
     "text": [
      " |████████████████████████████████████████████████████████████████████████████████████████████████████| 100.0% \r"
     ]
    },
    {
     "name": "stderr",
     "output_type": "stream",
     "text": [
      "\u001b[36m2019-10-22 14:08:06.470 INFO     [webclient.py:81] Downloading: /home/mic/Downloads/FlatIron/wittenlab/Subjects/ibl_witten_04/2019-08-04/002/alf/clusters.amps.5633c772-feea-414a-a506-db201f0a1a21.tsv Bytes: 2608\u001b[0m\n"
     ]
    },
    {
     "name": "stdout",
     "output_type": "stream",
     "text": [
      "\r",
      " |████████████████████████████████████████████████████████████████████████████████████████████████████| 100.0% \r"
     ]
    }
   ],
   "source": [
    "# get data from flatiron\n",
    "one = ONE()\n",
    "eid = one.search(lab='wittenlab', date='2019-08-04')\n",
    "D = one.load(eid[0], clobber=False, download_only=True)\n",
    "alf_path = Path(D.local_path[0]).parent"
   ]
  },
  {
   "cell_type": "code",
   "execution_count": 7,
   "metadata": {},
   "outputs": [],
   "source": [
    "spikes = alf.io.load_object(alf_path, 'spikes')  "
   ]
  },
  {
   "cell_type": "code",
   "execution_count": 8,
   "metadata": {},
   "outputs": [],
   "source": [
    "# bin activity\n",
    "T_BIN = 0.01 # [sec]\n",
    "R, times, Clusters = bincount2D(spikes['times'], spikes['clusters'], T_BIN)"
   ]
  },
  {
   "cell_type": "code",
   "execution_count": 9,
   "metadata": {},
   "outputs": [],
   "source": [
    "# Order activity by anatomical depth of neurons\n",
    "d=dict(zip(spikes['clusters'],spikes['depths']))\n",
    "y=sorted([[i,d[i]] for i in d])\n",
    "isort=np.argsort([x[1] for x in y])\n",
    "R=R[isort,:]"
   ]
  },
  {
   "cell_type": "code",
   "execution_count": 13,
   "metadata": {},
   "outputs": [
    {
     "data": {
      "text/plain": [
       "(323, 298091)"
      ]
     },
     "execution_count": 13,
     "metadata": {},
     "output_type": "execute_result"
    }
   ],
   "source": [
    "# Check the number of clusters x number of time bins\n",
    "R.shape"
   ]
  },
  {
   "cell_type": "code",
   "execution_count": 10,
   "metadata": {},
   "outputs": [
    {
     "data": {
      "image/png": "[encoded data removed]",
      "text/plain": [
       "<Figure size 432x288 with 1 Axes>"
      ]
     },
     "metadata": {
      "needs_background": "light"
     },
     "output_type": "display_data"
    },
    {
     "data": {
      "text/plain": [
       "<Figure size 432x288 with 0 Axes>"
      ]
     },
     "metadata": {},
     "output_type": "display_data"
    }
   ],
   "source": [
    "# get a raster plot for the complete recording\n",
    "raster_complete(R, times, Clusters)"
   ]
  },
  {
   "cell_type": "code",
   "execution_count": 14,
   "metadata": {},
   "outputs": [],
   "source": [
    "# For selecting a subsection of the plot and saving the image, \n",
    "# run the .py file of this script (raster_plot.py) and use the interactive plotting GUI tools\n",
    "# for zooming and saving. "
   ]
  },
  {
   "cell_type": "code",
   "execution_count": null,
   "metadata": {},
   "outputs": [],
   "source": []
  }
 ],
 "metadata": {
  "kernelspec": {
   "display_name": "Python (iblenv)",
   "language": "python",
   "name": "iblenv"
  },
  "language_info": {
   "codemirror_mode": {
    "name": "ipython",
    "version": 3
   },
   "file_extension": ".py",
   "mimetype": "text/x-python",
   "name": "python",
   "nbconvert_exporter": "python",
   "pygments_lexer": "ipython3",
   "version": "3.7.4"
  }
 },
 "nbformat": 4,
 "nbformat_minor": 2
}
