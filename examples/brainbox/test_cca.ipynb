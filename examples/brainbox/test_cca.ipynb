{
 "cells": [
  {
   "cell_type": "code",
   "execution_count": 10,
   "metadata": {},
   "outputs": [],
   "source": [
    "import alf.io as ioalf\n",
    "from brainbox.population.cca import *\n",
    "import matplotlib.pylab as plt\n",
    "\n",
    "BIN_SIZE = 0.025  # seconds\n",
    "SMOOTH_SIZE = 0.025  # seconds; standard deviation of gaussian kernel\n",
    "PCA_DIMS = 4\n",
    "CCA_DIMS = PCA_DIMS\n",
    "N_SPLITS = 5\n",
    "RNG_SEED = 0"
   ]
  },
  {
   "cell_type": "code",
   "execution_count": 1,
   "metadata": {},
   "outputs": [
    {
     "name": "stderr",
     "output_type": "stream",
     "text": [
      "\u001b[01;33m2019-09-05 16:26:17.649 WARNING  [io.py:205] Inconsistent dimensions for object:clusters\n",
      "(1235,),    amps\n",
      "(1235, 1),    brainAcronyms\n",
      "(1235,),    depths\n",
      "(1235, 3),    mlapdv\n",
      "(1235,),    peakChannel\n",
      "(1235,),    probes\n",
      "(1235, 82, 748),    templateWaveforms\n",
      "(1235, 1235),    waveformDuration\u001b[0m\n"
     ]
    }
   ],
   "source": [
    "# get the data from flatiron\n",
    "# subject = 'ZM_1735'\n",
    "# date = '2019-08-01'\n",
    "# number = 1\n",
    "\n",
    "# one = ONE()\n",
    "# eid = one.search(subject=subject, date=date, number=number)\n",
    "# D = one.load(eid[0], download_only=True)\n",
    "# session_path = Path(D.local_path[0]).parent\n",
    "# session_path = \"/home/hmvergara/Downloads/FlatIron/mnt/s0/Data/Subjects/ZM_1735/2019-08-01/001/alf/\"\n",
    "session_path = \"/home/hmvergara/Downloads/FlatIron/KS005/2019-08-29/001/alf/\"\n",
    "spikes = ioalf.load_object(session_path, 'spikes')\n",
    "clusters = ioalf.load_object(session_path, 'clusters')\n",
    "# channels = ioalf.load_object(session_path, 'channels')\n",
    "trials = ioalf.load_object(session_path, '_ibl_trials')"
   ]
  },
  {
   "cell_type": "code",
   "execution_count": 45,
   "metadata": {},
   "outputs": [
    {
     "data": {
      "text/plain": [
       "<matplotlib.axes._subplots.AxesSubplot at 0x7f5a1b321ad0>"
      ]
     },
     "execution_count": 45,
     "metadata": {},
     "output_type": "execute_result"
    },
    {
     "data": {
      "image/png": "[encoded data removed]",
      "text/plain": [
       "<Figure size 432x288 with 1 Axes>"
      ]
     },
     "metadata": {
      "needs_background": "light"
     },
     "output_type": "display_data"
    }
   ],
   "source": [
    "# bin spikes and get trial IDs associated with them\n",
    "binned_spikes, binned_trialIDs = bin_spikes_trials(spikes, trials, T_BIN=0.01)\n",
    "\n",
    "# extract 2 populations\n",
    "data = [binned_spikes[:100, :].T, binned_spikes[100:200, :].T]\n",
    "\n",
    "# preprocess data\n",
    "for i, pop in enumerate(data):\n",
    "    data[i] = preprocess(pop, n_pcs=PCA_DIMS, smoothing_sd=SMOOTH_SIZE)\n",
    "\n",
    "# split trials\n",
    "idxs_trial = split_trials(np.unique(binned_trialIDs), n_splits=N_SPLITS, rng_seed=RNG_SEED)\n",
    "# get train/test indices into spike arrays\n",
    "idxs_time = split_timepoints(binned_trialIDs, idxs_trial)\n",
    "\n",
    "# fit cca\n",
    "cca = fit_cca(\n",
    "    data[0][idxs_time['train'], :], data[1][idxs_time['train'], :], n_cca_dims=CCA_DIMS)\n",
    "\n",
    "# plot cca correlations\n",
    "corrs = get_correlations(cca, data[0][idxs_time['test'], :], data[1][idxs_time['test'], :])\n",
    "plot_correlations(corrs)"
   ]
  },
  {
   "cell_type": "code",
   "execution_count": 7,
   "metadata": {},
   "outputs": [],
   "source": [
    "## Generate a matrix of correlations (biggest correlation found) between all pairwise areas\n",
    "# bin spikes and get trial IDs associated with them\n",
    "binned_spikes, binned_trialIDs = bin_spikes_trials(spikes, trials, T_BIN=0.01)\n",
    "# split trials\n",
    "idxs_trial = split_trials(np.unique(binned_trialIDs), n_splits=N_SPLITS, rng_seed=RNG_SEED)\n",
    "# get train/test indices into spike arrays\n",
    "idxs_time = split_timepoints(binned_trialIDs, idxs_trial)\n",
    "# Define areas\n",
    "brain_areas = np.unique(clusters.brainAcronyms)\n",
    "# [subset for testing] DELETE\n",
    "#brain_areas = brain_areas[1:4]"
   ]
  },
  {
   "cell_type": "code",
   "execution_count": 8,
   "metadata": {},
   "outputs": [],
   "source": [
    "# Split/create populations\n",
    "# bin_spikes_trials does not return info for innactive clusters\n",
    "active_clusters = np.unique(spikes['clusters'])\n",
    "split_binned_spikes = split_by_area(binned_spikes, clusters.brainAcronyms,\n",
    "                                    active_clusters, brain_areas)"
   ]
  },
  {
   "cell_type": "code",
   "execution_count": 13,
   "metadata": {},
   "outputs": [
    {
     "data": {
      "image/png": "[encoded data removed]",
      "text/plain": [
       "<Figure size 432x288 with 1 Axes>"
      ]
     },
     "metadata": {
      "needs_background": "light"
     },
     "output_type": "display_data"
    }
   ],
   "source": [
    "# plot a histogram of the number of neurons per region\n",
    "clusters_per_brain_areas = [len(i) for i in split_binned_spikes]\n",
    "plt.hist(clusters_per_brain_areas, bins=len(split_binned_spikes))\n",
    "plt.show()"
   ]
  },
  {
   "cell_type": "code",
   "execution_count": 25,
   "metadata": {},
   "outputs": [],
   "source": [
    "brain_areas = np.unique(clusters.brainAcronyms)"
   ]
  },
  {
   "cell_type": "code",
   "execution_count": 26,
   "metadata": {},
   "outputs": [
    {
     "data": {
      "text/plain": [
       "array(['APN', 'MRN', 'ProS', 'dhc', 'fp'], dtype=object)"
      ]
     },
     "execution_count": 26,
     "metadata": {},
     "output_type": "execute_result"
    }
   ],
   "source": [
    "# select brain areas based on size of clusters and redo\n",
    "cutoff = 60\n",
    "brain_areas = brain_areas[np.array(clusters_per_brain_areas) > cutoff]\n",
    "brain_areas"
   ]
  },
  {
   "cell_type": "code",
   "execution_count": 27,
   "metadata": {},
   "outputs": [],
   "source": [
    "# for testing\n",
    "brain_areas = brain_areas[1:4]"
   ]
  },
  {
   "cell_type": "code",
   "execution_count": 28,
   "metadata": {},
   "outputs": [
    {
     "name": "stdout",
     "output_type": "stream",
     "text": [
      "0 / 1\n",
      "0 / 2\n",
      "1 / 2\n"
     ]
    }
   ],
   "source": [
    "# Create empty \"matrix\" to store cca objects\n",
    "cca_mat = [[None for _ in range(len(brain_areas))] for _ in range(len(brain_areas))]\n",
    "\n",
    "# For each pair of populations:\n",
    "for i in range(len(brain_areas)):\n",
    "    pop1 = split_binned_spikes[i].T\n",
    "    for j in range(len(brain_areas)):\n",
    "        if j > i:\n",
    "            pop2 = split_binned_spikes[j].T\n",
    "            # fit cca\n",
    "            cca = fit_cca(\n",
    "                pop1[idxs_time['train'], :], pop2[idxs_time['train'], :], n_cca_dims=CCA_DIMS)\n",
    "            # populate matrix\n",
    "            cca_mat[i][j] = cca\n",
    "            # print progress\n",
    "            print(\"{} / {}\".format(i, j))\n",
    "\n",
    "# Plot matrix"
   ]
  },
  {
   "cell_type": "code",
   "execution_count": 52,
   "metadata": {},
   "outputs": [
    {
     "data": {
      "image/png": "[encoded data removed]",
      "text/plain": [
       "<Figure size 1440x1440 with 9 Axes>"
      ]
     },
     "metadata": {
      "needs_background": "light"
     },
     "output_type": "display_data"
    }
   ],
   "source": [
    "fig, axs = plt.subplots(len(cca_mat), len(cca_mat), figsize=(20,20))\n",
    "#axs = axs.ravel()\n",
    "# For each pair of populations:\n",
    "for i in range(len(brain_areas)):\n",
    "    pop1 = split_binned_spikes[i].T\n",
    "    for j in range(len(brain_areas)):\n",
    "        if j > i:\n",
    "            pop2 = split_binned_spikes[j].T\n",
    "            cca = cca_mat[i][j]\n",
    "            corrs = get_correlations(cca, pop1[idxs_time['test'], :], pop2[idxs_time['test'], :])\n",
    "            plot_correlations(corrs, ax=axs[i,j])\n",
    "            "
   ]
  },
  {
   "cell_type": "code",
   "execution_count": 53,
   "metadata": {},
   "outputs": [
    {
     "data": {
      "text/plain": [
       "array([], dtype=float64)"
      ]
     },
     "execution_count": 53,
     "metadata": {},
     "output_type": "execute_result"
    }
   ],
   "source": [
    "corrs"
   ]
  },
  {
   "cell_type": "code",
   "execution_count": 55,
   "metadata": {},
   "outputs": [
    {
     "data": {
      "text/plain": [
       "array([[ 0.08563813, -0.03149587, -0.03261099,  0.14517447],\n",
       "       [ 0.00448883,  0.11603699, -0.15259559, -0.02039569],\n",
       "       [-0.0024175 , -0.02887181,  0.01902685, -0.01609408],\n",
       "       [ 0.00273811,  0.43467314, -0.18589081,  0.03294841],\n",
       "       [ 0.03959231, -0.15982196, -0.10222908,  0.3298401 ],\n",
       "       [ 0.00229836,  0.06188066, -0.22803984,  0.09844801],\n",
       "       [ 0.06044926,  0.00239072, -0.21720226,  0.12705204],\n",
       "       [-0.01929744, -0.04236043,  0.02210209,  0.12198154],\n",
       "       [-0.00826469,  0.14986998, -0.00389171, -0.06049296],\n",
       "       [ 0.01153725,  0.04770261,  0.27327455, -0.00912408],\n",
       "       [ 0.01135581,  0.19492001,  0.02787018, -0.03287718],\n",
       "       [ 0.00404134,  0.54017275, -0.05919955,  0.14612371],\n",
       "       [ 0.04954342, -0.19615283,  0.10893968, -0.32203872],\n",
       "       [ 0.01800141,  0.03509569,  0.04578216,  0.11100221],\n",
       "       [-0.02966641, -0.12341256, -0.16885372,  0.01822285],\n",
       "       [-0.03117881, -0.02363782, -0.26750001, -0.08153614],\n",
       "       [ 0.0405739 , -0.15389262,  0.10212861,  0.23900368],\n",
       "       [-0.01984384, -0.36886876, -0.11295443,  0.12385557],\n",
       "       [ 0.00846289,  0.03565155,  0.13678055,  0.02091997],\n",
       "       [ 0.01709703, -0.03143004,  0.1913227 , -0.13980439],\n",
       "       [ 0.00431515,  0.11940244,  0.0222554 ,  0.13724029],\n",
       "       [ 0.03907914, -0.05622179,  0.02561535,  0.19217439],\n",
       "       [ 0.01668033, -0.0982253 ,  0.06551728,  0.07559239],\n",
       "       [ 0.01032015, -0.02151517,  0.00858309,  0.03684778],\n",
       "       [ 0.02629008, -0.05993202,  0.0388054 , -0.10809475],\n",
       "       [ 0.00530506, -0.00207625, -0.07694536,  0.03820214],\n",
       "       [ 0.00388861,  0.19336612, -0.01659302,  0.17538176],\n",
       "       [ 0.87929205, -0.09652951, -0.29883006, -0.10150402],\n",
       "       [ 0.02496331,  0.13300461,  0.22160119,  0.11480522],\n",
       "       [ 0.00187438, -0.06717456, -0.10100998,  0.08605333],\n",
       "       [ 0.00662686, -0.03495226, -0.00394065,  0.05680263],\n",
       "       [ 0.14818938,  0.07014719,  0.29737292,  0.41408533],\n",
       "       [ 0.01570928,  0.07518102,  0.03517205,  0.06682198],\n",
       "       [-0.00573934, -0.00481512, -0.00635385,  0.01270703],\n",
       "       [ 0.05181844, -0.00179501,  0.30748308,  0.17754169],\n",
       "       [ 0.02744731,  0.04358466,  0.16136014,  0.11012056],\n",
       "       [ 0.0058377 ,  0.09379275,  0.01322326,  0.08952719],\n",
       "       [ 0.11725815, -0.03851354,  0.00835577,  0.16024411],\n",
       "       [ 0.07908747, -0.00404682,  0.00482069, -0.0294152 ],\n",
       "       [ 0.13668644,  0.12294953,  0.01080813, -0.01771975],\n",
       "       [ 0.01058357,  0.0338035 ,  0.06603073,  0.02294682],\n",
       "       [ 0.06781772, -0.00364133,  0.03336338, -0.1393007 ],\n",
       "       [ 0.24007671,  0.10255936,  0.37427439, -0.13999364],\n",
       "       [-0.0074596 , -0.0144589 , -0.0255216 , -0.0014305 ],\n",
       "       [ 0.01286992,  0.01191629, -0.02043896,  0.0507706 ],\n",
       "       [-0.01274148,  0.05100507, -0.01293502,  0.0600847 ],\n",
       "       [ 0.15496402, -0.007367  ,  0.01199637, -0.19245451],\n",
       "       [ 0.05368713,  0.07479455, -0.00580791,  0.07062516],\n",
       "       [-0.03049809,  0.18345828, -0.04958043,  0.06683191],\n",
       "       [ 0.0092748 ,  0.0378034 ,  0.14195232,  0.02280276],\n",
       "       [ 0.21935778,  0.00433061,  0.14455048, -0.34868299]])"
      ]
     },
     "execution_count": 55,
     "metadata": {},
     "output_type": "execute_result"
    }
   ],
   "source": [
    "cca.x_rotations_"
   ]
  },
  {
   "cell_type": "code",
   "execution_count": null,
   "metadata": {},
   "outputs": [],
   "source": []
  }
 ],
 "metadata": {
  "kernelspec": {
   "display_name": "Python (ibllib)",
   "language": "python",
   "name": "ibllib"
  },
  "language_info": {
   "codemirror_mode": {
    "name": "ipython",
    "version": 3
   },
   "file_extension": ".py",
   "mimetype": "text/x-python",
   "name": "python",
   "nbconvert_exporter": "python",
   "pygments_lexer": "ipython3",
   "version": "3.7.4"
  }
 },
 "nbformat": 4,
 "nbformat_minor": 2
}
