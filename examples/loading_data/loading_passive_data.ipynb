{
 "cells": [
  {
   "cell_type": "markdown",
   "id": "5683982d",
   "metadata": {},
   "source": [
    "# Loading Passive Data"
   ]
  },
  {
   "cell_type": "code",
   "execution_count": null,
   "id": "6b2485da",
   "metadata": {
    "nbsphinx": "hidden"
   },
   "outputs": [],
   "source": [
    "# Turn off logging, this is a hidden cell on docs page\n",
    "import logging\n",
    "logger = logging.getLogger('ibllib')\n",
    "logger.setLevel(logging.CRITICAL)"
   ]
  },
  {
   "cell_type": "markdown",
   "id": "16345774",
   "metadata": {},
   "source": [
    "Passive stimuli related events. The passive protocol is split into three sections\n",
    "1. Spontaneous activity (SP)\n",
    "2. Receptive Field Mapping (RFM)\n",
    "3. Task replay (TR)"
   ]
  },
  {
   "cell_type": "markdown",
   "id": "8d62c890",
   "metadata": {},
   "source": [
    "## Relevant datasets\n",
    "* passivePeriods.intervalsTable.csv (SP)\n",
    "* passiveRFM.times.npy (RFM)\n",
    "* \\_iblrig_RFMapStim.raw.bin (RFM)\n",
    "* passiveGabor.table.csv (TR - visual)\n",
    "* passiveStims.table.csv (TR - auditory)\n"
   ]
  },
  {
   "cell_type": "markdown",
   "id": "bc23fdf7",
   "metadata": {},
   "source": [
    "## Loading"
   ]
  },
  {
   "cell_type": "markdown",
   "id": "9103084d",
   "metadata": {},
   "source": [
    "### Loading spontaneous activity"
   ]
  },
  {
   "cell_type": "code",
   "execution_count": null,
   "id": "2b807296",
   "metadata": {
    "ibl_execute": false
   },
   "outputs": [],
   "source": [
    "from one.api import ONE\n",
    "one = ONE()\n",
    "eid = '4ecb5d24-f5cc-402c-be28-9d0f7cb14b3a'\n",
    "\n",
    "passive_times = one.load_dataset(eid, '*passivePeriods*', collection='alf')\n",
    "SP_times = passive_times['spontaneousActivity']"
   ]
  },
  {
   "cell_type": "markdown",
   "id": "203d23c1",
   "metadata": {},
   "source": [
    "### Loading recpetive field mapping"
   ]
  },
  {
   "cell_type": "code",
   "execution_count": null,
   "id": "811e3533",
   "metadata": {
    "ibl_execute": false
   },
   "outputs": [],
   "source": [
    "from brainbox.io.one import load_passive_rfmap\n",
    "\n",
    "RFMap = load_passive_rfmap(eid, one=one)"
   ]
  },
  {
   "cell_type": "markdown",
   "id": "5b6bf3fb",
   "metadata": {},
   "source": [
    "### Loading task replay"
   ]
  },
  {
   "cell_type": "code",
   "execution_count": null,
   "id": "c65f1ca8",
   "metadata": {
    "ibl_execute": false
   },
   "outputs": [],
   "source": [
    "# Load visual stimulus task replay events\n",
    "visual_TR = one.load_dataset(eid, '*passiveGabor*', collection='alf')\n",
    "\n",
    "# Load auditory stimulus task replay events\n",
    "auditory_TR = one.load_dataset(eid, '*passiveStims*', collection='alf')"
   ]
  },
  {
   "cell_type": "markdown",
   "id": "bef6702e",
   "metadata": {},
   "source": [
    "## More details\n",
    "* [Description of passive datasets](https://docs.google.com/document/d/1OqIqqakPakHXRAwceYLwFY9gOrm8_P62XIfCTnHwstg/edit#heading=h.81i06nkedtbe)\n",
    "* [Decsription of passive protocol](https://docs.google.com/document/d/1PkN_-jWXBLAWbONWXVa2JZh3D9tfurNGsXh422dUxMo/edit#heading=h.fiffmd82uci7)"
   ]
  },
  {
   "cell_type": "markdown",
   "id": "4e9dd4b9",
   "metadata": {},
   "source": [
    "## Useful modules\n",
    "* [brainbox.io.one](https://int-brain-lab.github.io/iblenv/_autosummary/brainbox.io.one.html#brainbox.io.one.load_passive_rfmap)\n",
    "* [brainbox.task.passive](https://int-brain-lab.github.io/iblenv/_autosummary/brainbox.task.passive.html)\n",
    "* [ibllib.io.extractors.extract_passive](https://int-brain-lab.github.io/iblenv/_autosummary/ibllib.io.extractors.ephys_passive.html#module-ibllib.io.extractors.ephys_passive)"
   ]
  },
  {
   "cell_type": "markdown",
   "id": "4ad23565",
   "metadata": {},
   "source": [
    "## Exploring passive data"
   ]
  },
  {
   "cell_type": "markdown",
   "id": "92df091a",
   "metadata": {},
   "source": [
    "### Example 1: Compute firing rate for each cluster during spontaneous activity"
   ]
  },
  {
   "cell_type": "code",
   "execution_count": null,
   "id": "7552f7c5",
   "metadata": {
    "ibl_execute": false
   },
   "outputs": [],
   "source": [
    "# Find first probe insertion for session\n",
    "pid = one.alyx.rest('insertions', 'list', session=eid)[0]['id']\n",
    "\n",
    "from brainbox.io.one import SpikeSortingLoader\n",
    "from ibllib.atlas import AllenAtlas\n",
    "import numpy as np\n",
    "ba = AllenAtlas()\n",
    "\n",
    "# Load in spikesorting\n",
    "sl = SpikeSortingLoader(pid=pid, one=one, atlas=ba)\n",
    "spikes, clusters, channels = sl.load_spike_sorting()\n",
    "clusters = sl.merge_clusters(spikes, clusters, channels)\n",
    "\n",
    "# Find spike times during spontaneous activity\n",
    "SP_idx = np.bitwise_and(spikes['times'] >= SP_times[0], spikes['times'] <= SP_times[1])\n",
    "\n",
    "# Count the number of clusters during SP time period and compute firing rate\n",
    "from brainbox.population.decode import get_spike_counts_in_bins\n",
    "counts, cluster_ids = get_spike_counts_in_bins(spikes['times'][SP_idx], spikes['clusters'][SP_idx], \n",
    "                                               np.c_[SP_times[0], SP_times[1]])\n",
    "fr = counts / (SP_times[1] - SP_times[0])"
   ]
  },
  {
   "cell_type": "markdown",
   "id": "4942328f",
   "metadata": {},
   "source": [
    "### Example 2: Find RFM stimulus positions and timepoints"
   ]
  },
  {
   "cell_type": "code",
   "execution_count": null,
   "id": "eebdc9af",
   "metadata": {
    "ibl_execute": false
   },
   "outputs": [],
   "source": [
    "# Find out at what times each voxel on the screen was turned 'on' (grey to white) or turned 'off' (grey to black)\n",
    "from brainbox.task.passive import get_on_off_times_and_positions\n",
    "\n",
    "RF_frame_times, RF_frame_pos, RF_frame_stim = get_on_off_times_and_positions(RFMap)\n",
    "\n",
    "# Find times where pixel at location x=1, y=4 on display was turned 'on'\n",
    "pixel_idx = np.bitwise_and(RF_frame_pos[:, 0] == 1, RF_frame_pos[:, 1] == 4)\n",
    "stim_on_frames = RF_frame_stim['on'][pixel_idx]\n",
    "stim_on_times = RF_frame_times[stim_on_frames[0][0]]"
   ]
  },
  {
   "cell_type": "markdown",
   "id": "ae7b6c15",
   "metadata": {},
   "source": [
    "## Other relevant examples\n",
    "* COMING SOON"
   ]
  }
 ],
 "metadata": {
  "celltoolbar": "Edit Metadata",
  "kernelspec": {
   "display_name": "Python [conda env:iblenv] *",
   "language": "python",
   "name": "conda-env-iblenv-py"
  },
  "language_info": {
   "codemirror_mode": {
    "name": "ipython",
    "version": 3
   },
   "file_extension": ".py",
   "mimetype": "text/x-python",
   "name": "python",
   "nbconvert_exporter": "python",
   "pygments_lexer": "ipython3",
   "version": "3.9.7"
  }
 },
 "nbformat": 4,
 "nbformat_minor": 5
}