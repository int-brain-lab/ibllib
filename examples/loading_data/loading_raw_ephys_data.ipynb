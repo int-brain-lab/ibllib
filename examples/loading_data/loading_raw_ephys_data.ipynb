{
 "cells": [
  {
   "cell_type": "markdown",
   "id": "fffbc4ee",
   "metadata": {},
   "source": [
    "# Loading Raw Ephys Data (AP and LFP band)"
   ]
  },
  {
   "cell_type": "code",
   "execution_count": null,
   "id": "a6ec1974",
   "metadata": {
    "nbsphinx": "hidden"
   },
   "outputs": [],
   "source": [
    "# Turn off logging, this is a hidden cell on docs page\n",
    "import logging\n",
    "logger = logging.getLogger('ibllib')\n",
    "logger.setLevel(logging.CRITICAL)"
   ]
  },
  {
   "cell_type": "markdown",
   "id": "2de85fd2",
   "metadata": {},
   "source": [
    "Raw electrophysiology data recorded using spikeglx and compressed using mtscomp"
   ]
  },
  {
   "cell_type": "markdown",
   "id": "0bbad5e1",
   "metadata": {},
   "source": [
    "## Relevant datasets\n",
    "The raw data comprises 3 files:\n",
    "* `\\_spikeglx_ephysData*.cbin` the compressed raw binary\n",
    "* `\\_spikeglx_ephysData*.meta` the metadata file from spikeglx\n",
    "* `\\_spikeglx_ephysData*.ch` the compression header containing chunks address in the file\n",
    "\n",
    "The raw data is compressed with a lossless compression algorithm in chunks of 1 second each. This allows to retrieve parts of the data without having to uncompress the whole file. We recommend using the `spikeglx.Reader` module from [ibl-neuropixel repository](https://github.com/int-brain-lab/ibl-neuropixel)\n",
    "\n",
    "Full information about the compression and tool in [mtscomp repository](https://github.com/int-brain-lab/mtscomp)"
   ]
  },
  {
   "cell_type": "markdown",
   "id": "bb97cb8f",
   "metadata": {},
   "source": [
    "## Loading"
   ]
  },
  {
   "cell_type": "markdown",
   "id": "b51ffc0f",
   "metadata": {},
   "source": [
    "### Option 1: Stream snippets of raw ephys data\n",
    "This is a useful option if you are interested to perform analysis on a chunk of data of smaller duration than the whole recording, as it will take less time to download. Data snippets can be loaded in chunks of 1-second, i.e. you can load at minimum 1 second of raw data, and any multiplier of such chunk length (for example 4 or 92 seconds)."
   ]
  },
  {
   "cell_type": "code",
   "execution_count": null,
   "id": "68605764",
   "metadata": {},
   "outputs": [],
   "source": [
    "from one.api import ONE\n",
    "from brainbox.io.spikeglx import Streamer\n",
    "\n",
    "one = ONE()\n",
    "\n",
    "pid = 'da8dfec1-d265-44e8-84ce-6ae9c109b8bd'\n",
    "\n",
    "time0 = 100 # timepoint in recording to stream\n",
    "time_win = 1 # number of seconds to stream\n",
    "band = 'ap' # either 'ap' or 'lf'\n",
    "\n",
    "sr = Streamer(pid=pid, one=one, remove_cached=False, typ=band)\n",
    "s0 = time0 * sr.fs\n",
    "tsel = slice(int(s0), int(s0) + int(time_win * sr.fs))\n",
    "\n",
    "# Important: remove sync channel from raw data, and transpose\n",
    "raw = sr[tsel, :-sr.nsync].T"
   ]
  },
  {
   "cell_type": "markdown",
   "id": "d7a5103c",
   "metadata": {},
   "source": [
    "<div class=\"alert alert-info\">\n",
    "Note:\n",
    "\n",
    "- the transpose (`.T`) for internal representation of the `raw` data. On disk, the data is sorted by time sample first, channel second; this is not desirable for pre-processing as time samples are not contiguous.This is why our internal representation for the raw data (i.e. dimensions used when working with such data) is `[number of channels, number of samples]`, in Python c-ordering, the time samples are contiguous in memory.\n",
    "\n",
    "- the raw data will contain the synching channels (i.e. the voltage information contained on the analog and digital DAQ channels, that mark events in the task notably). You need to remove them before wanting to use solely the raw ephys data (e.g. for plotting or exploring).\n",
    "\n",
    "</div>"
   ]
  },
  {
   "cell_type": "markdown",
   "id": "eb72b4bb",
   "metadata": {},
   "source": [
    "### Option 2: Download all of raw ephys data"
   ]
  },
  {
   "cell_type": "markdown",
   "id": "3c5984dc",
   "metadata": {},
   "source": [
    "<div class=\"alert alert-warning\">\n",
    "Warning.\n",
    "\n",
    "The raw ephys data is very large and downloading will take a long period of time.\n",
    "\n",
    "\n",
    "</div>"
   ]
  },
  {
   "cell_type": "code",
   "execution_count": null,
   "id": "60857f5f",
   "metadata": {
    "ibl_execute": false
   },
   "outputs": [],
   "source": [
    "from one.api import ONE\n",
    "import spikeglx\n",
    "one = ONE()\n",
    "\n",
    "pid = 'da8dfec1-d265-44e8-84ce-6ae9c109b8bd'\n",
    "eid, probe = one.pid2eid(pid)\n",
    "\n",
    "band = 'ap' # either 'ap','lf'\n",
    "\n",
    "# Find the relevant datasets and download them\n",
    "dsets = one.list_datasets(eid, collection=f'raw_ephys_data/{probe}', filename='*.lf.*')\n",
    "data_files, _ = one.load_datasets(eid, dsets, download_only=True)\n",
    "bin_file = next(df for df in data_files if df.suffix == '.cbin')\n",
    "\n",
    "# Use spikeglx reader to read in the whole raw data\n",
    "sr = spikeglx.Reader(bin_file)\n",
    "print(sr.shape)"
   ]
  },
  {
   "cell_type": "markdown",
   "id": "0a8b24db",
   "metadata": {},
   "source": [
    "## More details\n",
    "* [Details of raw ap datasets](https://docs.google.com/document/d/1OqIqqakPakHXRAwceYLwFY9gOrm8_P62XIfCTnHwstg/edit#heading=h.ms0y69xbzova)\n",
    "* [Details of raw lfp datasets](https://docs.google.com/document/d/1OqIqqakPakHXRAwceYLwFY9gOrm8_P62XIfCTnHwstg/edit#heading=h.nct1c3j9tedk)\n",
    "* [Details of mtscomp compression algorithm](https://github.com/int-brain-lab/mtscomp#readme)\n",
    "* [Spikesorting white paper](https://figshare.com/articles/online_resource/Spike_sorting_pipeline_for_the_International_Brain_Laboratory/19705522)"
   ]
  },
  {
   "cell_type": "markdown",
   "id": "edd9d729",
   "metadata": {},
   "source": [
    "## Useful modules\n",
    "* [ibllib.io.spikeglx](https://int-brain-lab.github.io/ibl-neuropixel/_autosummary/spikeglx.html)\n",
    "* [ibllib.voltage.dsp](https://int-brain-lab.github.io/ibl-neuropixel/_autosummary/neurodsp.voltage.html)\n",
    "* [brainbox.io.spikeglx.stream](https://int-brain-lab.github.io/iblenv/_autosummary/brainbox.io.spikeglx.html#brainbox.io.spikeglx.stream)\n",
    "* [viewephys](https://github.com/oliche/viewephys) to visualise raw data snippets (Note: this package is not within `ibllib` but standalone)"
   ]
  },
  {
   "cell_type": "markdown",
   "id": "c828ea0e",
   "metadata": {},
   "source": [
    "## Exploring raw ephys data"
   ]
  },
  {
   "cell_type": "markdown",
   "id": "ddeefc5a",
   "metadata": {},
   "source": [
    "### Example 1: Destripe AP data\n",
    "This is very important to do prior to using the raw data, as it removes artifacts (see our [Spikesorting white paper](https://figshare.com/articles/online_resource/Spike_sorting_pipeline_for_the_International_Brain_Laboratory/19705522) for details)."
   ]
  },
  {
   "cell_type": "code",
   "execution_count": null,
   "id": "ab22d54d",
   "metadata": {},
   "outputs": [],
   "source": [
    "from neurodsp.voltage import destripe\n",
    "# Reminder : If not done before, remove first the sync channel from raw data\n",
    "# Apply destriping algorithm to data\n",
    "destriped = destripe(raw, fs=sr.fs)"
   ]
  },
  {
   "cell_type": "markdown",
   "id": "2a317098",
   "metadata": {
    "pycharm": {
     "name": "#%% md\n"
    }
   },
   "source": [
    "To view and explore the raw ephys data, we recommend you use the [viewephys tool](https://github.com/oliche/viewephys)."
   ]
  },
  {
   "cell_type": "code",
   "execution_count": null,
   "id": "e6e079f2",
   "metadata": {
    "ibl_execute": false
   },
   "outputs": [],
   "source": [
    "%gui qt\n",
    "from viewephys.gui import viewephys\n",
    "v_raw = viewephys(raw, fs=sr.fs)\n",
    "v_des = viewephys(destriped, fs=sr.fs)\n",
    "# You will then be able to zoom in, adjust the gain etc - see README for details"
   ]
  },
  {
   "cell_type": "markdown",
   "id": "e903979d",
   "metadata": {
    "pycharm": {
     "name": "#%% md\n"
    }
   },
   "source": [
    "For the sake of presenting the data pre and post destriping as part of this tutorial, we are using an alternative plotting method (`matplotlib`)."
   ]
  },
  {
   "cell_type": "code",
   "execution_count": null,
   "id": "913ccacf",
   "metadata": {
    "pycharm": {
     "name": "#%%\n"
    }
   },
   "outputs": [],
   "source": [
    "from ibllib.plots import Density\n",
    "import matplotlib.pyplot as plt\n",
    "\n",
    "DISPLAY_TIME = 0.05  # second\n",
    "SAMPLE_SKIP = 200  # Skip beginning for show, otherwise blurry due to filtering edge effect\n",
    "MIN_X = -0.00011\n",
    "MAX_X = -MIN_X\n",
    "\n",
    "# Shorten and transpose the data for plotting\n",
    "X = destriped[:, :int(DISPLAY_TIME * sr.fs)].T\n",
    "Xs = X[SAMPLE_SKIP:].T  # Remove artifact at begining\n",
    "Tplot = Xs.shape[1]/sr.fs\n",
    "\n",
    "X_raw = raw[:, :int(DISPLAY_TIME * sr.fs)].T\n",
    "Xs_raw = X_raw[SAMPLE_SKIP:].T  # Remove artifact at begining\n",
    "\n",
    "# Plot\n",
    "fig, axs = plt.subplots(nrows=1, ncols=2)\n",
    "\n",
    "i_plt = 0\n",
    "d0 = Density(-Xs_raw, fs=sr.fs, taxis=1, ax=axs[i_plt],  vmin=MIN_X, vmax=MAX_X, cmap='Greys')\n",
    "axs[i_plt].title.set_text('Raw ephys data')\n",
    "axs[i_plt].set_xlim((0, Tplot * 1e3))\n",
    "axs[i_plt].set_ylabel('Channels')\n",
    "\n",
    "i_plt = 1\n",
    "d1 = Density(-Xs, fs=sr.fs, taxis=1, ax=axs[i_plt],  vmin=MIN_X, vmax=MAX_X, cmap='Greys')\n",
    "axs[i_plt].title.set_text('Destriped ephys data')\n",
    "axs[i_plt].set_xlim((0, Tplot * 1e3))\n",
    "axs[i_plt].set_ylabel('')"
   ]
  },
  {
   "cell_type": "markdown",
   "id": "604bd9dc",
   "metadata": {},
   "source": [
    "### Example 2: Stream LFP data around task event\n",
    "The example downloads a 1-second snippet of raw LF data ; all that needs setting as parameters are the `time0` (the time of the even of interest), the `band` (LFP), and the duration `time_win` (1 second)."
   ]
  },
  {
   "cell_type": "code",
   "execution_count": null,
   "id": "591a1a8a",
   "metadata": {},
   "outputs": [],
   "source": [
    "eid, probe = one.pid2eid(pid)\n",
    "stimOn_times = one.load_object(eid, 'trials', collection='alf')['stimOn_times']\n",
    "event_no = 100\n",
    "\n",
    "# Get the 1s of LFP data around time point of interest\n",
    "time0 = stimOn_times[event_no] # timepoint in recording to stream\n",
    "time_win = 1 # number of seconds to stream\n",
    "band = 'lf' # either 'ap' or 'lf'\n",
    "\n",
    "sr = Streamer(pid=pid, one=one, remove_cached=False, typ=band)\n",
    "s0 = time0 * sr.fs\n",
    "tsel = slice(int(s0), int(s0) + int(time_win * sr.fs))\n",
    "# remove sync channel from raw data\n",
    "raw = sr[tsel, :-sr.nsync].T\n",
    "# apply destriping algorithm to data\n",
    "destriped = destripe(raw, fs=sr.fs)"
   ]
  },
  {
   "cell_type": "markdown",
   "source": [
    "## Get the probe geometry"
   ],
   "metadata": {
    "collapsed": false
   }
  },
  {
   "cell_type": "markdown",
   "source": [
    "### Using the `eid` and `probe` information"
   ],
   "metadata": {
    "collapsed": false
   }
  },
  {
   "cell_type": "code",
   "execution_count": null,
   "outputs": [],
   "source": [
    "from brainbox.io.one import load_channel_locations\n",
    "channels = load_channel_locations(eid, probe)\n",
    "print(channels[probe].keys())\n",
    "# Use the axial and lateral coordinates ; Print example first 4 channels\n",
    "print(channels[probe][\"axial_um\"][0:4])\n",
    "print(channels[probe][\"lateral_um\"][0:4])"
   ],
   "metadata": {
    "collapsed": false
   }
  },
  {
   "cell_type": "markdown",
   "source": [
    "### Using the reader and the `.cbin` file"
   ],
   "metadata": {
    "collapsed": false
   }
  },
  {
   "cell_type": "code",
   "execution_count": null,
   "outputs": [],
   "source": [
    "# You would have loaded the bin file as per the loading example above\n",
    "# sr = spikeglx.Reader(bin_file)\n",
    "sr.geometry"
   ],
   "metadata": {
    "collapsed": false
   }
  },
  {
   "cell_type": "markdown",
   "id": "9851b10d",
   "metadata": {
    "pycharm": {
     "name": "#%% md\n"
    }
   },
   "source": [
    "## Other relevant examples\n",
    "* If you wish for further examples, do not hesitate to [contact us](https://int-brain-lab.github.io/iblenv/public_docs/information_contact.html)."
   ]
  }
 ],
 "metadata": {
  "celltoolbar": "Edit Metadata",
  "kernelspec": {
   "display_name": "Python [conda env:iblenv] *",
   "language": "python",
   "name": "conda-env-iblenv-py"
  },
  "language_info": {
   "codemirror_mode": {
    "name": "ipython",
    "version": 3
   },
   "file_extension": ".py",
   "mimetype": "text/x-python",
   "name": "python",
   "nbconvert_exporter": "python",
   "pygments_lexer": "ipython3",
   "version": "3.9.7"
  }
 },
 "nbformat": 4,
 "nbformat_minor": 5
}
