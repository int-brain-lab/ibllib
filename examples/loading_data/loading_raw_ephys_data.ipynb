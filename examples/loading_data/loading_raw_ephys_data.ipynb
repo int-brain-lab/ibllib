{
 "cells": [
  {
   "cell_type": "markdown",
   "id": "fffbc4ee",
   "metadata": {},
   "source": [
    "# Loading Raw Ephys Data (AP and LFP band)"
   ]
  },
  {
   "cell_type": "code",
   "execution_count": null,
   "id": "a6ec1974",
   "metadata": {
    "nbsphinx": "hidden"
   },
   "outputs": [],
   "source": [
    "# Turn off logging and disable tqdm this is a hidden cell on docs page\n",
    "import logging\n",
    "import os\n",
    "\n",
    "logger = logging.getLogger('ibllib')\n",
    "logger.setLevel(logging.CRITICAL)\n",
    "\n",
    "os.environ[\"TQDM_DISABLE\"] = \"1\""
   ]
  },
  {
   "cell_type": "markdown",
   "id": "2de85fd2",
   "metadata": {},
   "source": [
    "Raw electrophysiology data recorded using spikeglx and compressed using [mtscomp](https://github.com/int-brain-lab/mtscomp)\n",
    "The recommended way to load raw AP or LF band data for analysis is by using the `SpikeSortingLoader`.\n",
    "\n",
    "This will gather all the relevant meta-data for a given probe and the histology reconstructed channel locations in the brain. \n",
    "\n",
    "## AP and LF band streaming examples\n",
    "\n",
    "### Get the raw data streamers and the meta-data\n",
    "We start by instantiating a spike sorting loader object and reading in the histology information by loading the channels table."
   ]
  },
  {
   "cell_type": "code",
   "execution_count": null,
   "id": "db13c1bab069f492",
   "metadata": {},
   "outputs": [],
   "source": [
    "from one.api import ONE\n",
    "from brainbox.io.one import SpikeSortingLoader\n",
    "\n",
    "one = ONE(base_url='https://openalyx.internationalbrainlab.org')\n",
    "t0 = 100 # timepoint in recording to stream\n",
    "\n",
    "pid = 'da8dfec1-d265-44e8-84ce-6ae9c109b8bd'\n",
    "ssl = SpikeSortingLoader(pid=pid, one=one)\n",
    "# The channels information is contained in a dict table / dataframe\n",
    "channels = ssl.load_channels()\n",
    "\n",
    "# Get AP and LFP spikeglx.Reader objects\n",
    "sr_lf = ssl.raw_electrophysiology(band=\"lf\", stream=True)\n",
    "sr_ap = ssl.raw_electrophysiology(band=\"ap\", stream=True)\n"
   ]
  },
  {
   "cell_type": "markdown",
   "id": "541898a2492f2c14",
   "metadata": {
    "collapsed": false,
    "jupyter": {
     "outputs_hidden": false
    }
   },
   "source": [
    "Here we stream one second of raw AP data around the timepoint of interest and 5 seconds of data for the raw LF data"
   ]
  },
  {
   "cell_type": "markdown",
   "id": "2d17b0f8-e95f-4841-987a-1c3a5a221d1f",
   "metadata": {},
   "source": [
    "## Synchronisation\n",
    "Each probe has its own internal clock and report to the main clock of the experiment. When loading the raw data, there is a sample to experiment clock operation necessary to align the raw data.\n",
    "\n",
    "### Streaming data around a task event"
   ]
  },
  {
   "cell_type": "code",
   "execution_count": null,
   "id": "e0222f30-0b8c-4dca-8984-daf3ec854b4a",
   "metadata": {},
   "outputs": [],
   "source": [
    "stimOn_times = one.load_object(ssl.eid, 'trials', collection='alf')['stimOn_times']\n",
    "event_no = 100\n",
    "# timepoint in recording to stream, as per the experiment main clock \n",
    "t_event = stimOn_times[event_no]\n",
    "\n",
    "# corresponding sample in the AP data\n",
    "s_event = int(ssl.samples2times(stimOn_times[event_no], direction='reverse'))\n",
    "print(f'raw AP band sample for event at time {t_event}: {s_event}')\n",
    "\n",
    "# get the AP data surrounding samples\n",
    "window_secs_ap = [-0.05, 0.05]  # we'll look at 50ms before and after the event for AP\n",
    "first, last = (int(window_secs_ap[0] * sr_ap.fs) + s_event, int(window_secs_ap[1] * sr_ap.fs + s_event))\n",
    "raw_ap = sr_ap[first:last, :-sr_ap.nsync].T\n",
    "\n",
    "# get the LF data surrounding samples\n",
    "window_secs_ap = [-0.750, 0.750]  # we'll look at 750ms before and after the event because LF varies more slowly in time\n",
    "sample_lf = s_event // 12  # NB: for neuropixel probes this is always 12 because AP is sampled at 12x the frequency of LF\n",
    "first, last = (int(window_secs_ap[0] * sr_lf.fs) + sample_lf, int(window_secs_ap[1] * sr_lf.fs + sample_lf))\n",
    "raw_lf = sr_lf[first:last, :-sr_lf.nsync].T"
   ]
  },
  {
   "cell_type": "markdown",
   "id": "70de65c7-c615-4568-87b0-46847d73daab",
   "metadata": {},
   "source": [
    "<div class=\"alert alert-info\">\n",
    "Note:\n",
    "    \n",
    "**Why the transpose and the slicing in `sr_lf[first:last, :-sr_lf.nsync].T` ?**\n",
    "\n",
    "- we transpose (`.T`) our internal representation of the `raw` data. On disk by experimental necessity, the data is sorted by time sample first, channel second; this is not desirable for pre-processing as time samples are not contiguous.This is why our internal representation for the raw data snippets (i.e. dimensions used when working with such data) is `[number of channels, number of samples]`, in Python c-ordering, the time samples are contiguous in memory.\n",
    "\n",
    "- the raw data will contain the synching channels (i.e. the voltage information contained on the analog and digital DAQ channels, that mark events in the task notably). You need to remove them before wanting to use solely the raw ephys data (e.g. for plotting or exploring).\n",
    "\n",
    "</div>"
   ]
  },
  {
   "cell_type": "markdown",
   "id": "61cce550-62ff-4ee7-b90f-8ae0314daa1f",
   "metadata": {},
   "source": [
    "### Display the data with channel information around a task event"
   ]
  },
  {
   "cell_type": "code",
   "execution_count": null,
   "id": "e5e1a3fd-9d94-4603-807d-956a66eca540",
   "metadata": {},
   "outputs": [],
   "source": [
    "import matplotlib.pyplot as plt\n",
    "import scipy.signal\n",
    "from brainbox.ephys_plots import plot_brain_regions\n",
    "from ibllib.plots import Density\n",
    "sos_ap = scipy.signal.butter(3, 300 / sr_ap.fs /2, btype='highpass', output='sos')  # 300 Hz high pass AP band\n",
    "sos_lf = scipy.signal.butter(3,   2 / sr_lf.fs /2, btype='highpass', output='sos')  #   2 Hz high pass LF band\n",
    "filtered_ap = scipy.signal.sosfiltfilt(sos_ap, raw_ap)\n",
    "filtered_lf = scipy.signal.sosfiltfilt(sos_lf, raw_lf)\n",
    "\n",
    "# displays the AP band and LFP band around this stim_on event\n",
    "fig, axs = plt.subplots(2, 2, gridspec_kw={'width_ratios': [.95, .05]}, figsize=(18, 12))\n",
    "Density(- filtered_ap, fs=sr_ap.fs, taxis=1, ax=axs[0, 0])\n",
    "plot_brain_regions(channels[\"atlas_id\"], channel_depths=channels[\"axial_um\"], ax = axs[0, 1], display=True)\n",
    "Density(- filtered_lf, fs=sr_lf.fs, taxis=1, ax=axs[1, 0])\n",
    "plot_brain_regions(channels[\"atlas_id\"], channel_depths=channels[\"axial_um\"], ax = axs[1, 1], display=True)"
   ]
  },
  {
   "cell_type": "markdown",
   "id": "d2decedd-0f58-41ea-823d-7664f475193b",
   "metadata": {},
   "source": [
    "<div class=\"alert alert-info\">\n",
    "Note:\n",
    "\n",
    "If you plan on computing time aligned averages on many events, it will be much more efficient to download the raw data files once and for all instead of using the streaming cache. This way you have full control over the disk space usage and the bulky data retention policy.\n",
    "\n",
    "The following example shows hot to instantiate the same objects as above with a full downloaded file instead of streaming.\n",
    "</div>"
   ]
  },
  {
   "cell_type": "markdown",
   "id": "d7dba84029780138",
   "metadata": {
    "collapsed": false,
    "jupyter": {
     "outputs_hidden": false
    }
   },
   "source": [
    "### Downloading the raw data\n",
    "\n",
    "<div class=\"alert alert-warning\">\n",
    "Warning.\n",
    "\n",
    "The raw ephys data is very large and downloading will take a long period of time and fill up your hard drive pretty fast.\n",
    "\n",
    "</div>\n",
    "\n",
    "When accessing the raw electrophysiology method of the spike sorting loader, turning the streaming mode off will download the full\n",
    "file if it is not already present in the cache.\n",
    "\n",
    "We recommend setting the path of your `ONE` instance to make sure you control the destination path of the downloaded data.\n",
    "\n",
    "```python\n",
    "PATH_CACHE = Path(\"/path_to_raw_data_drive/openalyx\")\n",
    "one = ONE(base_url=\"https://openalyx.internationalbrainlab.org\", cache_dir=PATH_CACHE)\n",
    "sr_ap = ssl.raw_electrophysiology(band='ap', stream=False)  # sr_ap is a spikeglx.Reader object that uses memmap\n",
    "```\n"
   ]
  },
  {
   "cell_type": "markdown",
   "id": "c828ea0e",
   "metadata": {},
   "source": [
    "## Exploring raw ephys data"
   ]
  },
  {
   "cell_type": "markdown",
   "id": "ddeefc5a",
   "metadata": {},
   "source": [
    "### Example 1: Destripe AP data\n",
    "This is very important to do prior to using the raw data, as it removes artifacts (see our [Spikesorting white paper](https://figshare.com/articles/online_resource/Spike_sorting_pipeline_for_the_International_Brain_Laboratory/19705522) for details)."
   ]
  },
  {
   "cell_type": "code",
   "execution_count": null,
   "id": "ab22d54d",
   "metadata": {},
   "outputs": [],
   "source": [
    "from ibldsp.voltage import destripe\n",
    "# Reminder : If not done before, remove first the sync channel from raw data\n",
    "# Apply destriping algorithm to data\n",
    "destriped = destripe(raw_ap, fs=sr_ap.fs)"
   ]
  },
  {
   "cell_type": "markdown",
   "id": "2a317098",
   "metadata": {
    "pycharm": {
     "name": "#%% md\n"
    }
   },
   "source": [
    "To view and explore the raw ephys data, we recommend you use the [viewephys tool](https://github.com/oliche/viewephys)."
   ]
  },
  {
   "cell_type": "code",
   "execution_count": null,
   "id": "e6e079f2",
   "metadata": {
    "ibl_execute": false
   },
   "outputs": [],
   "source": [
    "%gui qt\n",
    "from viewephys.gui import viewephys\n",
    "v_raw = viewephys(raw_ap, fs=sr.fs)\n",
    "v_des = viewephys(destriped, fs=sr.fs)\n",
    "# You will then be able to zoom in, adjust the gain etc - see README for details"
   ]
  },
  {
   "cell_type": "markdown",
   "id": "e903979d",
   "metadata": {
    "pycharm": {
     "name": "#%% md\n"
    }
   },
   "source": [
    "For the sake of presenting the data pre and post destriping as part of this tutorial, we are using an alternative plotting method (`matplotlib`)."
   ]
  },
  {
   "cell_type": "code",
   "execution_count": null,
   "id": "913ccacf",
   "metadata": {
    "pycharm": {
     "name": "#%%\n"
    }
   },
   "outputs": [],
   "source": [
    "from ibllib.plots import Density\n",
    "import matplotlib.pyplot as plt\n",
    "\n",
    "DISPLAY_TIME = 0.05  # second\n",
    "SAMPLE_SKIP = 200  # Skip beginning for show, otherwise blurry due to filtering edge effect\n",
    "MIN_X = -0.00011\n",
    "MAX_X = -MIN_X\n",
    "\n",
    "# Shorten and transpose the data for plotting\n",
    "X = destriped[:, :int(DISPLAY_TIME * sr_ap.fs)].T\n",
    "Xs = X[SAMPLE_SKIP:].T  # Remove apodization at begining\n",
    "Tplot = Xs.shape[1] / sr_ap.fs\n",
    "\n",
    "X_raw = raw_ap[:, :int(DISPLAY_TIME * sr_ap.fs)].T\n",
    "Xs_raw = X_raw[SAMPLE_SKIP:].T  # Remove apodization at begining\n",
    "\n",
    "# Plot\n",
    "fig, axs = plt.subplots(nrows=1, ncols=2)\n",
    "\n",
    "i_plt = 0\n",
    "d0 = Density(-Xs_raw, fs=sr_ap.fs, taxis=1, ax=axs[i_plt],  vmin=MIN_X, vmax=MAX_X, cmap='Greys')\n",
    "axs[i_plt].title.set_text('Raw ephys data')\n",
    "axs[i_plt].set_xlim((0, Tplot * 1e3))\n",
    "axs[i_plt].set_ylabel('Channels')\n",
    "\n",
    "i_plt = 1\n",
    "d1 = Density(-Xs, fs=sr_ap.fs, taxis=1, ax=axs[i_plt],  vmin=MIN_X, vmax=MAX_X, cmap='Greys')\n",
    "axs[i_plt].title.set_text('Destriped ephys data')\n",
    "axs[i_plt].set_xlim((0, Tplot * 1e3))\n",
    "axs[i_plt].set_ylabel('')"
   ]
  },
  {
   "cell_type": "markdown",
   "id": "bb97cb8f",
   "metadata": {},
   "source": [
    "## Low level loading and downloading functions\n",
    "\n",
    "### Relevant datasets\n",
    "The raw data comprises 3 files:\n",
    "* `\\_spikeglx_ephysData*.cbin` the compressed raw binary\n",
    "* `\\_spikeglx_ephysData*.meta` the metadata file from spikeglx\n",
    "* `\\_spikeglx_ephysData*.ch` the compression header containing chunks address in the file\n",
    "\n",
    "The raw data is compressed with a lossless compression algorithm in chunks of 1 second each. This allows to retrieve parts of the data without having to uncompress the whole file. We recommend using the `spikeglx.Reader` module from [ibl-neuropixel repository](https://github.com/int-brain-lab/ibl-neuropixel)\n",
    "\n",
    "Full information about the compression and tool in [mtscomp repository](https://github.com/int-brain-lab/mtscomp)"
   ]
  },
  {
   "cell_type": "markdown",
   "id": "b51ffc0f",
   "metadata": {},
   "source": [
    "### Option 1: Stream snippets of raw ephys data\n",
    "This is a useful option if you are interested to perform analysis on a chunk of data of smaller duration than the whole recording, as it will take less time to download. Data snippets can be loaded in chunks of 1-second, i.e. you can load at minimum 1 second of raw data, and any multiplier of such chunk length (for example 4 or 92 seconds)."
   ]
  },
  {
   "cell_type": "code",
   "execution_count": null,
   "id": "68605764",
   "metadata": {},
   "outputs": [],
   "source": [
    "from one.api import ONE\n",
    "from brainbox.io.spikeglx import Streamer\n",
    "\n",
    "one = ONE()\n",
    "\n",
    "pid = 'da8dfec1-d265-44e8-84ce-6ae9c109b8bd'\n",
    "\n",
    "t0 = 100 # timepoint in recording to stream\n",
    "band = 'ap' # either 'ap' or 'lf'\n",
    "\n",
    "sr = Streamer(pid=pid, one=one, remove_cached=False, typ=band)\n",
    "first, last = (int(t0 * sr.fs), int((t0 + 1) * sr.fs))\n",
    "\n",
    "# Important: remove sync channel from raw data, and transpose to get a [n_channels, n_samples] array\n",
    "raw = sr[first:last, :-sr.nsync].T"
   ]
  },
  {
   "cell_type": "markdown",
   "id": "eb72b4bb",
   "metadata": {},
   "source": [
    "### Option 2: Download all of raw ephys data"
   ]
  },
  {
   "cell_type": "markdown",
   "id": "3c5984dc",
   "metadata": {},
   "source": [
    "<div class=\"alert alert-warning\">\n",
    "Warning.\n",
    "\n",
    "The raw ephys data is very large and downloading will take a long period of time.\n",
    "\n",
    "\n",
    "</div>"
   ]
  },
  {
   "cell_type": "code",
   "execution_count": null,
   "id": "60857f5f",
   "metadata": {
    "ibl_execute": false
   },
   "outputs": [],
   "source": [
    "from one.api import ONE\n",
    "import spikeglx\n",
    "one = ONE()\n",
    "\n",
    "pid = 'da8dfec1-d265-44e8-84ce-6ae9c109b8bd'\n",
    "eid, probe = one.pid2eid(pid)\n",
    "\n",
    "band = 'ap' # either 'ap','lf'\n",
    "\n",
    "# Find the relevant datasets and download them\n",
    "dsets = one.list_datasets(eid, collection=f'raw_ephys_data/{probe}', filename='*.lf.*')\n",
    "data_files, _ = one.load_datasets(eid, dsets, download_only=True)\n",
    "bin_file = next(df for df in data_files if df.suffix == '.cbin')\n",
    "\n",
    "# Use spikeglx reader to read in the whole raw data\n",
    "sr = spikeglx.Reader(bin_file)\n",
    "print(sr.shape)"
   ]
  },
  {
   "cell_type": "markdown",
   "id": "0a8b24db",
   "metadata": {},
   "source": [
    "## More details\n",
    "* [Details of raw ap datasets](https://docs.google.com/document/d/1OqIqqakPakHXRAwceYLwFY9gOrm8_P62XIfCTnHwstg/edit#heading=h.ms0y69xbzova)\n",
    "* [Details of raw lfp datasets](https://docs.google.com/document/d/1OqIqqakPakHXRAwceYLwFY9gOrm8_P62XIfCTnHwstg/edit#heading=h.nct1c3j9tedk)\n",
    "* [Details of mtscomp compression algorithm](https://github.com/int-brain-lab/mtscomp#readme)\n",
    "* [Spikesorting white paper](https://figshare.com/articles/online_resource/Spike_sorting_pipeline_for_the_International_Brain_Laboratory/19705522)"
   ]
  },
  {
   "cell_type": "markdown",
   "id": "edd9d729",
   "metadata": {},
   "source": [
    "## Useful modules\n",
    "* [ibllib.io.spikeglx](https://int-brain-lab.github.io/ibl-neuropixel/_autosummary/spikeglx.html)\n",
    "* [ibllib.voltage.dsp](https://int-brain-lab.github.io/ibl-neuropixel/_autosummary/ibldsp.voltage.html)\n",
    "* [brainbox.io.spikeglx.stream](https://int-brain-lab.github.io/iblenv/_autosummary/brainbox.io.spikeglx.html#brainbox.io.spikeglx.stream)\n",
    "* [viewephys](https://github.com/oliche/viewephys) to visualise raw data snippets (Note: this package is not within `ibllib` but standalone)"
   ]
  },
  {
   "cell_type": "markdown",
   "id": "9851b10d",
   "metadata": {
    "pycharm": {
     "name": "#%% md\n"
    }
   },
   "source": [
    "## Other relevant examples\n",
    "* If you wish for further examples, do not hesitate to [contact us](https://int-brain-lab.github.io/iblenv/public_docs/information_contact.html)."
   ]
  }
 ],
 "metadata": {
  "celltoolbar": "Edit Metadata",
  "kernelspec": {
   "display_name": "Python 3 (ipykernel)",
   "language": "python",
   "name": "python3"
  },
  "language_info": {
   "codemirror_mode": {
    "name": "ipython",
    "version": 3
   },
   "file_extension": ".py",
   "mimetype": "text/x-python",
   "name": "python",
   "nbconvert_exporter": "python",
   "pygments_lexer": "ipython3",
   "version": "3.11.6"
  }
 },
 "nbformat": 4,
 "nbformat_minor": 5
}
