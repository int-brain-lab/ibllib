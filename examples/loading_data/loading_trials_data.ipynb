{
 "cells": [
  {
   "cell_type": "markdown",
   "id": "1aad52c3",
   "metadata": {},
   "source": [
    "# Loading Trials Data"
   ]
  },
  {
   "cell_type": "code",
   "execution_count": null,
   "id": "5975a5a7",
   "metadata": {
    "nbsphinx": "hidden"
   },
   "outputs": [],
   "source": [
    "# Turn off logging, this is a hidden cell on docs page\n",
    "import logging\n",
    "logger = logging.getLogger('ibllib')\n",
    "logger.setLevel(logging.CRITICAL)"
   ]
  },
  {
   "cell_type": "markdown",
   "id": "b2726c10",
   "metadata": {},
   "source": [
    "Task related behavioral data"
   ]
  },
  {
   "cell_type": "markdown",
   "id": "e4e526a8",
   "metadata": {},
   "source": [
    "## Relevant Alf objects\n",
    "* trials\n",
    "* subjectTrials\n",
    "* subjectTraining"
   ]
  },
  {
   "cell_type": "markdown",
   "source": [
    "## Loading a single session's trials\n"
   ],
   "metadata": {
    "collapsed": false
   }
  },
  {
   "cell_type": "code",
   "execution_count": null,
   "outputs": [],
   "source": [
    "from one.api import ONE\n",
    "one = ONE()\n",
    "eid = '4ecb5d24-f5cc-402c-be28-9d0f7cb14b3a'\n",
    "trials = one.load_object(eid, 'trials', collection='alf')"
   ],
   "metadata": {
    "collapsed": false,
    "pycharm": {
     "name": "#%%\n"
    }
   }
  },
  {
   "cell_type": "markdown",
   "source": [
    "For combining trials data with various recording modalities for a given session, the `SessionLoader` class is more convenient:"
   ],
   "metadata": {
    "collapsed": false
   }
  },
  {
   "cell_type": "code",
   "execution_count": null,
   "outputs": [],
   "source": [
    "from brainbox.io.one import SessionLoader\n",
    "from one.api import ONE\n",
    "one = ONE()\n",
    "eid = '4ecb5d24-f5cc-402c-be28-9d0f7cb14b3a'\n",
    "sl = SessionLoader(eid=eid, one=one)\n",
    "sl.load_trials()\n",
    "\n",
    "# The datasets are attributes of the sl.trials, for example probabilityLeft:\n",
    "probabilityLeft = sl.trials['probabilityLeft']\n",
    "# Find all of them using:\n",
    "sl.trials.keys()"
   ],
   "metadata": {
    "collapsed": false,
    "pycharm": {
     "name": "#%%\n"
    }
   }
  },
  {
   "cell_type": "markdown",
   "id": "0514237a",
   "metadata": {},
   "source": [
    "## Loading all the sessions' trials for a single subject at once\n",
    "If you want to study several sessions for a single subject, we recommend you use the `one.load_aggregate` method rather than downloading each trials data individually per session.\n",
    "This methods loads all the trials data `subjectTrials` for a given subject into a single DataFrame (i.e. all session trials are concatenated).\n",
    "You can use the same method to load the `subjectTraining` table, which contains the training statuses."
   ]
  },
  {
   "cell_type": "code",
   "execution_count": null,
   "id": "544f4e8d",
   "metadata": {
    "ibl_execute": false
   },
   "outputs": [],
   "source": [
    "from one.api import ONE\n",
    "one = ONE()\n",
    "subject = 'SWC_043'\n",
    "trials = one.load_aggregate('subjects', subject, '_ibl_subjectTrials.table')\n",
    "\n",
    "# Load training status and join to trials table\n",
    "training = one.load_aggregate('subjects', subject, '_ibl_subjectTraining.table')\n",
    "trials = (trials\n",
    "          .set_index('session')\n",
    "          .join(training.set_index('session'))\n",
    "          .sort_values(by=['session_start_time', 'intervals_0']))\n",
    "trials['training_status'] = trials.training_status.fillna(method='ffill')\n",
    "\n",
    "# Join sessions table for number, task_protocol, etc.\n",
    "trials = one.load_aggregate('subjects', subject, '_ibl_subjectTrials.table')\n",
    "if 'task_protocol' in trials:\n",
    "    trials.drop('task_protocol', axis=1)\n",
    "trials = trials.set_index('session').join(one._cache.sessions.drop('date', axis=1))"
   ]
  },
  {
   "cell_type": "markdown",
   "id": "d5840fd2",
   "metadata": {},
   "source": [
    "## More details\n",
    "* [Description of trials datasets](https://docs.google.com/document/d/1OqIqqakPakHXRAwceYLwFY9gOrm8_P62XIfCTnHwstg/edit#heading=h.nvzaz0fozs8h)\n",
    "* [Description of task QC metrics](../_autosummary/ibllib.qc.task_metrics.html)"
   ]
  },
  {
   "cell_type": "markdown",
   "id": "2fcc52a0",
   "metadata": {},
   "source": [
    "## Useful modules, packages and functions\n",
    "* [brainbox.behavior.training](../_autosummary/brainbox.behavior.training.html)\n",
    "* [psychofit](https://github.com/cortex-lab/psychofit/blob/master/Examples.ipynb)\n",
    "* [brainbox.task.trials](../_autosummary/brainbox.task.trials.html)\n",
    "* [ibllib.qc.task_metrics](../_autosummary/ibllib.qc.task_metrics.html)\n",
    "* [brainbox.io.one.load_iti](../_autosummary/brainbox.io.one.html#brainbox.io.one.load_iti)"
   ]
  },
  {
   "cell_type": "markdown",
   "id": "cd4d3a1e",
   "metadata": {},
   "source": [
    "## Exploring trials data"
   ]
  },
  {
   "cell_type": "markdown",
   "id": "d2ef4c2b",
   "metadata": {},
   "source": [
    "### Example 1. Computing behavioral performance"
   ]
  },
  {
   "cell_type": "code",
   "execution_count": null,
   "id": "1b1d7120",
   "metadata": {},
   "outputs": [],
   "source": [
    "from brainbox.behavior.training import compute_performance\n",
    "\n",
    "# compute performance\n",
    "performance, contrasts, n_contrasts = compute_performance(trials)\n",
    "\n",
    "# compute performance expressed as probability of choosing right\n",
    "performance, contrasts, n_contrasts = compute_performance(trials, prob_right=True)\n",
    "\n",
    "# compute performance during 0.8 biased block\n",
    "performance, contrasts, n_contrasts = compute_performance(trials, block=0.8)"
   ]
  },
  {
   "cell_type": "markdown",
   "id": "dd92d441",
   "metadata": {},
   "source": [
    "### Example 2. Filtering trials"
   ]
  },
  {
   "cell_type": "code",
   "execution_count": null,
   "id": "a7a4b90c",
   "metadata": {},
   "outputs": [],
   "source": [
    "from brainbox.task.trials import find_trial_ids\n",
    "\n",
    "# find index for stim right trials ordered by trial number\n",
    "trial_id, _ = find_trial_ids(trials, side='right', choice='all', order='trial num')\n",
    "\n",
    "# find index for correct, stim left, 100% contrast trials ordered by reaction time\n",
    "trial_id, _ = find_trial_ids(trials, side='left', choice='correct', contrast=[1], order='reaction time')\n",
    "\n",
    "# find index for correct trials ordered by trial number sorted by stimulus side\n",
    "trial_id, _ = find_trial_ids(trials, side='left', choice='correct', order='reaction time', sort='side')"
   ]
  },
  {
   "cell_type": "markdown",
   "id": "6a7aa771",
   "metadata": {},
   "source": [
    "### Example 3. Plotting psychometric curve"
   ]
  },
  {
   "cell_type": "code",
   "execution_count": null,
   "id": "d401e0a9",
   "metadata": {},
   "outputs": [],
   "source": [
    "from brainbox.behavior.training import plot_psychometric\n",
    "\n",
    "fig, ax = plot_psychometric(trials)"
   ]
  },
  {
   "cell_type": "markdown",
   "id": "fef72c9f",
   "metadata": {},
   "source": [
    "### Example 4: Computing Task QC for session"
   ]
  },
  {
   "cell_type": "code",
   "execution_count": null,
   "id": "6000c900",
   "metadata": {
    "ibl_execute": false
   },
   "outputs": [],
   "source": [
    "from ibllib.qc import task_metrics\n",
    "\n",
    "qc = task_metrics.TaskQC(eid)\n",
    "outcome, results = qc.run()\n",
    "print(f'QC_status: {outcome}')\n",
    "print(f'Individual QC values:')\n",
    "results"
   ]
  },
  {
   "cell_type": "markdown",
   "id": "7f5c2ee0",
   "metadata": {},
   "source": [
    "Information about individual qc checks can be found by looking at the docstring (replace `_task` with `check`), e.g."
   ]
  },
  {
   "cell_type": "code",
   "execution_count": null,
   "id": "6770bb46",
   "metadata": {
    "ibl_execute": false
   },
   "outputs": [],
   "source": [
    "help(task_metrics.check_errorCue_delays)"
   ]
  },
  {
   "cell_type": "markdown",
   "source": [
    "### Example 5: Computing the inter-trial interval (ITI)\n",
    "The ITI is the period of open-loop grey screen commencing at stimulus off and lasting until the\n",
    "quiescent period at the start of the following trial."
   ],
   "metadata": {
    "collapsed": false
   }
  },
  {
   "cell_type": "code",
   "execution_count": null,
   "outputs": [],
   "source": [
    "from brainbox.io.one import load_iti\n",
    "eid = 'ae8787b1-4229-4d56-b0c2-566b61a25b77'\n",
    "trials = one.load_object(eid, 'trials')\n",
    "trials['iti'] = load_iti(trials)\n",
    "print(trials.to_df().iloc[:5, -5:])"
   ],
   "metadata": {
    "collapsed": false,
    "pycharm": {
     "name": "#%%\n"
    }
   }
  },
  {
   "cell_type": "markdown",
   "id": "5738f9fb",
   "metadata": {
    "pycharm": {
     "name": "#%% md\n"
    }
   },
   "source": [
    "## Other relevant examples\n",
    "* For examples of how to compute reaction time and or response time, see [Working with wheel data](./docs_wheel_moves.html)."
   ]
  }
 ],
 "metadata": {
  "celltoolbar": "Edit Metadata",
  "kernelspec": {
   "display_name": "Python [conda env:iblenv] *",
   "language": "python",
   "name": "conda-env-iblenv-py"
  },
  "language_info": {
   "codemirror_mode": {
    "name": "ipython",
    "version": 3
   },
   "file_extension": ".py",
   "mimetype": "text/x-python",
   "name": "python",
   "nbconvert_exporter": "python",
   "pygments_lexer": "ipython3",
   "version": "3.9.7"
  }
 },
 "nbformat": 4,
 "nbformat_minor": 5
}