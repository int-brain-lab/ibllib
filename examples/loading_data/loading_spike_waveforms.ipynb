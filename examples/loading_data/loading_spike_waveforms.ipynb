{
 "cells": [
  {
   "cell_type": "markdown",
   "id": "f73e02ee",
   "metadata": {},
   "source": [
    "# Loading Spike Waveforms"
   ]
  },
  {
   "cell_type": "code",
   "execution_count": null,
   "id": "ea70eb4a",
   "metadata": {
    "nbsphinx": "hidden"
   },
   "outputs": [],
   "source": [
    "# Turn off logging, this is a hidden cell on docs page\n",
    "import logging\n",
    "logger = logging.getLogger('ibllib')\n",
    "logger.setLevel(logging.CRITICAL)"
   ]
  },
  {
   "cell_type": "markdown",
   "id": "64cec921",
   "metadata": {},
   "source": [
    "Sample of spike waveforms extracted during spike sorting"
   ]
  },
  {
   "cell_type": "markdown",
   "id": "dca47f09",
   "metadata": {},
   "source": [
    "## Relevant Alf objects\n",
    "* \\_phy_spikes_subset"
   ]
  },
  {
   "cell_type": "markdown",
   "id": "eb34d848",
   "metadata": {},
   "source": [
    "## Loading"
   ]
  },
  {
   "cell_type": "code",
   "execution_count": null,
   "id": "c5d32232",
   "metadata": {},
   "outputs": [],
   "source": [
    "from one.api import ONE\n",
    "from brainbox.io.one import SpikeSortingLoader\n",
    "from iblatlas.atlas import AllenAtlas\n",
    "\n",
    "one = ONE()\n",
    "ba = AllenAtlas()\n",
    "pid = 'da8dfec1-d265-44e8-84ce-6ae9c109b8bd' \n",
    "\n",
    "# Load in the spikesorting\n",
    "sl = SpikeSortingLoader(pid=pid, one=one, atlas=ba)\n",
    "spikes, clusters, channels = sl.load_spike_sorting()\n",
    "clusters = sl.merge_clusters(spikes, clusters, channels)\n",
    "\n",
    "# Load the spike waveforms\n",
    "spike_wfs = one.load_object(sl.eid, '_phy_spikes_subset', collection=sl.collection)"
   ]
  },
  {
   "cell_type": "markdown",
   "id": "327a23e7",
   "metadata": {},
   "source": [
    "## More details\n",
    "* [Description of datasets](https://docs.google.com/document/d/1OqIqqakPakHXRAwceYLwFY9gOrm8_P62XIfCTnHwstg/edit#heading=h.vcop4lz26gs9)"
   ]
  },
  {
   "cell_type": "markdown",
   "id": "257fb8b8",
   "metadata": {},
   "source": [
    "## Useful modules\n",
    "* COMING SOON"
   ]
  },
  {
   "cell_type": "markdown",
   "id": "157bf219",
   "metadata": {},
   "source": [
    "## Exploring sample waveforms"
   ]
  },
  {
   "cell_type": "markdown",
   "id": "a617f8fb",
   "metadata": {},
   "source": [
    "### Example 1: Finding the cluster ID for each sample waveform"
   ]
  },
  {
   "cell_type": "code",
   "execution_count": null,
   "id": "1ac805b6",
   "metadata": {},
   "outputs": [],
   "source": [
    "# Find the cluster id for each sample waveform\n",
    "wf_clusterIDs = spikes['clusters'][spike_wfs['spikes']]"
   ]
  },
  {
   "cell_type": "markdown",
   "id": "baf9eb11",
   "metadata": {},
   "source": [
    "### Example 2: Compute average waveform for cluster"
   ]
  },
  {
   "cell_type": "code",
   "execution_count": null,
   "id": "3d8a729c",
   "metadata": {},
   "outputs": [],
   "source": [
    "import numpy as np\n",
    "\n",
    "# define cluster of interest\n",
    "clustID = 2\n",
    "\n",
    "# Find waveforms for this cluster\n",
    "wf_idx = np.where(wf_clusterIDs == clustID)[0]\n",
    "wfs = spike_wfs['waveforms'][wf_idx, :, :]\n",
    "\n",
    "# Compute average waveform on channel with max signal (chn_index 0)\n",
    "wf_avg_chn_max = np.mean(wfs[:, :, 0], axis=0)"
   ]
  },
  {
   "cell_type": "markdown",
   "id": "a20b24ea",
   "metadata": {},
   "source": [
    "## Other relevant examples\n",
    "* COMING SOON"
   ]
  }
 ],
 "metadata": {
  "kernelspec": {
   "display_name": "Python [conda env:iblenv] *",
   "language": "python",
   "name": "conda-env-iblenv-py"
  },
  "language_info": {
   "codemirror_mode": {
    "name": "ipython",
    "version": 3
   },
   "file_extension": ".py",
   "mimetype": "text/x-python",
   "name": "python",
   "nbconvert_exporter": "python",
   "pygments_lexer": "ipython3",
   "version": "3.9.7"
  }
 },
 "nbformat": 4,
 "nbformat_minor": 5
}
