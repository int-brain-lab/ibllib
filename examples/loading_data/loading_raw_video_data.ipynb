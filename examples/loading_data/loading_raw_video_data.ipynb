{
 "cells": [
  {
   "cell_type": "markdown",
   "id": "5522a339",
   "metadata": {},
   "source": [
    "# Loading Raw Video Data"
   ]
  },
  {
   "cell_type": "code",
   "execution_count": null,
   "id": "86ddc1ad",
   "metadata": {
    "nbsphinx": "hidden"
   },
   "outputs": [],
   "source": [
    "# Turn off logging, this is a hidden cell on docs page\n",
    "import logging\n",
    "logger = logging.getLogger('ibllib')\n",
    "logger.setLevel(logging.CRITICAL)"
   ]
  },
  {
   "cell_type": "markdown",
   "id": "acaced42",
   "metadata": {},
   "source": [
    "Raw video data recorded from body, left and right cameras "
   ]
  },
  {
   "cell_type": "markdown",
   "id": "6e05ca6b",
   "metadata": {},
   "source": [
    "## Relevant Alf objects\n",
    "* bodyCamera\n",
    "* leftCamera\n",
    "* rightCamera"
   ]
  },
  {
   "cell_type": "markdown",
   "id": "b21df21f",
   "metadata": {},
   "source": [
    "## Loading"
   ]
  },
  {
   "cell_type": "markdown",
   "id": "7aeacd83",
   "metadata": {},
   "source": [
    "### Option 1: Stream single frame"
   ]
  },
  {
   "cell_type": "code",
   "execution_count": null,
   "id": "391b2cae",
   "metadata": {},
   "outputs": [],
   "source": [
    "from one.api import ONE\n",
    "import ibllib.io.video as vidio\n",
    "\n",
    "one = ONE()\n",
    "eid = '4ecb5d24-f5cc-402c-be28-9d0f7cb14b3a'\n",
    "label = 'body' # 'left', 'right' or 'body'\n",
    "\n",
    "# Find url of video data to stream\n",
    "url = vidio.url_from_eid(eid, one=one)[label]\n",
    "\n",
    "# Load video timestamps\n",
    "ts = one.load_dataset(eid, f'*{label}Camera.times*', collection='alf')\n",
    "\n",
    "# Find the frame closest to 1000s into data\n",
    "import numpy as np\n",
    "frame_n = np.searchsorted(ts, 1000)\n",
    "\n",
    "# Stream the data\n",
    "frame = vidio.get_video_frame(url, frame_n)"
   ]
  },
  {
   "cell_type": "markdown",
   "id": "6af2dac2",
   "metadata": {},
   "source": [
    "### Option 2: Stream multiple frames (see also [Example 2](#Example-2:-Efficiently-loading-multiple-frames))"
   ]
  },
  {
   "cell_type": "code",
   "execution_count": null,
   "id": "e20c60e9",
   "metadata": {},
   "outputs": [],
   "source": [
    "# Load the first 10 video frames\n",
    "frames = vidio.get_video_frames_preload(url, range(10)) "
   ]
  },
  {
   "cell_type": "markdown",
   "id": "17518df9",
   "metadata": {},
   "source": [
    "### Option 3: Downloading full video data"
   ]
  },
  {
   "cell_type": "markdown",
   "id": "01d1d151",
   "metadata": {},
   "source": [
    "<div class=\"alert alert-warning\">\n",
    "Warning.\n",
    "\n",
    "The raw video data is very large and downloading will take a long period of time\n",
    "</div>"
   ]
  },
  {
   "cell_type": "code",
   "execution_count": null,
   "id": "7d16c78f",
   "metadata": {},
   "outputs": [],
   "source": [
    "video_body = one.load_dataset(eid, f'*{label}Camera.raw*', collection='raw_video_data')"
   ]
  },
  {
   "cell_type": "markdown",
   "id": "137d9c48",
   "metadata": {},
   "source": [
    "## More details\n",
    "* [Description of raw video datasets](https://docs.google.com/document/d/1OqIqqakPakHXRAwceYLwFY9gOrm8_P62XIfCTnHwstg/edit#heading=h.wdlgptfwpgks)\n",
    "* [Description of video qc metrics](https://int-brain-lab.github.io/iblenv/_autosummary/ibllib.qc.camera.html)\n",
    "* [IBL video white paper](https://docs.google.com/document/u/1/d/e/2PACX-1vS2777bCbDmMre-wyeDr4t0jC-0YsV_uLtYkfS3h9zTwgC7qeMk-GUqxPqcY7ylH17I1Vo1nIuuj26L/pub)"
   ]
  },
  {
   "cell_type": "markdown",
   "id": "b86e184a",
   "metadata": {},
   "source": [
    "## Useful modules\n",
    "* [ibllib.io.video](https://int-brain-lab.github.io/iblenv/_autosummary/ibllib.io.video.html)\n",
    "* [ibllib.qc.camera](https://int-brain-lab.github.io/iblenv/_autosummary/ibllib.qc.camera.html)"
   ]
  },
  {
   "cell_type": "markdown",
   "id": "3b5633b6",
   "metadata": {},
   "source": [
    "## Exploring raw video data"
   ]
  },
  {
   "cell_type": "markdown",
   "id": "c454d311",
   "metadata": {},
   "source": [
    "### Example 1: Obtaining video meta data"
   ]
  },
  {
   "cell_type": "code",
   "execution_count": null,
   "id": "092b33df",
   "metadata": {},
   "outputs": [],
   "source": [
    "meta = vidio.get_video_meta(url, one=one)\n",
    "for k, v in meta.items():\n",
    "    print(f'The video {k} = {v}')"
   ]
  },
  {
   "cell_type": "markdown",
   "id": "0b668d41",
   "metadata": {},
   "source": [
    "### Example 2: Efficiently loading multiple frames"
   ]
  },
  {
   "cell_type": "code",
   "execution_count": null,
   "id": "efb7e98b",
   "metadata": {},
   "outputs": [],
   "source": [
    "# The preload function will by default pre-allocate the memory before loading the frames,\n",
    "# and will return the frames as a numpy array of the shape (l, h, w, 3), where l = the number of\n",
    "# frame indices given.  The indices must be an iterable of positive integers.  Because the videos\n",
    "# are in black and white the values of each color channel are identical.   Therefore to save on\n",
    "# memory you can provide a slice that returns only one of the three channels for each frame.  The\n",
    "# resulting shape will be (l, h, w).  NB: Any slice or boolean array may be provided which is\n",
    "# useful for cropping to an ROI.\n",
    "# \n",
    "# If you don't need to apply operations over all the fetched frames you can use the `as_list`\n",
    "# kwarg to return the frames as a list.  This is slightly faster than fetching as an ndarray.\n",
    "# \n",
    "# A warning is printed if fetching a frame fails.  The affected frames will be returned as zeros\n",
    "# or None if `as_list` is True.\n",
    "\n",
    "frames = vidio.get_video_frames_preload(url, range(10), mask=np.s_[:, :, 0])"
   ]
  },
  {
   "cell_type": "markdown",
   "id": "ea981b57",
   "metadata": {},
   "source": [
    "### Example 3: Computing Video QC for camera"
   ]
  },
  {
   "cell_type": "code",
   "execution_count": null,
   "id": "8336bc39",
   "metadata": {
    "ibl_execute": false
   },
   "outputs": [],
   "source": [
    "from ibllib.qc.camera import CameraQC\n",
    "qc = CameraQC(one.eid2path(eid), 'body', download_data=True)\n",
    "outcome, extended = qc.run()\n",
    "print(f'video QC = {outcome}')\n",
    "extended"
   ]
  },
  {
   "cell_type": "markdown",
   "id": "b56572e8",
   "metadata": {},
   "source": [
    "Information about individual qc checks can be found by looking at the docstring (replace _videoBody with check), e.g."
   ]
  },
  {
   "cell_type": "code",
   "execution_count": null,
   "id": "227b352c",
   "metadata": {
    "ibl_execute": false
   },
   "outputs": [],
   "source": [
    "help(CameraQC.check_dropped_frames)"
   ]
  },
  {
   "cell_type": "markdown",
   "id": "c0f9a005",
   "metadata": {},
   "source": [
    "## Other relevant examples\n",
    "* COMING SOON"
   ]
  }
 ],
 "metadata": {
  "celltoolbar": "Edit Metadata",
  "kernelspec": {
   "display_name": "Python [conda env:iblenv] *",
   "language": "python",
   "name": "conda-env-iblenv-py"
  },
  "language_info": {
   "codemirror_mode": {
    "name": "ipython",
    "version": 3
   },
   "file_extension": ".py",
   "mimetype": "text/x-python",
   "name": "python",
   "nbconvert_exporter": "python",
   "pygments_lexer": "ipython3",
   "version": "3.9.7"
  }
 },
 "nbformat": 4,
 "nbformat_minor": 5
}
