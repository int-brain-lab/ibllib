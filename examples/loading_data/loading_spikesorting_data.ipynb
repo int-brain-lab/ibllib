{
 "cells": [
  {
   "cell_type": "markdown",
   "id": "6a37841c",
   "metadata": {},
   "source": [
    "# Loading SpikeSorting Data"
   ]
  },
  {
   "cell_type": "code",
   "execution_count": null,
   "id": "60abdf6c",
   "metadata": {
    "nbsphinx": "hidden"
   },
   "outputs": [],
   "source": [
    "# Turn off logging, this is a hidden cell on docs page\n",
    "import logging\n",
    "logger = logging.getLogger('ibllib')\n",
    "logger.setLevel(logging.CRITICAL)"
   ]
  },
  {
   "cell_type": "markdown",
   "id": "f1a656b5",
   "metadata": {},
   "source": [
    "Spikesorted output of electrophysiology data."
   ]
  },
  {
   "cell_type": "markdown",
   "id": "631495f6",
   "metadata": {},
   "source": [
    "## Relevant Alf objects\n",
    "* channels\n",
    "* clusters\n",
    "* spikes"
   ]
  },
  {
   "cell_type": "markdown",
   "id": "a36ddee0",
   "metadata": {},
   "source": [
    "## Loading"
   ]
  },
  {
   "cell_type": "code",
   "execution_count": null,
   "id": "83a16208",
   "metadata": {},
   "outputs": [],
   "source": [
    "from one.api import ONE\n",
    "from brainbox.io.one import SpikeSortingLoader\n",
    "from ibllib.atlas import AllenAtlas\n",
    "\n",
    "one = ONE()\n",
    "ba = AllenAtlas()\n",
    "pid = 'da8dfec1-d265-44e8-84ce-6ae9c109b8bd' \n",
    "\n",
    "sl = SpikeSortingLoader(pid=pid, one=one, atlas=ba)\n",
    "spikes, clusters, channels = sl.load_spike_sorting()\n",
    "clusters = sl.merge_clusters(spikes, clusters, channels)"
   ]
  },
  {
   "cell_type": "markdown",
   "id": "f792df2d",
   "metadata": {},
   "source": [
    "Alternatively, one can instantiate the spike sorting loader using the session unique identifier eid and the probe name pname:"
   ]
  },
  {
   "cell_type": "code",
   "execution_count": null,
   "id": "c8b1a330",
   "metadata": {},
   "outputs": [],
   "source": [
    "eid, pname = one.pid2eid(pid)\n",
    "sl = SpikeSortingLoader(eid=eid, pname=pname, one=one, atlas=ba)\n",
    "spikes, clusters, channels = sl.load_spike_sorting()\n",
    "clusters = sl.merge_clusters(spikes, clusters, channels)"
   ]
  },
  {
   "cell_type": "markdown",
   "id": "1d735b4a",
   "metadata": {},
   "source": [
    "## More details\n",
    "* [Description of spikesorting datasets](https://docs.google.com/document/d/1OqIqqakPakHXRAwceYLwFY9gOrm8_P62XIfCTnHwstg/edit#heading=h.5houj8bng5o)\n",
    "* Available spikesorting algorithms\n",
    "    * [pykilosort](https://github.com/int-brain-lab/pykilosort#readme) (All data)\n",
    "    * [Kilosort 2.5](https://github.com/MouseLand/Kilosort/releases/tag/v2.5) (Most data collected before August 2021)"
   ]
  },
  {
   "cell_type": "markdown",
   "id": "0efd1e49",
   "metadata": {},
   "source": [
    "## Important information\n",
    "1. Data sorted with pykilosort is loaded by default. If the pykilosort spikesorting data is not available, the matlab kilosort 2.5 version will be loaded. See [Example 1](#Example-1:-Loading-different-spikesorting-versions) for more information.  \n",
    "2. The channel locations in the brain can come from several sources. it will load the most advanced version of the histology available, regardless of the spike sorting version loaded.  \n",
    "The steps, from most to least advanced, are:\n",
    "    * **alf**: the final version of channel locations, same as resolved with the difference that data has been written out to files\n",
    "    * **resolved**: channel location alignments have been agreed upon\n",
    "    * **aligned**: channel locations have been aligned, but review or other alignments are pending, potentially not accurate\n",
    "    * **traced**: the histology track has been recovered from microscopy, however the depths may not match, inacurate data\n",
    "3. The attributes `mlapdv`, `atlas_ids` and `acronyms` in the `clusters` and `channels` objects are only available for probe insertions where `sl.histology` is equal to **traced**, **aligned**, **resolved** or **alf**.\n",
    "4. The cluster and channel locations in the brain are only considered final for probe insertions with `sl.histology='resolved'`or `sl.histology='alf'`."
   ]
  },
  {
   "cell_type": "markdown",
   "id": "2bf5f003",
   "metadata": {},
   "source": [
    "## Useful modules\n",
    "* [brainbox.io.one.SpikeSortingLoader](https://int-brain-lab.github.io/iblenv/_autosummary/brainbox.io.one.html#brainbox.io.one.SpikeSortingLoader)\n",
    "* [brainbox.ephys_plots](https://int-brain-lab.github.io/iblenv/_autosummary/brainbox.ephys_plots.html)\n",
    "* [brainbox.population.decode.get_spike_counts_in_bins](https://int-brain-lab.github.io/iblenv/_autosummary/brainbox.population.decode.html#brainbox.population.decode.get_spike_counts_in_bins)\n",
    "* [brainbox.processing](https://int-brain-lab.github.io/iblenv/_autosummary/brainbox.processing.html#brainbox.processing)\n",
    "* [brainbox.metrics.single_units](https://int-brain-lab.github.io/iblenv/_autosummary/brainbox.metrics.single_units.html#module-brainbox.metrics.single_units)"
   ]
  },
  {
   "cell_type": "markdown",
   "id": "6490ecbb",
   "metadata": {},
   "source": [
    "## Exploring spikesorting data"
   ]
  },
  {
   "cell_type": "markdown",
   "id": "2882bdb5",
   "metadata": {},
   "source": [
    "### Example 1: Loading different spikesorting versions"
   ]
  },
  {
   "cell_type": "code",
   "execution_count": null,
   "id": "f0ef406e",
   "metadata": {},
   "outputs": [],
   "source": [
    "# By default, if available, the data spikesorted with pykilosort is loaded. \n",
    "# To find the spikesorting version that is loaded we can use\n",
    "sl.collection\n",
    "\n",
    "# To see all available spikesorted data for this probe insertion we can list the collections. \n",
    "# N.B. ks2.5 matlab spikesorted data is stored in the alf/probe00 folder\n",
    "sl.collections\n",
    "\n",
    "# The following can be used to load a specific version of spikesorting\n",
    "\n",
    "# pykilosort version\n",
    "spikes, clusters, channels = sl.load_spike_sorting(spike_sorter='pykilosort')\n",
    "\n",
    "# ks2.5 matlab version\n",
    "spikes, clusters, channels = sl.load_spike_sorting(spike_sorter='')"
   ]
  },
  {
   "cell_type": "markdown",
   "id": "2c3fd78a",
   "metadata": {},
   "source": [
    "### Example 2: Loading additional data"
   ]
  },
  {
   "cell_type": "code",
   "execution_count": null,
   "id": "22da2c3b",
   "metadata": {},
   "outputs": [],
   "source": [
    "# The default spikes and cluster attributes loaded are:\n",
    "# spikes - amps, clusters, depths, times\n",
    "# cluster - channels, depths, metrics\n",
    "\n",
    "#Other attributes can additionally be loaded in the following way\n",
    "spikes, clusters, channels = sl.load_spike_sorting(dataset_types=['clusters.amps', 'spikes.samples'])\n",
    "clusters = sl.merge_clusters(spikes, clusters, channels)"
   ]
  },
  {
   "cell_type": "markdown",
   "id": "fd67e3eb",
   "metadata": {},
   "source": [
    "### Example 3: Compute firing rate across session"
   ]
  },
  {
   "cell_type": "code",
   "execution_count": null,
   "id": "d4104dea",
   "metadata": {},
   "outputs": [],
   "source": [
    "from brainbox.ephys_plots import image_fr_plot\n",
    "from brainbox.processing import bincount2D\n",
    "import numpy as np\n",
    "\n",
    "time_bin = 0.05 # time bin in seconds\n",
    "depth_bin = 10 # depth bin in um\n",
    "\n",
    "# Remove any nan values\n",
    "kp_idx = np.bitwise_and(~np.isnan(spikes['times']), ~np.isnan(spikes['depths']))\n",
    "\n",
    "fr, time, depth = bincount2D(spikes['times'][kp_idx], spikes['depths'][kp_idx], time_bin, depth_bin)"
   ]
  },
  {
   "cell_type": "markdown",
   "id": "d72c65d2",
   "metadata": {},
   "source": [
    "### Example 4: Find clusters labelled as good"
   ]
  },
  {
   "cell_type": "code",
   "execution_count": null,
   "id": "5ec370b6",
   "metadata": {},
   "outputs": [],
   "source": [
    "good_clusterIDs = clusters['cluster_id'][clusters['label'] == 1]"
   ]
  },
  {
   "cell_type": "markdown",
   "id": "5d765770",
   "metadata": {},
   "source": [
    "### Example 5: Plot a raster for all units"
   ]
  },
  {
   "cell_type": "code",
   "execution_count": null,
   "id": "f471a8e5",
   "metadata": {
    "pycharm": {
     "name": "#%%\n"
    }
   },
   "outputs": [],
   "source": [
    "sl.raster(spikes, channels)"
   ]
  },
  {
   "cell_type": "markdown",
   "id": "28bf2229",
   "metadata": {},
   "source": [
    "## Other relevant examples\n",
    "* COMING SOON"
   ]
  }
 ],
 "metadata": {
  "kernelspec": {
   "display_name": "Python [conda env:iblenv] *",
   "language": "python",
   "name": "conda-env-iblenv-py"
  },
  "language_info": {
   "codemirror_mode": {
    "name": "ipython",
    "version": 3
   },
   "file_extension": ".py",
   "mimetype": "text/x-python",
   "name": "python",
   "nbconvert_exporter": "python",
   "pygments_lexer": "ipython3",
   "version": "3.9.7"
  }
 },
 "nbformat": 4,
 "nbformat_minor": 5
}
