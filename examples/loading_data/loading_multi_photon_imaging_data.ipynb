{
 "cells": [
  {
   "cell_type": "markdown",
   "metadata": {
    "collapsed": false,
    "ibl_execute": false,
    "pycharm": {
     "name": "#%% md\n"
    }
   },
   "source": [
    "# Loading Multi-photon Calcium Imaging Data\n",
    "\n",
    "Cellular Calcium activity recorded using a multi-photon imaging."
   ]
  },
  {
   "cell_type": "markdown",
   "metadata": {
    "collapsed": false
   },
   "source": [
    "## Relevant ALF objects\n",
    "* mpci\n",
    "* mpciROIs\n",
    "* mpciROITypes\n",
    "* mpciMeanImage\n",
    "* mpciStack\n",
    "\n",
    "## Terminology\n",
    "* **ROI** - A region of interest, usually a neuron soma, detected using an algorithm such as Suite2P.\n",
    "* **FOV** - A field of view is a plane or volume covering a region of the brain.\n",
    "* **Imaging stack** - Multiple FOVs acquired at different depths along the same z axis.\n",
    "\n",
    "## Finding sessions with imaging data\n",
    "Sessions that contain any form of imaging data have an 'Imaging' procedure. This includes sessions\n",
    "photometry, mesoscope, 2P, and widefield data.  To further filter by imaging modality you can query\n",
    "the imaging type associated with a session's field of view."
   ]
  },
  {
   "cell_type": "code",
   "execution_count": 1,
   "outputs": [],
   "source": [
    "# Find mesoscope imaging sessions\n",
    "from one.api import ONE\n",
    "one = ONE()\n",
    "assert not one.offline, 'ONE must be connect to Alyx for searching imaging sessions'\n",
    "\n",
    "query = 'field_of_view__imaging_type__name,mesoscope'\n",
    "eids = one.search(procedures='Imaging', django=query, query_type='remote')"
   ],
   "metadata": {
    "collapsed": false,
    "ExecuteTime": {
     "end_time": "2024-07-01T16:13:05.473193800Z",
     "start_time": "2024-07-01T16:12:52.080351500Z"
    }
   }
  },
  {
   "cell_type": "markdown",
   "metadata": {
    "collapsed": false,
    "pycharm": {
     "name": "#%% md\n"
    }
   },
   "source": [
    "Sessions can be further filtered by brain region.  You can filter with by Allen atlas name, acronym\n",
    "or ID, for example:\n",
    "\n",
    "* `atlas_name='Primary visual area'`\n",
    "* `atlas_acronym='VISp'`\n",
    "* `atlas_id=385`"
   ]
  },
  {
   "cell_type": "code",
   "execution_count": 2,
   "outputs": [],
   "source": [
    "# Find mesoscope imaging sessions in V1, layer 2/3\n",
    "query = 'field_of_view__imaging_type__name,mesoscope'\n",
    "eids = one.search(procedures='Imaging', django=query, query_type='remote', atlas_acronym='VISp2/3')"
   ],
   "metadata": {
    "collapsed": false,
    "ExecuteTime": {
     "end_time": "2024-07-01T16:13:05.483860700Z",
     "start_time": "2024-07-01T16:13:05.473193800Z"
    }
   }
  },
  {
   "cell_type": "markdown",
   "metadata": {
    "collapsed": false,
    "pycharm": {
     "name": "#%% md\n"
    }
   },
   "source": [
    "The 'details' flag will return the session details, including a `field_of_view` field which contains\n",
    "a list of each field of view and its location.  All preprocessed mpci imaging data is in `alf/FOV_XX`\n",
    "where XX is the field of view number. The `FOV_XX` corresponds to a field of view name in Alyx."
   ]
  },
  {
   "cell_type": "code",
   "execution_count": 3,
   "outputs": [
    {
     "name": "stdout",
     "output_type": "stream",
     "text": [
      "{'id': '5d210d00-9fa1-475e-9183-5af3fc6f9281', 'imaging_type': 'mesoscope', 'location': [{'id': '863feb81-635d-4be8-9aea-801fe17cdec9', 'brain_region': [593, 805], 'coordinate_system': 'IBL-Allen', 'provenance': 'E', 'x': [1524.224038768259, 2211.2735781060705, 1412.8068358620303, 2125.853722544629], 'y': [-3604.2337950500123, -3604.233795050006, -4304.2087950500145, -4304.208795050008], 'z': [-7.466537406952739, -174.58305699938734, -286.00954467253143, -388.1326959029978], 'n_xyz': [512, 512, 1], 'default_provenance': True, 'auto_datetime': '2024-06-27T15:08:48.904000'}], 'name': 'FOV_00', 'session': '23d5eb2a-05dc-442c-8a48-40e426088a4d', 'stack': None, 'datasets': ['edc0bbe3-5677-4578-a95f-e47998a81f03', '67825957-6ea7-4780-9693-19bbc04952e9', 'efd517c8-d004-45b7-8624-49a871fc4d96', '249e769d-9c4f-4be5-bff2-48f466d40e5b', '5dd53fb1-0658-4c04-bfc0-4045c2228198', 'd5df8a9c-9b77-428c-a404-d19dfa0faefc', '4e4c259e-8c69-431b-8eac-8178efb5f7ea', 'f25645fc-b3b6-40cd-b2db-4fe6b5a3d7b1', '7ff27118-2773-49cb-afea-f1134c6efa9f', '89a785c7-5a12-4d89-9fb5-e212f67e2fd0', 'd6589ad8-c3ce-43a7-88a7-44291f89a9e9', 'dbd72666-d5d2-45e6-98ee-c338bb31a272', 'd82a4dab-c438-46dc-bdb9-5bc425501546', '092cfe5e-1eb8-47b7-aece-72ce3c98496f', 'fc927fe4-c835-4e46-afb5-d8637674d402', 'dbaa2359-1b81-4565-a44c-adb62dfa0894', 'f5bcb465-54e4-4f16-a949-5609a625e04d']}\n"
     ]
    }
   ],
   "source": [
    "eids = one.search(procedures='Imaging', django=query, query_type='remote', atlas_acronym='VISp1')\n",
    "det = one.get_details(eids[0], full=True)\n",
    "FOVs = det['field_of_view']\n",
    "print(FOVs[0])"
   ],
   "metadata": {
    "collapsed": false,
    "ExecuteTime": {
     "end_time": "2024-07-01T16:13:05.540317800Z",
     "start_time": "2024-07-01T16:13:05.490422300Z"
    }
   }
  },
  {
   "cell_type": "markdown",
   "metadata": {
    "collapsed": false
   },
   "source": [
    "The ibllib AllenAtlas class allows you to search brain region descendents and ancestors in order to\n",
    "find the IDs of brain regions at a certain granularity."
   ]
  },
  {
   "cell_type": "code",
   "execution_count": 4,
   "outputs": [
    {
     "name": "stdout",
     "output_type": "stream",
     "text": [
      "Primary visual area (VISp: 385)\n",
      "Primary visual area layer 1 (VISp1: 593)\n",
      "Primary visual area layer 2/3 (VISp2/3: 821)\n",
      "Primary visual area layer 4 (VISp4: 721)\n",
      "Primary visual area layer 5 (VISp5: 778)\n",
      "Primary visual area layer 6a (VISp6a: 33)\n",
      "Primary visual area layer 6b (VISp6b: 305)\n"
     ]
    },
    {
     "data": {
      "text/plain": "{'id': array([385, 593, 821, 721, 778,  33, 305], dtype=int64),\n 'name': array(['Primary visual area', 'Primary visual area layer 1',\n        'Primary visual area layer 2/3', 'Primary visual area layer 4',\n        'Primary visual area layer 5', 'Primary visual area layer 6a',\n        'Primary visual area layer 6b'], dtype=object),\n 'acronym': array(['VISp', 'VISp1', 'VISp2/3', 'VISp4', 'VISp5', 'VISp6a', 'VISp6b'],\n       dtype=object),\n 'rgb': array([[  8, 133, 140],\n        [  8, 133, 140],\n        [  8, 133, 140],\n        [  8, 133, 140],\n        [  8, 133, 140],\n        [  8, 133, 140],\n        [  8, 133, 140]], dtype=uint8),\n 'level': array([7, 8, 8, 8, 8, 8, 8], dtype=uint16),\n 'parent': array([669., 385., 385., 385., 385., 385., 385.]),\n 'order': array([185, 186, 187, 188, 189, 190, 191], dtype=uint16)}"
     },
     "execution_count": 4,
     "metadata": {},
     "output_type": "execute_result"
    }
   ],
   "source": [
    "# Search brain areas by name using Alyx\n",
    "V1 = one.alyx.rest('brain-regions', 'list', name='Primary visual area')\n",
    "for area in V1:\n",
    "    print('%s (%s: %i)' % (area['name'], area['acronym'], area['id']))\n",
    "\n",
    "\n",
    "from iblatlas.atlas import AllenAtlas\n",
    "atlas = AllenAtlas()\n",
    "\n",
    "# Interconvert ID and acronym\n",
    "V1_id = atlas.regions.acronym2id('VISp')\n",
    "V1_acronym = atlas.regions.id2acronym(V1_id)\n",
    "\n",
    "# Show all descendents of primary visual area (i.e. all layers)\n",
    "atlas.regions.descendants(V1_id)"
   ],
   "metadata": {
    "collapsed": false,
    "ExecuteTime": {
     "end_time": "2024-07-01T16:13:07.840392600Z",
     "start_time": "2024-07-01T16:13:05.540317800Z"
    }
   }
  },
  {
   "cell_type": "markdown",
   "metadata": {
    "collapsed": false,
    "pycharm": {
     "name": "#%% md\n"
    }
   },
   "source": [
    "For more information see \"[Working with ibllib atlas](./atlas_working_with_ibllib_atlas.html)\"."
   ]
  },
  {
   "cell_type": "markdown",
   "metadata": {
    "collapsed": false,
    "pycharm": {
     "name": "#%% md\n"
    }
   },
   "source": [
    "## Loading imaging data for a given field of view\n",
    "\n",
    "For mesoscope sessions there are likely more than one field of view, not all of which cover the\n",
    "area of interest.  For mesoscope sessions it's therefore more useful to search by field of view instead.\n",
    "Each field of view returned contains a session eid for loading data with."
   ]
  },
  {
   "cell_type": "code",
   "execution_count": 5,
   "outputs": [],
   "source": [
    "# Search for all mesoscope fields of view containing V1\n",
    "FOVs = one.alyx.rest('fields-of-view', 'list', imaging_type='mesoscope', atlas_acronym='VISp')\n",
    "# Download all data for the first field of view\n",
    "FOV_00  = one.load_collection(FOVs[0]['session'], '*' + FOVs[0]['name'])\n",
    "\n",
    "# Search the fields of view for a specific session that took place in a given brain region\n",
    "eid = '748f3e27-5097-4b1b-a535-5940aaa52909'\n",
    "FOVs = one.alyx.rest('fields-of-view', 'list', imaging_type='mesoscope', atlas_id=281, session=eid)"
   ],
   "metadata": {
    "collapsed": false,
    "ExecuteTime": {
     "end_time": "2024-07-01T16:13:11.280228100Z",
     "start_time": "2024-07-01T16:13:07.835332Z"
    }
   }
  },
  {
   "cell_type": "markdown",
   "metadata": {
    "collapsed": false,
    "pycharm": {
     "name": "#%% md\n"
    }
   },
   "source": [
    "## Loading imaging stacks\n",
    "For mesoscope sessions the same region may be acquired at multiple depths.  The plane at each depth\n",
    "is considered a separate field of view and are related to one another through the stack object.\n",
    "If a field of view was acquired as part of a stack, the `stack` field will contain an ID. You can\n",
    "find all fields of view in a given stack by querying the 'imaging-stack' endpoint:"
   ]
  },
  {
   "cell_type": "code",
   "execution_count": 6,
   "outputs": [
    {
     "name": "stdout",
     "output_type": "stream",
     "text": [
      "There were 2 fields of view in stack 0458ac46-5841-47c5-8a3c-2782052e6d0b\n"
     ]
    }
   ],
   "source": [
    "stack = one.alyx.rest('imaging-stack', 'read', id=FOVs[0]['stack'])\n",
    "FOVs = stack['slices']\n",
    "print('There were %i fields of view in stack %s' % (len(FOVs), stack['id']))"
   ],
   "metadata": {
    "collapsed": false,
    "ExecuteTime": {
     "end_time": "2024-07-01T16:13:11.380246700Z",
     "start_time": "2024-07-01T16:13:11.285235900Z"
    }
   }
  },
  {
   "cell_type": "markdown",
   "metadata": {
    "collapsed": false
   },
   "source": [
    "### List the number of fields of view (FOVs) recorded during a session"
   ]
  },
  {
   "cell_type": "code",
   "execution_count": 7,
   "outputs": [],
   "source": [
    "from one.api import ONE\n",
    "one = ONE()\n",
    "eid = '009aad6f-1881-46ca-b763-bc4ec8972692'\n",
    "\n",
    "fov_folders = one.list_collections(eid, collection='alf/FOV_*')\n",
    "fovs = sorted(map(lambda x: int(x[-2:]), fov_folders))\n",
    "nFOV = len(fovs)"
   ],
   "metadata": {
    "collapsed": false,
    "ExecuteTime": {
     "end_time": "2024-07-01T16:13:11.410206700Z",
     "start_time": "2024-07-01T16:13:11.324931300Z"
    }
   }
  },
  {
   "cell_type": "markdown",
   "metadata": {
    "collapsed": false
   },
   "source": [
    "## Loading ROI activity for a single session"
   ]
  },
  {
   "cell_type": "code",
   "execution_count": 8,
   "outputs": [
    {
     "name": "stdout",
     "output_type": "stream",
     "text": [
      "dict_keys(['mpciROITypes', 'mpciROIs', 'mpci', 'mpciStack'])\n",
      "dict_keys(['FOV_04', 'FOV_02', 'FOV_07', 'FOV_06', 'FOV_03', 'FOV_00', 'FOV_05', 'FOV_01'])\n",
      "dict_keys(['mpciROITypes', 'mpciROIs', 'mpci', 'mpciStack'])\n"
     ]
    }
   ],
   "source": [
    "# Loading ROI activity for a single FOV\n",
    "objects = ['mpci', 'mpciROIs', 'mpciROITypes', 'mpciStack']\n",
    "ROI_data_00 = one.load_collection(eid, 'alf/FOV_00', object=objects)\n",
    "print(ROI_data_00.keys())\n",
    "\n",
    "# Loading ROI activity for all FOVs\n",
    "from iblutil.util import Bunch\n",
    "all_ROI_data = Bunch()\n",
    "for fov in fov_folders:\n",
    "    all_ROI_data[fov.split('/')[-1]] = one.load_collection(eid, fov, object=objects)\n",
    "print(all_ROI_data.keys())\n",
    "print(all_ROI_data.FOV_00.keys())"
   ],
   "metadata": {
    "collapsed": false,
    "ExecuteTime": {
     "end_time": "2024-07-01T16:13:27.570148700Z",
     "start_time": "2024-07-01T16:13:11.400410200Z"
    }
   }
  },
  {
   "cell_type": "markdown",
   "metadata": {
    "collapsed": false,
    "pycharm": {
     "name": "#%% md\n"
    }
   },
   "source": [
    "### Get the brain location of an ROI\n",
    "The brain location of each ROI are first estimated using the surgical coordinates of the imaging window.\n",
    "These datasets have an '_estimate' in the name.  After histological alignment, datasets are created\n",
    "without '_estimate' in the name.  The histologically aligned locations are most accurate and should be\n",
    "used where available."
   ]
  },
  {
   "cell_type": "code",
   "execution_count": 9,
   "outputs": [
    {
     "name": "stdout",
     "output_type": "stream",
     "text": [
      "ROI 0 was located in ['RSPd1']\n"
     ]
    }
   ],
   "source": [
    "roi = 0  # The ROI index to lookup\n",
    "final_alignment =  'brainLocationsIds_ccf_2017' in ROI_data_00['mpciROIs']\n",
    "key = 'brainLocationsIds_ccf_2017' if final_alignment else 'brainLocationIds_ccf_2017_estimate'\n",
    "\n",
    "atlas_id = ROI_data_00['mpciROIs'][key][roi]\n",
    "print(f'ROI {roi} was located in {atlas.regions.id2acronym(atlas_id)}')"
   ],
   "metadata": {
    "collapsed": false,
    "ExecuteTime": {
     "end_time": "2024-07-01T16:13:27.580238100Z",
     "start_time": "2024-07-01T16:13:27.568100200Z"
    }
   }
  },
  {
   "cell_type": "markdown",
   "metadata": {
    "collapsed": false,
    "pycharm": {
     "name": "#%% md\n"
    }
   },
   "source": [
    "## Loading times\n",
    "Timestamps for each frame are in seconds from session start and represent the time when frame acquisition started.\n",
    "Typically a laser scans each voxel in the field of view in a line by line fashion (this may vary across apparatus and\n",
    "in configuarations such as dual plane mode).  Thus there is a fixed time offset between regions of interest.\n",
    "The offset can be found in the mpciStack.timeshift.npy dataset and depending on its shape, may be per voxel or per\n",
    "scan line."
   ]
  },
  {
   "cell_type": "code",
   "execution_count": 10,
   "outputs": [
    {
     "data": {
      "text/plain": "<Figure size 640x480 with 1 Axes>",
      "image/png": "[encoded data removed]"
     },
     "metadata": {},
     "output_type": "display_data"
    }
   ],
   "source": [
    "frame_times = ROI_data_00['mpci']['times']\n",
    "roi_xyz = ROI_data_00['mpciROIs']['stackPos']\n",
    "timeshift = ROI_data_00['mpciStack']['timeshift']\n",
    "roi_offsets = timeshift[roi_xyz[:, len(timeshift.shape)]]\n",
    "# An array of timestamps of shape (n_roi, n_frames)\n",
    "import numpy as np\n",
    "roi_times = np.tile(frame_times, (roi_offsets.size, 1)) + roi_offsets[np.newaxis, :].T\n",
    "\n",
    "import matplotlib.pyplot as plt\n",
    "roi_signal = ROI_data_00['mpci']['ROIActivityF'].T\n",
    "roi = 2  # The ROI index to lookup\n",
    "plt.plot(roi_times[roi], roi_signal[roi])\n",
    "plt.xlabel('Timestamps / s'), plt.ylabel('ROI activity / photodetector units');"
   ],
   "metadata": {
    "collapsed": false,
    "ExecuteTime": {
     "end_time": "2024-07-01T16:13:27.965897700Z",
     "start_time": "2024-07-01T16:13:27.590527700Z"
    }
   }
  },
  {
   "cell_type": "markdown",
   "metadata": {
    "collapsed": false,
    "pycharm": {
     "name": "#%% md\n"
    }
   },
   "source": [
    "### Search for sessions with multi-depth fields of view (imaging stacks)"
   ]
  },
  {
   "cell_type": "code",
   "execution_count": 11,
   "outputs": [],
   "source": [
    "query = 'field_of_view__stack__isnull,False'\n",
    "eids, det = one.search(procedures='Imaging', django=query, query_type='remote', details=True)"
   ],
   "metadata": {
    "collapsed": false,
    "ExecuteTime": {
     "end_time": "2024-07-01T16:13:28.145268300Z",
     "start_time": "2024-07-01T16:13:27.960374800Z"
    }
   }
  },
  {
   "cell_type": "markdown",
   "metadata": {
    "collapsed": false,
    "pycharm": {
     "name": "#%% md\n"
    }
   },
   "source": [
    "### Search sessions with GCaMP mice\n",
    "..."
   ]
  },
  {
   "cell_type": "markdown",
   "metadata": {
    "collapsed": false,
    "pycharm": {
     "name": "#%% md\n"
    }
   },
   "source": [
    "## More details\n",
    "* [Description of mesoscope datasets](https://docs.google.com/document/d/1OqIqqakPakHXRAwceYLwFY9gOrm8_P62XIfCTnHwstg/edit#heading=h.nvzaz0fozs8h)\n",
    "* [Loading raw mesoscope data](./loading_raw_mesoscope_data.ipynb)"
   ]
  }
 ],
 "metadata": {
  "ibl_execute": false,
  "kernelspec": {
   "display_name": "Python 3",
   "language": "python",
   "name": "python3"
  },
  "language_info": {
   "codemirror_mode": {
    "name": "ipython",
    "version": 3
   },
   "file_extension": ".py",
   "mimetype": "text/x-python",
   "name": "python",
   "nbconvert_exporter": "python",
   "pygments_lexer": "ipython3",
   "version": "3.11.6"
  }
 },
 "nbformat": 4,
 "nbformat_minor": 0
}
