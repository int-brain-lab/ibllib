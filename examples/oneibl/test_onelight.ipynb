{
 "cells": [
  {
   "cell_type": "markdown",
   "metadata": {},
   "source": [
    "# Downloading data with ONE light"
   ]
  },
  {
   "cell_type": "markdown",
   "metadata": {},
   "source": [
    "We import the libraries."
   ]
  },
  {
   "cell_type": "code",
   "execution_count": 1,
   "metadata": {},
   "outputs": [],
   "source": [
    "import numpy as np\n",
    "import matplotlib.pyplot as plt\n",
    "%matplotlib inline"
   ]
  },
  {
   "cell_type": "code",
   "execution_count": 2,
   "metadata": {},
   "outputs": [],
   "source": [
    "from oneibl import onelight as one"
   ]
  },
  {
   "cell_type": "markdown",
   "metadata": {},
   "source": [
    "We set the current repository to a figshare article, that was specially created with ONE light:"
   ]
  },
  {
   "cell_type": "code",
   "execution_count": 3,
   "metadata": {},
   "outputs": [],
   "source": [
    "one.set_figshare_url(\"https://figshare.com/articles/steinmetz/9974357\")"
   ]
  },
  {
   "cell_type": "markdown",
   "metadata": {},
   "source": [
    "We search all sessions that have files with a given dataset type. We could pass multiple dataset types. Here, we get all sessions that have spikes:"
   ]
  },
  {
   "cell_type": "code",
   "execution_count": 4,
   "metadata": {},
   "outputs": [],
   "source": [
    "sessions = one.search(['spikes'])"
   ]
  },
  {
   "cell_type": "markdown",
   "metadata": {},
   "source": [
    "Within a repository, every session is uniquely identified by its full name, which has the following structure: `labname/Subjects/subjectname/date/session`."
   ]
  },
  {
   "cell_type": "code",
   "execution_count": 5,
   "metadata": {},
   "outputs": [
    {
     "data": {
      "text/plain": [
       "['nicklab/Subjects/Cori/2016-12-14/001',\n",
       " 'nicklab/Subjects/Cori/2016-12-17/001',\n",
       " 'nicklab/Subjects/Cori/2016-12-18/001',\n",
       " 'nicklab/Subjects/Forssmann/2017-11-01/001',\n",
       " 'nicklab/Subjects/Forssmann/2017-11-02/001',\n",
       " 'nicklab/Subjects/Forssmann/2017-11-04/001',\n",
       " 'nicklab/Subjects/Forssmann/2017-11-05/001',\n",
       " 'nicklab/Subjects/Hench/2017-06-15/001',\n",
       " 'nicklab/Subjects/Hench/2017-06-16/001',\n",
       " 'nicklab/Subjects/Hench/2017-06-17/001',\n",
       " 'nicklab/Subjects/Hench/2017-06-18/001',\n",
       " 'nicklab/Subjects/Lederberg/2017-12-05/001',\n",
       " 'nicklab/Subjects/Lederberg/2017-12-06/001',\n",
       " 'nicklab/Subjects/Lederberg/2017-12-07/001',\n",
       " 'nicklab/Subjects/Lederberg/2017-12-08/001',\n",
       " 'nicklab/Subjects/Lederberg/2017-12-09/001',\n",
       " 'nicklab/Subjects/Lederberg/2017-12-10/001',\n",
       " 'nicklab/Subjects/Lederberg/2017-12-11/001',\n",
       " 'nicklab/Subjects/Moniz/2017-05-15/001',\n",
       " 'nicklab/Subjects/Moniz/2017-05-16/001',\n",
       " 'nicklab/Subjects/Moniz/2017-05-18/001',\n",
       " 'nicklab/Subjects/Muller/2017-01-07/001',\n",
       " 'nicklab/Subjects/Muller/2017-01-08/001',\n",
       " 'nicklab/Subjects/Muller/2017-01-09/001',\n",
       " 'nicklab/Subjects/Radnitz/2017-01-08/001',\n",
       " 'nicklab/Subjects/Radnitz/2017-01-09/001',\n",
       " 'nicklab/Subjects/Radnitz/2017-01-10/001',\n",
       " 'nicklab/Subjects/Radnitz/2017-01-11/001',\n",
       " 'nicklab/Subjects/Radnitz/2017-01-12/001',\n",
       " 'nicklab/Subjects/Richards/2017-10-29/001',\n",
       " 'nicklab/Subjects/Richards/2017-10-30/001',\n",
       " 'nicklab/Subjects/Richards/2017-10-31/001',\n",
       " 'nicklab/Subjects/Richards/2017-11-01/001',\n",
       " 'nicklab/Subjects/Richards/2017-11-02/001',\n",
       " 'nicklab/Subjects/Tatum/2017-12-06/001',\n",
       " 'nicklab/Subjects/Tatum/2017-12-07/001',\n",
       " 'nicklab/Subjects/Tatum/2017-12-08/001',\n",
       " 'nicklab/Subjects/Tatum/2017-12-09/001',\n",
       " 'nicklab/Subjects/Theiler/2017-10-11/001']"
      ]
     },
     "execution_count": 5,
     "metadata": {},
     "output_type": "execute_result"
    }
   ],
   "source": [
    "sessions"
   ]
  },
  {
   "cell_type": "markdown",
   "metadata": {},
   "source": [
    "We take the first session."
   ]
  },
  {
   "cell_type": "code",
   "execution_count": 6,
   "metadata": {},
   "outputs": [],
   "source": [
    "session = sessions[0]"
   ]
  },
  {
   "cell_type": "markdown",
   "metadata": {},
   "source": [
    "What are the dataset types contained in this session?"
   ]
  },
  {
   "cell_type": "code",
   "execution_count": 7,
   "metadata": {},
   "outputs": [
    {
     "data": {
      "text/plain": [
       "['Cori_2016-12-14_M2_g0_t0.imec',\n",
       " 'Cori_2016-12-14_V1_g0_t0.imec',\n",
       " 'channels.brainLocation',\n",
       " 'channels.probe',\n",
       " 'channels.rawRow',\n",
       " 'channels.site',\n",
       " 'channels.sitePositions',\n",
       " 'clusters._phy_annotation',\n",
       " 'clusters.depths',\n",
       " 'clusters.originalIDs',\n",
       " 'clusters.peakChannel',\n",
       " 'clusters.probes',\n",
       " 'clusters.templateWaveformChans',\n",
       " 'clusters.templateWaveforms',\n",
       " 'clusters.waveformDuration',\n",
       " 'eye.area',\n",
       " 'eye.timestamps',\n",
       " 'eye.xyPos',\n",
       " 'face.motionEnergy',\n",
       " 'face.timestamps',\n",
       " 'lickPiezo.raw',\n",
       " 'lickPiezo.timestamps',\n",
       " 'licks.times',\n",
       " 'passiveBeeps.times',\n",
       " 'passiveValveClick.times',\n",
       " 'passiveVisual.contrastLeft',\n",
       " 'passiveVisual.contrastRight',\n",
       " 'passiveVisual.times',\n",
       " 'passiveWhiteNoise.times',\n",
       " 'probes.description',\n",
       " 'probes.insertion',\n",
       " 'probes.rawFilename',\n",
       " 'probes.sitePositions',\n",
       " 'sparseNoise.positions',\n",
       " 'sparseNoise.times',\n",
       " 'spikes.amps',\n",
       " 'spikes.clusters',\n",
       " 'spikes.depths',\n",
       " 'spikes.times',\n",
       " 'spontaneous.intervals',\n",
       " 'trials.feedbackType',\n",
       " 'trials.feedback_times',\n",
       " 'trials.goCue_times',\n",
       " 'trials.included',\n",
       " 'trials.intervals',\n",
       " 'trials.repNum',\n",
       " 'trials.response_choice',\n",
       " 'trials.response_times',\n",
       " 'trials.visualStim_contrastLeft',\n",
       " 'trials.visualStim_contrastRight',\n",
       " 'trials.visualStim_times',\n",
       " 'wheel.position',\n",
       " 'wheel.timestamps',\n",
       " 'wheelMoves.intervals',\n",
       " 'wheelMoves.type']"
      ]
     },
     "execution_count": 7,
     "metadata": {},
     "output_type": "execute_result"
    }
   ],
   "source": [
    "one.list_(session)"
   ]
  },
  {
   "cell_type": "markdown",
   "metadata": {},
   "source": [
    "We can load either single files, or full objects.\n",
    "First, let's load the spike times:"
   ]
  },
  {
   "cell_type": "code",
   "execution_count": 8,
   "metadata": {},
   "outputs": [
    {
     "name": "stderr",
     "output_type": "stream",
     "text": [
      "\u001b[0m10:38:37.879 [I] onelight:336         Downloading https://ndownloader.figshare.com/files/17984294 to /home/cyrille/.one/data/figshare_00/nicklab/Subjects/Cori/2016-12-14/001/alf/spikes.times.npy.\u001b[0m\n"
     ]
    },
    {
     "data": {
      "text/plain": [
       "array([[3.36666667e-03],\n",
       "       [4.73333333e-03],\n",
       "       [6.76666667e-03],\n",
       "       ...,\n",
       "       [2.70264303e+03],\n",
       "       [2.70264313e+03],\n",
       "       [2.70264316e+03]])"
      ]
     },
     "execution_count": 8,
     "metadata": {},
     "output_type": "execute_result"
    }
   ],
   "source": [
    "one.load_dataset(session, 'spikes.times')"
   ]
  },
  {
   "cell_type": "markdown",
   "metadata": {},
   "source": [
    "Now, we load all `spikes.*` files:"
   ]
  },
  {
   "cell_type": "code",
   "execution_count": 9,
   "metadata": {},
   "outputs": [
    {
     "name": "stderr",
     "output_type": "stream",
     "text": [
      "\u001b[0m10:38:39.506 [I] onelight:336         Downloading https://ndownloader.figshare.com/files/17984285 to /home/cyrille/.one/data/figshare_00/nicklab/Subjects/Cori/2016-12-14/001/alf/spikes.amps.npy.\u001b[0m\n",
      "\u001b[0m10:38:41.007 [I] onelight:336         Downloading https://ndownloader.figshare.com/files/17984288 to /home/cyrille/.one/data/figshare_00/nicklab/Subjects/Cori/2016-12-14/001/alf/spikes.clusters.npy.\u001b[0m\n",
      "\u001b[0m10:38:41.904 [I] onelight:336         Downloading https://ndownloader.figshare.com/files/17984291 to /home/cyrille/.one/data/figshare_00/nicklab/Subjects/Cori/2016-12-14/001/alf/spikes.depths.npy.\u001b[0m\n"
     ]
    }
   ],
   "source": [
    "spikes = one.load_object(session, 'spikes')"
   ]
  },
  {
   "cell_type": "markdown",
   "metadata": {},
   "source": [
    "The `spikes` object is an instance of a dictionary, that also allows for the more convenient syntax interface `spikes.times` in addition to `spikes['times']`. Here, we display a raster plot of the first 100,000 spikes:"
   ]
  },
  {
   "cell_type": "code",
   "execution_count": 10,
   "metadata": {},
   "outputs": [
    {
     "data": {
      "image/png": "[encoded data removed]",
      "text/plain": [
       "<Figure size 432x288 with 1 Axes>"
      ]
     },
     "metadata": {
      "needs_background": "light"
     },
     "output_type": "display_data"
    }
   ],
   "source": [
    "plt.plot(spikes.times[:100000], spikes.clusters[:100000], ',');"
   ]
  }
 ],
 "metadata": {
  "kernelspec": {
   "display_name": "Python 3",
   "language": "python",
   "name": "python3"
  },
  "language_info": {
   "codemirror_mode": {
    "name": "ipython",
    "version": 3
   },
   "file_extension": ".py",
   "mimetype": "text/x-python",
   "name": "python",
   "nbconvert_exporter": "python",
   "pygments_lexer": "ipython3",
   "version": "3.7.4"
  }
 },
 "nbformat": 4,
 "nbformat_minor": 4
}
