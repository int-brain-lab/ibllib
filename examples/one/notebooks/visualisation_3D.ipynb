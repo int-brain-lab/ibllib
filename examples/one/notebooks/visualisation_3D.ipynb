{
 "cells": [
  {
   "cell_type": "markdown",
   "metadata": {},
   "source": [
    "# 3D trajectory"
   ]
  },
  {
   "cell_type": "code",
   "execution_count": 7,
   "metadata": {},
   "outputs": [
    {
     "name": "stdout",
     "output_type": "stream",
     "text": [
      "Notebook initialized with ipy backend.\n",
      "Connected to https://alyx.internationalbrainlab.org as mayo\n"
     ]
    }
   ],
   "source": [
    "\"\"\"\n",
    "Generates 3D rendering of all probe trajectories for a single subject.\n",
    "\n",
    "The trajectory plotted are:\n",
    "'Micro-manipulator': Green\n",
    "'Histology track': Red\n",
    "'Planned': Blue\n",
    "\"\"\"\n",
    "# Author: Olivier\n",
    "# environment installation guide https://github.com/int-brain-lab/iblenv\n",
    "# run \"%qui qt\" magic command from Ipython prompt for interactive mode\n",
    "#%gui qt\n",
    "from mayavi import mlab\n",
    "mlab.init_notebook()\n",
    "from atlaselectrophysiology import rendering\n",
    "import ibllib.atlas as atlas\n",
    "from oneibl.one import ONE\n",
    "\n",
    "one = ONE(base_url=\"https://alyx.internationalbrainlab.org\")\n",
    "\n",
    "\n",
    "fig = rendering.figure()\n",
    "subject = 'KS003'\n",
    "trajs = one.alyx.rest('trajectories', 'list', subject=subject)\n",
    "\n",
    "ba_allen = atlas.AllenAtlas(25)\n",
    "ba_needles = atlas.NeedlesAtlas(25)\n",
    "\n",
    "plt_trj = []\n",
    "for index, trj in enumerate(trajs):\n",
    "    if trj['coordinate_system'] == 'IBL-Allen':\n",
    "        brain_atlas = ba_allen\n",
    "    elif trj['coordinate_system'] == 'Needles-Allen':\n",
    "        brain_atlas = ba_needles\n",
    "    ins = atlas.Insertion.from_dict(trj, brain_atlas=brain_atlas)\n",
    "    ins = atlas.Insertion.from_dict(trj, brain_atlas=ba_allen)\n",
    "\n",
    "    mlapdv = brain_atlas.xyz2ccf(ins.xyz)\n",
    "    if trj['provenance'] == 'Micro-manipulator':\n",
    "        color = (0., 1., 0.)  # Green\n",
    "    elif trj['provenance'] == 'Histology track':\n",
    "        color = (1., 0., 0.)  # Red\n",
    "    elif trj['provenance'] == 'Planned':\n",
    "        color = (0., 0., 1.)  # Blue\n",
    "\n",
    "    lab = f\"{trj['session']['subject']}/{trj['session']['start_time'][:10]}/\" \\\n",
    "          f\"{str(trj['session']['number']).zfill(3)}\"\n",
    "    plt = mlab.plot3d(mlapdv[:, 1], mlapdv[:, 2], mlapdv[:, 0],\n",
    "                      line_width=3, color=color, tube_radius=20)\n",
    "    # setup the labels at the top of the trajectories\n",
    "    mlab.text3d(mlapdv[0, 1], mlapdv[0, 2], mlapdv[0, 0] - 500, lab,\n",
    "                line_width=4, color=tuple(color), figure=fig, scale=150)\n",
    "    plt_trj.append(plt)\n",
    "\n",
    "fig"
   ]
  }
 ],
 "metadata": {
  "kernelspec": {
   "display_name": "Python 3.7.7 64-bit ('iblenv_testing': conda)",
   "language": "python",
   "name": "python37764bitiblenvtestingconda10a7de569df84277a8ded0c98b871879"
  },
  "language_info": {
   "codemirror_mode": {
    "name": "ipython",
    "version": 3
   },
   "file_extension": ".py",
   "mimetype": "text/x-python",
   "name": "python",
   "nbconvert_exporter": "python",
   "pygments_lexer": "ipython3",
   "version": "3.7.7"
  }
 },
 "nbformat": 4,
 "nbformat_minor": 4
}
