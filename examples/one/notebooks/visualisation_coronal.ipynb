{
 "cells": [
  {
   "cell_type": "markdown",
   "metadata": {},
   "source": [
    "# Coronal slice and probe track"
   ]
  },
  {
   "cell_type": "code",
   "execution_count": null,
   "metadata": {},
   "outputs": [],
   "source": [
    "'''\n",
    "Plot a coronal slice (best fit) that contains a given probe track.\n",
    "As input, use an eID and probe label.\n",
    "environment installation guide https://github.com/int-brain-lab/iblenv\n",
    "'''\n",
    "# Author: Olivier Winter\n",
    "\n",
    "import numpy as np\n",
    "\n",
    "import ibllib.atlas as atlas\n",
    "from oneibl.one import ONE\n",
    "import brainbox.io.one as bbone\n",
    "\n",
    "# === Parameters section (edit) ===\n",
    "eid = '614e1937-4b24-4ad3-9055-c8253d089919'\n",
    "probe_label = 'probe01'\n",
    "# === Code (do not edit) ===\n",
    "ba = atlas.AllenAtlas(25)\n",
    "one = ONE(base_url=\"https://alyx.internationalbrainlab.org\")\n",
    "one.path_from_eid(eid)\n",
    "traj = one.alyx.rest('trajectories', 'list', session=eid,\n",
    "                     provenance='Histology track', probe=probe_label)[0]\n",
    "channels = bbone.load_channel_locations(eid=eid, one=one, probe=probe_label)\n",
    "\n",
    "picks = one.alyx.rest('insertions', 'read', id=traj['probe_insertion'])['json']\n",
    "picks = np.array(picks['xyz_picks']) / 1e6\n",
    "ins = atlas.Insertion.from_dict(traj)\n",
    "\n",
    "cax = ba.plot_tilted_slice(xyz=picks, axis=1, volume='image')\n",
    "cax.plot(picks[:, 0] * 1e6, picks[:, 2] * 1e6)\n",
    "cax.plot(channels[probe_label].x * 1e6, channels[probe_label].z * 1e6, 'g*')\n"
   ]
  }
 ],
 "metadata": {
  "kernelspec": {
   "display_name": "Python 3.7.7 64-bit ('iblenv_testing': conda)",
   "language": "python",
   "name": "python37764bitiblenvtestingconda10a7de569df84277a8ded0c98b871879"
  },
  "language_info": {
   "codemirror_mode": {
    "name": "ipython",
    "version": 3
   },
   "file_extension": ".py",
   "mimetype": "text/x-python",
   "name": "python",
   "nbconvert_exporter": "python",
   "pygments_lexer": "ipython3",
   "version": "3.7.7"
  }
 },
 "nbformat": 4,
 "nbformat_minor": 4
}
