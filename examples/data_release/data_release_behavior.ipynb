{
 "cells": [
  {
   "cell_type": "markdown",
   "id": "7ceb904d",
   "metadata": {
    "pycharm": {
     "name": "#%% md\n"
    }
   },
   "source": [
    "# Data Release - Behavior\n",
    "\n",
    "The International Brain Laboratory is a team of systems and computational neuroscientists, working collaboratively to understand the computations that support decision-making in the brain. To achieve this aim, we have developed a standardized decision-making task in mice in order that probes decision-making. The task requires mice to perform decisions by combining incoming visual evidence with internal beliefs about the dynamic structure of the environment. Please read our accompanying [paper (The International Brain Laboratory et al. 2020)](https://elifesciences.org/articles/63711) for details on the decision-making task and the experiment.\n"
   ]
  },
  {
   "cell_type": "markdown",
   "source": [
    "## Overview of the Data\n",
    "We have released behavioral data throughout learning from our standardized training pipeline, implemented across 9 labs in 7 institutions. Users can download behavioral data from mice throughout their training, and analyse the transition from novice to expert behavior unfold. The behavioral data is associated with 198 mice up until 2020-03-23, as used in [The International Brain Laboratory et al. 2020](https://elifesciences.org/articles/63711). This dataset contains notably information on the sensory stimuli presented to the mouse, as well as mouse decisions and response times.\n",
    "\n",
    "\n",
    "## Data structure and download\n",
    "The organisation of the data follows the standard IBL data structure.\n",
    "\n",
    "Please see\n",
    "\n",
    "* [These instructions](https://int-brain-lab.github.io/iblenv/notebooks_external/data_structure.html) to download an example dataset for one session, and get familiarised with the data structure\n",
    "* [These instructions](https://int-brain-lab.github.io/iblenv/notebooks_external/data_download.html) to learn how to use the ONE-api to search and download the released datasets\n",
    "* [These instructions](https://int-brain-lab.github.io/iblenv/loading_examples.html) to get familiarised with specific data loading functions\n",
    "* [These instructions](https://int-brain-lab.github.io/iblenv/dj_docs/dj_public.html) for instructions on how to access this dataset via Datajoint. (warning: this method may be retired in 2023)\n",
    "\n",
    "\n",
    "Note:\n",
    "\n",
    "* The tag associated to this release is `2021_Q1_IBL_et_al_Behaviour`"
   ],
   "metadata": {
    "collapsed": false
   }
  }
 ],
 "metadata": {
  "celltoolbar": "Edit Metadata",
  "kernelspec": {
   "display_name": "Python [conda env:iblenv] *",
   "language": "python",
   "name": "conda-env-iblenv-py"
  },
  "language_info": {
   "codemirror_mode": {
    "name": "ipython",
    "version": 3
   },
   "file_extension": ".py",
   "mimetype": "text/x-python",
   "name": "python",
   "nbconvert_exporter": "python",
   "pygments_lexer": "ipython3",
   "version": "3.9.7"
  }
 },
 "nbformat": 4,
 "nbformat_minor": 5
}