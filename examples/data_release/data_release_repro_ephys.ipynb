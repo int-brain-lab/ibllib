{
 "cells": [
  {
   "cell_type": "markdown",
   "id": "7ceb904d",
   "metadata": {},
   "source": [
    "# Data Release - Reproducible Ephys Paper\n",
    "\n",
    "Understanding whole-brain-scale electrophysiological recordings will rely on the collective work of multiple labs. Because two labs recording from the same brain area often reach different conclusions, it is critical to quantify and control for features that decrease reproducibility. To address these issues, we formed a multi-lab collaboration using a shared, open-source behavioral task and experimental apparatus. We repeatedly inserted Neuropixels multi-electrode probes targeting the same brain locations (called the repeated site, including posterior parietal cortex, hippocampus, and thalamus) in mice performing the behavioral task. For a full description of the study, please see the [associated article](https://www.biorxiv.org/content/10.1101/2022.05.09.491042v3).\n",
    "<!--- TODO add ref to paper here once in press (Cell?) -->"
   ]
  },
  {
   "cell_type": "markdown",
   "id": "ea567308",
   "metadata": {
    "pycharm": {
     "name": "#%% md\n"
    }
   },
   "source": [
    "## Overview of the Data\n",
    "As part of this paper we have released data from 60 Neuropixel recording sessions, across 8 different laboratories, obtained at the repeated site location during the IBL task. The data comprises both processed and raw data that are arranged into collections (folders). \n",
    "\n",
    "Metadata for an additional 23 sessions has also been released. These contain information that was used for the histology targeting analysis. The processed and raw data for these sessions have not been released as the recordings did not pass our quality control metrics.\n",
    "\n",
    "## Data structure and download\n",
    "The organisation of the data follows the standard IBL data structure.\n",
    "\n",
    "Please see\n",
    "- [These instructions](https://int-brain-lab.github.io/iblenv/data_structure.html) to download an example dataset for one session, and get familiarised with the data structure\n",
    "- [These instructions](https://int-brain-lab.github.io/iblenv/data_download.html) to learn how to use the ONE-api to search and download the released datasets\n",
    "- [These instructions](https://int-brain-lab.github.io/iblenv/loading_examples.html) to get familiarised with specific data loading functions\n",
    "\n",
    "Note:\n",
    "- The tag associated to this release is `2022_Q2_IBL_et_al_RepeatedSite`"
   ]
  }
 ],
 "metadata": {
  "celltoolbar": "Edit Metadata",
  "kernelspec": {
   "display_name": "Python [conda env:iblenv] *",
   "language": "python",
   "name": "conda-env-iblenv-py"
  },
  "language_info": {
   "codemirror_mode": {
    "name": "ipython",
    "version": 3
   },
   "file_extension": ".py",
   "mimetype": "text/x-python",
   "name": "python",
   "nbconvert_exporter": "python",
   "pygments_lexer": "ipython3",
   "version": "3.9.7"
  }
 },
 "nbformat": 4,
 "nbformat_minor": 5
}
