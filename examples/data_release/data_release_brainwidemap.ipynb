{
 "cells": [
  {
   "cell_type": "markdown",
   "id": "7ceb904d",
   "metadata": {},
   "source": [
    "# Data Release - Brain Wide Map\n",
    "\n",
    "IBL aims to understand the neural basis of decision-making in the mouse by gathering a whole-brain activity map composed of electrophysiological recordings pooled from multiple laboratories. We have systematically recorded from nearly all major brain areas with Neuropixels probes, using a grid system for unbiased sampling and replicating each recording site in at least two laboratories. These data have been used to construct a brain-wide map of activity at single-spike cellular resolution during a [decision-making task]((https://elifesciences.org/articles/63711)).  In addition to the map, this data set contains other information gathered during the task: sensory stimuli presented to the mouse; mouse decisions and response times; and mouse pose information from video recordings and DeepLabCut analysis."
   ]
  },
  {
   "cell_type": "markdown",
   "id": "ea567308",
   "metadata": {
    "pycharm": {
     "name": "#%% md\n"
    }
   },
   "source": [
    "## Overview of the Data\n",
    "We have released data from 355 Neuropixel recording sessions, which encompass 557 probe insertions, obtained in 116 subjects performing the IBL task across 12 different laboratories. As output of spike-sorting, there are 289127 units ; of which 33571 are considered to be of good quality. These units were recorded in overall 192 different brain regions.\n",
    "\n",
    "## Data structure and download\n",
    "The organisation of the data follows the standard IBL data structure.\n",
    "\n",
    "Please see\n",
    "- [These instructions](https://int-brain-lab.github.io/iblenv/data_structure.html) to download an example dataset for one session, and get familiarised with the data structure\n",
    "- [These instructions](https://int-brain-lab.github.io/iblenv/data_download.html) to learn how to use the ONE-api to search and download the released datasets\n",
    "- [These instructions](https://int-brain-lab.github.io/iblenv/loading_examples.html) to get familiarised with specific data loading functions\n",
    "\n",
    "Note:\n",
    "- The tag associated to this release is `2022_Q4_IBL_et_al_BWM`"
   ]
  }
 ],
 "metadata": {
  "celltoolbar": "Edit Metadata",
  "kernelspec": {
   "display_name": "Python [conda env:iblenv] *",
   "language": "python",
   "name": "conda-env-iblenv-py"
  },
  "language_info": {
   "codemirror_mode": {
    "name": "ipython",
    "version": 3
   },
   "file_extension": ".py",
   "mimetype": "text/x-python",
   "name": "python",
   "nbconvert_exporter": "python",
   "pygments_lexer": "ipython3",
   "version": "3.9.7"
  }
 },
 "nbformat": 4,
 "nbformat_minor": 5
}