{
 "cells": [
  {
   "cell_type": "markdown",
   "id": "7ceb904d",
   "metadata": {
    "pycharm": {
     "name": "#%% md\n"
    }
   },
   "source": [
    "# Data Release - Brain Wide Map\n",
    "\n",
    "IBL aims to understand the neural basis of decision-making in the mouse by gathering a whole-brain activity map composed of electrophysiological recordings pooled from multiple laboratories. We have systematically recorded from nearly all major brain areas with Neuropixels probes, using a grid system for unbiased sampling and replicating each recording site in at least two laboratories. These data have been used to construct a brain-wide map of activity at single-spike cellular resolution during a [decision-making task]((https://elifesciences.org/articles/63711)). Please read the associated article [(IBL et al. 2023)](https://doi.org/10.1101/2023.07.04.547681). In addition to the map, this data set contains other information gathered during the task: sensory stimuli presented to the mouse; mouse decisions and response times; and mouse pose information from video recordings and DeepLabCut analysis. Please read our accompanying [technical paper](https://doi.org/10.6084/m9.figshare.21400815) for details on the experiment and data processing pipelines. To explore the data, visit [our vizualisation website](https://viz.internationalbrainlab.org/)."
   ]
  },
  {
   "cell_type": "markdown",
   "id": "e9be5894",
   "metadata": {},
   "source": [
    "## Overview of the Data\n",
    "We have released data from 459 Neuropixel experimental sessions, which encompass 699 distinct recordings, referred to as probe insertions. Those were obtained with 139 subjects performing the IBL task across 12 different laboratories. As output of spike-sorting, there are 621,733 units; of which 75,708 are considered to be of good quality. In total, 241 brain regions were recorded in sufficient numbers for inclusion in IBL’s analyses [(IBL et al. 2023)](https://doi.org/10.1101/2023.07.04.547681).\n",
    "\n",
    "## Data structure and download\n",
    "The organisation of the data follows the standard IBL data structure.\n",
    "\n",
    "Please see\n",
    "\n",
    "* [These instructions](https://int-brain-lab.github.io/iblenv/notebooks_external/data_structure.html) to download an example dataset for one session, and get familiarised with the data structure\n",
    "* [These instructions](https://int-brain-lab.github.io/iblenv/notebooks_external/data_download.html) to learn how to use the ONE-api to search and download the released datasets\n",
    "* [These instructions](https://int-brain-lab.github.io/iblenv/loading_examples.html) to get familiarised with specific data loading functions\n",
    "\n",
    "Note:\n",
    "\n",
    "* The tag associated to this release is `Brainwidemap`\n",
    "\n",
    "\n",
    "## How to cite this dataset\n",
    "If you are using this dataset for your research please cite the [Brain Wide Map Paper](https://doi.org/10.1101/2023.07.04.547681) and see the **How to cite** section in the associated entry in the [AWS open data registry](https://registry.opendata.aws/ibl-brain-wide-map/).\n",
    "\n",
    "\n",
    "## Updates on the data\n",
    "Note: The section [Overview of the Data](#overview-of-the-data) contains the latest numbers released.\n",
    "\n",
    "### Receive updates on the data\n",
    "To receive a notification that we released new datasets, please fill up [this form](https://forms.gle/9ex2vL1JwV4QXnf98)\n",
    "\n",
    "### May 15th  2024\n",
    "As data acquisition spanned several years, we decided to re-run the latest spike sorting version on the full dataset to get the state of the art sorting results and ensure consistency on the full datasets.\n",
    "The improvements are described in [our updated spike sorting whitepaper](https://figshare.com/articles/online_resource/Spike_sorting_pipeline_for_the_International_Brain_Laboratory/19705522?file=49783080). The new run yielded many more units, bringing the total tally to 621,733 putative neurons, of which 75,708 pass the quality controls.\n",
    "\n",
    "### February 15th, 2024\n",
    "We have added data from an additional 105 recording sessions, which encompass 152 probe insertions, obtained in 24 subjects performing the IBL task. As output of spike-sorting, there are 81_229 new units; of which 12_319 are considered to be of good quality.\n",
    "\n",
    "We have also replaced and removed some video data. Application of additional quality control processes revealed that the video timestamps for some of the previously released data were incorrect. We corrected the video timestamps where possible (285 videos: 137 left, 148 right) and removed video data for which the correction was not possible (139 videos: 135 body, 3 left, 1 right). We also added 31 videos (16 left, 15 right). **We strongly recommend that all data analyses using video data be rerun with the data currently in the database (please be sure to clear your cache directory first).**"
   ]
  }
 ],
 "metadata": {
  "celltoolbar": "Edit Metadata",
  "kernelspec": {
   "display_name": "Python 3 (ipykernel)",
   "language": "python",
   "name": "python3"
  },
  "language_info": {
   "codemirror_mode": {
    "name": "ipython",
    "version": 3
   },
   "file_extension": ".py",
   "mimetype": "text/x-python",
   "name": "python",
   "nbconvert_exporter": "python",
   "pygments_lexer": "ipython3",
   "version": "3.9.16"
  }
 },
 "nbformat": 4,
 "nbformat_minor": 5
}
