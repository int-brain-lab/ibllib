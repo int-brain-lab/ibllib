{
 "cells": [
  {
   "cell_type": "markdown",
   "metadata": {},
   "source": [
    "# ONE basic commands\n",
    "\n",
    "There are four main ONE methods that can be used to search for and download data. Here we provide an introduction to these commands using some simple example implementations. Before proceeding make sure that you have installed the [IBL python environment](../../02_installation.md) and set up your [ONE credentials](../../one_docs/one_credentials.md)"
   ]
  },
  {
   "cell_type": "markdown",
   "metadata": {},
   "source": [
    "## 1. Importing ONE\n",
    "To use ONE, we must first import the module and instantiate the ONE class. This can be done using the following commands\n"
   ]
  },
  {
   "cell_type": "code",
   "execution_count": 1,
   "metadata": {},
   "outputs": [
    {
     "name": "stdout",
     "output_type": "stream",
     "text": [
      "Connected to https://alyx.internationalbrainlab.org as mayo\n"
     ]
    }
   ],
   "source": [
    "from oneibl.one import ONE\n",
    "one = ONE()"
   ]
  },
  {
   "cell_type": "markdown",
   "metadata": {},
   "source": [
    "<div class=\"alert alert-info\">\n",
    "\n",
    "Note\n",
    "\n",
    "If you are trying to connect through your personal IP address you may recieve the following error\n",
    "\n",
    "```\n",
    "ConnectionError: Can't connect to https://alyx.internationalbrainlab.org.\n",
    "IP addresses are filtered on IBL database servers.\n",
    "Are you connecting from an IBL participating institution ?\n",
    "```\n",
    "If so, make sure you VPN into an IBL institution network\n",
    "\n",
    "</div>\n"
   ]
  },
  {
   "cell_type": "markdown",
   "metadata": {},
   "source": [
    "## 2. Searching for data\n",
    "\n",
    "Each experimental session is identified by a unique string known as an experiment ID (eID). To search for experiments, we can use the `one.search` command. This will return a list of eIDs that match the search criterion. \n",
    "\n",
    "The possible searchable fields can be listed using the method"
   ]
  },
  {
   "cell_type": "code",
   "execution_count": 2,
   "metadata": {},
   "outputs": [
    {
     "data": {
      "text/plain": [
       "['dataset_types',\n",
       " 'date_range',\n",
       " 'lab',\n",
       " 'location',\n",
       " 'number',\n",
       " 'performance_gte',\n",
       " 'performance_lte',\n",
       " 'subject',\n",
       " 'task_protocol',\n",
       " 'users']"
      ]
     },
     "execution_count": 2,
     "metadata": {},
     "output_type": "execute_result"
    }
   ],
   "source": [
    "one.search_terms()"
   ]
  },
  {
   "cell_type": "markdown",
   "metadata": {},
   "source": [
    "Let's search for the experiments performed with the subject KS022 on the 10 December 2019"
   ]
  },
  {
   "cell_type": "code",
   "execution_count": 2,
   "metadata": {},
   "outputs": [
    {
     "name": "stdout",
     "output_type": "stream",
     "text": [
      "experiment ID = ['a3df91c8-52a6-4afa-957b-3479a7d0897c']\n"
     ]
    }
   ],
   "source": [
    "eid = one.search(subject='KS022', date_range=['2019-12-10', '2019-12-10'])\n",
    "print(f\"experiment ID = {eid}\")"
   ]
  },
  {
   "cell_type": "markdown",
   "metadata": {},
   "source": [
    "To get more information about the returned sessions, we can add in a `details` flag"
   ]
  },
  {
   "cell_type": "code",
   "execution_count": 25,
   "metadata": {},
   "outputs": [
    {
     "name": "stdout",
     "output_type": "stream",
     "text": [
      "[{'subject': 'KS022', 'start_time': '2019-12-10T14:40:57.879000', 'number': 1, 'lab': 'cortexlab', 'project': 'carandiniharris_midbrain_ibl', 'url': 'https://alyx.internationalbrainlab.org/sessions/a3df91c8-52a6-4afa-957b-3479a7d0897c', 'task_protocol': '_iblrig_tasks_ephysChoiceWorld6.1.3', 'local_path': '[]\\\\cortexlab\\\\Subjects\\\\KS022\\\\2019-12-10\\\\001'}]\n"
     ]
    }
   ],
   "source": [
    "eid, ses_info = one.search(subject='KS022', date_range=['2019-12-10', '2019-12-10'], details=True)\n",
    "print(ses_info)"
   ]
  },
  {
   "cell_type": "markdown",
   "metadata": {},
   "source": [
    "## 3. Listing available data\n",
    "\n",
    "Once the eID of the session of interest is known, we can list the available datasets using the `one.list` command"
   ]
  },
  {
   "cell_type": "code",
   "execution_count": 26,
   "metadata": {},
   "outputs": [
    {
     "data": {
      "text/plain": [
       "[['_ibl_log.info',\n",
       "  '_iblqc_ephysSpectralDensity.freqs',\n",
       "  '_iblqc_ephysSpectralDensity.power',\n",
       "  '_iblqc_ephysTimeRms.rms',\n",
       "  '_iblqc_ephysTimeRms.timestamps',\n",
       "  '_iblrig_Camera.raw',\n",
       "  '_iblrig_Camera.timestamps',\n",
       "  '_iblrig_ambientSensorData.raw',\n",
       "  '_iblrig_codeFiles.raw',\n",
       "  '_iblrig_encoderEvents.raw',\n",
       "  '_iblrig_encoderPositions.raw',\n",
       "  '_iblrig_encoderTrialInfo.raw',\n",
       "  '_iblrig_taskData.raw',\n",
       "  '_iblrig_taskSettings.raw',\n",
       "  '_phy_spikes_subset.channels',\n",
       "  '_phy_spikes_subset.spikes',\n",
       "  '_phy_spikes_subset.waveforms',\n",
       "  '_spikeglx_sync.channels',\n",
       "  '_spikeglx_sync.polarities',\n",
       "  '_spikeglx_sync.times',\n",
       "  'camera.times',\n",
       "  'channels.localCoordinates',\n",
       "  'channels.rawInd',\n",
       "  'clusters.amps',\n",
       "  'clusters.channels',\n",
       "  'clusters.depths',\n",
       "  'clusters.metrics',\n",
       "  'clusters.peakToTrough',\n",
       "  'clusters.uuids',\n",
       "  'clusters.waveforms',\n",
       "  'clusters.waveformsChannels',\n",
       "  'ephysData.raw.ap',\n",
       "  'ephysData.raw.ch',\n",
       "  'ephysData.raw.lf',\n",
       "  'ephysData.raw.meta',\n",
       "  'ephysData.raw.sync',\n",
       "  'ephysData.raw.timestamps',\n",
       "  'ephysData.raw.wiring',\n",
       "  'kilosort.whitening_matrix',\n",
       "  'probes.description',\n",
       "  'probes.trajectory',\n",
       "  'spikes.amps',\n",
       "  'spikes.clusters',\n",
       "  'spikes.depths',\n",
       "  'spikes.samples',\n",
       "  'spikes.templates',\n",
       "  'spikes.times',\n",
       "  'templates.waveforms',\n",
       "  'templates.waveformsChannels',\n",
       "  'trials.choice',\n",
       "  'trials.contrastLeft',\n",
       "  'trials.contrastRight',\n",
       "  'trials.feedbackType',\n",
       "  'trials.feedback_times',\n",
       "  'trials.firstMovement_times',\n",
       "  'trials.goCueTrigger_times',\n",
       "  'trials.goCue_times',\n",
       "  'trials.intervals',\n",
       "  'trials.itiDuration',\n",
       "  'trials.probabilityLeft',\n",
       "  'trials.response_times',\n",
       "  'trials.rewardVolume',\n",
       "  'trials.stimOn_times',\n",
       "  'wheel.position',\n",
       "  'wheel.timestamps',\n",
       "  'wheelMoves.intervals',\n",
       "  'wheelMoves.peakAmplitude']]"
      ]
     },
     "execution_count": 26,
     "metadata": {},
     "output_type": "execute_result"
    }
   ],
   "source": [
    "one.list(eid)"
   ]
  },
  {
   "cell_type": "markdown",
   "metadata": {},
   "source": [
    "We can set the `details` flag to True to return more information about each dataset"
   ]
  },
  {
   "cell_type": "code",
   "execution_count": 12,
   "metadata": {},
   "outputs": [
    {
     "data": {
      "text/plain": [
       "SessionDataInfo(dataset_type='ephysData.raw.ap', dataset_id='8e162391-cf35-4329-b28d-e4be55d57d56', local_path=None, eid='a3df91c8-52a6-4afa-957b-3479a7d0897c', url='http://ibl.flatironinstitute.org/cortexlab/Subjects/KS022/2019-12-10/001/raw_ephys_data/probe01/_spikeglx_ephysData_g0_t0.imec1.ap.8e162391-cf35-4329-b28d-e4be55d57d56.cbin', data=None, hash=[], file_size=[])"
      ]
     },
     "execution_count": 12,
     "metadata": {},
     "output_type": "execute_result"
    }
   ],
   "source": [
    "data_details = one.list(eid, details=True)\n",
    "data_details[0][0]"
   ]
  },
  {
   "cell_type": "markdown",
   "metadata": {},
   "source": [
    "We can also use the `one.list` command to help us navigate the database by finding the list of possible keywords that we can use to refine our search for sessions. For example, to list the labs available, we can type"
   ]
  },
  {
   "cell_type": "code",
   "execution_count": 29,
   "metadata": {},
   "outputs": [
    {
     "data": {
      "text/plain": [
       "['hoferlab',\n",
       " 'mainenlab',\n",
       " 'angelakilab',\n",
       " 'wittenlab',\n",
       " 'danlab',\n",
       " 'cortexlab',\n",
       " 'churchlandlab',\n",
       " 'mrsicflogellab',\n",
       " 'zadorlab',\n",
       " 'steinmetzlab']"
      ]
     },
     "execution_count": 29,
     "metadata": {},
     "output_type": "execute_result"
    }
   ],
   "source": [
    "one.list(None, 'labs')"
   ]
  },
  {
   "cell_type": "markdown",
   "metadata": {},
   "source": [
    "## 4. Loading data\n",
    "\n",
    "Once we have information about the session eID and the list of available dataset types we can use the `one.load` function to download the data from FlatIron. Let's download the `clusters.amps` and `clusters.depths` datasets\n"
   ]
  },
  {
   "cell_type": "code",
   "execution_count": 3,
   "metadata": {},
   "outputs": [
    {
     "ename": "ValueError",
     "evalue": "not enough values to unpack (expected 4, got 1)",
     "output_type": "error",
     "traceback": [
      "\u001b[1;31m---------------------------------------------------------------------------\u001b[0m",
      "\u001b[1;31mValueError\u001b[0m                                Traceback (most recent call last)",
      "\u001b[1;32m<ipython-input-3-479cede0f38c>\u001b[0m in \u001b[0;36m<module>\u001b[1;34m\u001b[0m\n\u001b[0;32m      1\u001b[0m \u001b[0mdataset_types\u001b[0m \u001b[1;33m=\u001b[0m \u001b[1;33m[\u001b[0m\u001b[1;34m'clusters.amps'\u001b[0m\u001b[1;33m,\u001b[0m \u001b[1;34m'clusters.depths'\u001b[0m\u001b[1;33m]\u001b[0m\u001b[1;33m\u001b[0m\u001b[1;33m\u001b[0m\u001b[0m\n\u001b[1;32m----> 2\u001b[1;33m \u001b[0mamps0\u001b[0m\u001b[1;33m,\u001b[0m \u001b[0mdepths0\u001b[0m\u001b[1;33m,\u001b[0m \u001b[0mamps1\u001b[0m\u001b[1;33m,\u001b[0m \u001b[0mdepths1\u001b[0m \u001b[1;33m=\u001b[0m \u001b[0mone\u001b[0m\u001b[1;33m.\u001b[0m\u001b[0mload\u001b[0m\u001b[1;33m(\u001b[0m\u001b[0meid\u001b[0m\u001b[1;33m,\u001b[0m \u001b[0mdataset_types\u001b[0m\u001b[1;33m=\u001b[0m\u001b[0mdataset_types\u001b[0m\u001b[1;33m)\u001b[0m\u001b[1;33m\u001b[0m\u001b[1;33m\u001b[0m\u001b[0m\n\u001b[0m",
      "\u001b[1;31mValueError\u001b[0m: not enough values to unpack (expected 4, got 1)"
     ]
    }
   ],
   "source": [
    "dataset_types = ['clusters.amps', 'clusters.depths']\n",
    "amps0, depths0, amps1, depths1 = one.load(eid, dataset_types=dataset_types)\n"
   ]
  },
  {
   "cell_type": "markdown",
   "metadata": {},
   "source": [
    "Note. Loading `clusters.amps` and `clusters.depths` returned four variables. This is because there is data for two different probes for this subject. "
   ]
  },
  {
   "cell_type": "markdown",
   "metadata": {},
   "source": [
    "To find out more details about what is being downloaded we can return a data class that contains information about each of the downloaded datasets. This can be added by setting the `dclass_output` argument to True. "
   ]
  },
  {
   "cell_type": "code",
   "execution_count": 4,
   "metadata": {},
   "outputs": [],
   "source": [
    "data = one.load(eid, dataset_types=dataset_types, dclass_output=True)"
   ]
  },
  {
   "cell_type": "markdown",
   "metadata": {},
   "source": [
    "We have access to the following information"
   ]
  },
  {
   "cell_type": "code",
   "execution_count": 21,
   "metadata": {},
   "outputs": [
    {
     "data": {
      "text/plain": [
       "dict_keys(['dataset_type', 'dataset_id', 'local_path', 'eid', 'url', 'data', 'hash', 'file_size'])"
      ]
     },
     "execution_count": 21,
     "metadata": {},
     "output_type": "execute_result"
    }
   ],
   "source": [
    "data.__dict__.keys()"
   ]
  },
  {
   "cell_type": "markdown",
   "metadata": {},
   "source": [
    "For example if we look at the local_path we will see that the data has come from two different probes, `probe00` and `probe01`"
   ]
  },
  {
   "cell_type": "code",
   "execution_count": 23,
   "metadata": {},
   "outputs": [
    {
     "data": {
      "text/plain": [
       "[WindowsPath('C:/Users/Mayo/Downloads/FlatIron/cortexlab/Subjects/KS022/2019-12-10/001/alf/probe01/clusters.depths.npy'),\n",
       " WindowsPath('C:/Users/Mayo/Downloads/FlatIron/cortexlab/Subjects/KS022/2019-12-10/001/alf/probe00/clusters.amps.npy'),\n",
       " WindowsPath('C:/Users/Mayo/Downloads/FlatIron/cortexlab/Subjects/KS022/2019-12-10/001/alf/probe01/clusters.amps.npy'),\n",
       " WindowsPath('C:/Users/Mayo/Downloads/FlatIron/cortexlab/Subjects/KS022/2019-12-10/001/alf/probe00/clusters.depths.npy')]"
      ]
     },
     "execution_count": 23,
     "metadata": {},
     "output_type": "execute_result"
    }
   ],
   "source": [
    "data.local_path"
   ]
  },
  {
   "cell_type": "markdown",
   "metadata": {},
   "source": [
    "<div class=\"alert alert-info\">\n",
    "\n",
    "Tip\n",
    "\n",
    "To find out more information about the ONE functions and the arguments that can be parsed we can use the help command. For example we can type\n",
    "\n",
    "</div>"
   ]
  },
  {
   "cell_type": "code",
   "execution_count": 25,
   "metadata": {},
   "outputs": [
    {
     "name": "stdout",
     "output_type": "stream",
     "text": [
      "Help on method load in module oneibl.one:\n",
      "\n",
      "load(eid, dataset_types=None, dclass_output=False, dry_run=False, cache_dir=None, download_only=False, clobber=False, offline=False, keep_uuid=False) method of oneibl.one.ONE instance\n",
      "    From a Session ID and dataset types, queries Alyx database, downloads the data\n",
      "    from Globus, and loads into numpy array.\n",
      "    \n",
      "    :param eid: Experiment ID, for IBL this is the UUID of the Session as per Alyx\n",
      "     database. Could be a full Alyx URL:\n",
      "     'http://localhost:8000/sessions/698361f6-b7d0-447d-a25d-42afdef7a0da' or only the UUID:\n",
      "     '698361f6-b7d0-447d-a25d-42afdef7a0da'. Can also be a list of the above for multiple eids.\n",
      "    :type eid: str\n",
      "    :param dataset_types: [None]: Alyx dataset types to be returned.\n",
      "    :type dataset_types: list\n",
      "    :param dclass_output: [False]: forces the output as dataclass to provide context.\n",
      "    :type dclass_output: bool\n",
      "     If None or an empty dataset_type is specified, the output will be a dictionary by default.\n",
      "    :param cache_dir: temporarly overrides the cache_dir from the parameter file\n",
      "    :type cache_dir: str\n",
      "    :param download_only: do not attempt to load data in memory, just download the files\n",
      "    :type download_only: bool\n",
      "    :param clobber: force downloading even if files exists locally\n",
      "    :type clobber: bool\n",
      "    :param keep_uuid: keeps the UUID at the end of the filename (defaults to False)\n",
      "    :type keep_uuid: bool\n",
      "    \n",
      "    :return: List of numpy arrays matching the size of dataset_types parameter, OR\n",
      "     a dataclass containing arrays and context data.\n",
      "    :rtype: list, dict, dataclass SessionDataInfo\n",
      "\n"
     ]
    }
   ],
   "source": [
    "help(one.load)"
   ]
  }
 ],
 "metadata": {
  "kernelspec": {
   "display_name": "Python",
   "language": "python",
   "name": "python3"
  },
  "language_info": {
   "codemirror_mode": {
    "name": "ipython",
    "version": 3
   },
   "file_extension": ".py",
   "mimetype": "text/x-python",
   "name": "python",
   "nbconvert_exporter": "python",
   "pygments_lexer": "ipython3",
   "version": "3.7.7"
  }
 },
 "nbformat": 4,
 "nbformat_minor": 4
}
