{
 "cells": [
  {
   "cell_type": "markdown",
   "metadata": {},
   "source": [
    "# Datajoint Introductory Tutorial\n",
    "In this tutorial we will use datajoint to replicate the analysis we conductd in the ONE tutorial\n",
    "\n",
    "This tutorial assumes that you have setup the unified ibl environment for python and have set up datajoint credentials.\n",
    "First let's import datajoint"
   ]
  },
  {
   "cell_type": "code",
   "execution_count": null,
   "metadata": {},
   "outputs": [],
   "source": [
    "import datajoint as dj\n",
    "# for the purposes of tutorial limit the table print output to 3"
   ]
  },
  {
   "cell_type": "markdown",
   "metadata": {},
   "source": [
    "We can access datajoint tables by importing schemas from IBL-pipeline. Let's import the subject schema"
   ]
  },
  {
   "cell_type": "code",
   "execution_count": null,
   "metadata": {},
   "outputs": [],
   "source": [
    "from ibl_pipeline import subject"
   ]
  },
  {
   "cell_type": "markdown",
   "metadata": {},
   "source": [
    "Within this schema there is a datajoiint table called Subject. This holds all the information about subjects registered on Alyx under IBL projects. Let's access this table and look at the first couple of entries"
   ]
  },
  {
   "cell_type": "code",
   "execution_count": null,
   "metadata": {},
   "outputs": [],
   "source": [
    "subjects = subject.Subject()\n",
    "subjects"
   ]
  },
  {
   "cell_type": "markdown",
   "metadata": {},
   "source": [
    "Let's find the entry for the subject we looked at in the ONE tutorial, KS022. To do this we will restrict the Subject table by the subject nickname"
   ]
  },
  {
   "cell_type": "code",
   "execution_count": null,
   "metadata": {},
   "outputs": [],
   "source": [
    "subjects & 'subject_nickname = \"KS022\"'"
   ]
  },
  {
   "cell_type": "markdown",
   "metadata": {},
   "source": [
    "We now want to find information about the behavioural sessions. This is information is stored in a table Session in the acquisition schema. Let's import this schema, access the table and display the first few entries"
   ]
  },
  {
   "cell_type": "code",
   "execution_count": null,
   "metadata": {},
   "outputs": [],
   "source": [
    "from ibl_pipeline import acquisition\n",
    "sessions = acquisition.Session()\n",
    "sessions"
   ]
  },
  {
   "cell_type": "markdown",
   "metadata": {},
   "source": [
    "If we look at the primary keys columns (columns with black headings) in the subjects and sessions table, we will notice that both contain subject_uuid as a primary key. This means that these two tables can be combined. We want to find information about all the sessions that KS022 did in the training phase of the IBL training pipeline. When combining the tables we will therefore restrict the subject table by the subject nickname as we did before and the sessions table by the task protocol"
   ]
  },
  {
   "cell_type": "code",
   "execution_count": null,
   "metadata": {},
   "outputs": [],
   "source": [
    "(subjects & 'subject_nickname = \"KS022\"') * (sessions & 'task_protocol LIKE \"%training%\"')"
   ]
  },
  {
   "cell_type": "markdown",
   "metadata": {},
   "source": [
    "There is a lot of information in this table and not all of it we are interested in for the purposes of our analysis. Let's just keep the information about the session_uuid using the proj method. We do not want any columns (apart from the primary keys which are by defauly kept) from the subject table and only want 'session_uuid' from the sesssions table. So we can write\n",
    " Note Primary keys are always retained we could have also combined first and then projected and ended up with the same result."
   ]
  },
  {
   "cell_type": "code",
   "execution_count": null,
   "metadata": {},
   "outputs": [],
   "source": [
    "(subjects & 'subject_nickname = \"KS022\"').proj() * (sessions & 'task_protocol LIKE \"%training%\"').proj('session_uuid')"
   ]
  },
  {
   "cell_type": "markdown",
   "metadata": {},
   "source": [
    " Note Primary keys are always retained we could have also combined first and then projected and ended up with the same result. e.g\n",
    " ((subjects & 'subject_nickname = \"KS022\"') * (sessions & 'task_protocol LIKE \"%training%\"')\n",
    ").proj('session_uuid')"
   ]
  },
  {
   "cell_type": "markdown",
   "metadata": {},
   "source": [
    "If we compare with ONE tutorial will notice same number of sessions and that session_uuid correspods to what we defined previously as eID"
   ]
  },
  {
   "cell_type": "markdown",
   "metadata": {},
   "source": [
    "Up until now we have been inspecting the content of the tables but do not actually have access to the content. This is because we actually have not read them into memory. For this we would need to use the fetch command. Let's fetch the session uuid into a pandas dataframe"
   ]
  },
  {
   "cell_type": "code",
   "execution_count": null,
   "metadata": {},
   "outputs": [],
   "source": [
    "eids = ((subjects & 'subject_nickname = \"KS022\"').proj() * (sessions & 'task_protocol LIKE \"%training%\"').proj('session_uuid')\n",
    "       ).fetch(format='frame')"
   ]
  },
  {
   "cell_type": "code",
   "execution_count": null,
   "metadata": {},
   "outputs": [],
   "source": [
    "eids"
   ]
  },
  {
   "cell_type": "markdown",
   "metadata": {},
   "source": [
    "Now we have found the sessions we want to get trial information associated with these sessions. One advantage of datajoint is that when the data is ingested into the tables, common computations like performance or reaction time that can be computed from the data can be executed and these values, rather than the raw data, stored in tables. "
   ]
  },
  {
   "cell_type": "markdown",
   "metadata": {},
   "source": [
    "The output from the trial data set is stored in a table called PyschResults. We can import this "
   ]
  },
  {
   "cell_type": "code",
   "execution_count": null,
   "metadata": {},
   "outputs": [],
   "source": [
    "from ibl_pipeline.analyses import behavior\n",
    "trials = behavior.PsychResults()\n",
    "trials"
   ]
  },
  {
   "cell_type": "markdown",
   "metadata": {},
   "source": [
    "Let's find the results for the first training day os KS022. Notice again how the primary keys of all the tables are consistent so we can combine tables."
   ]
  },
  {
   "cell_type": "code",
   "execution_count": null,
   "metadata": {},
   "outputs": [],
   "source": [
    "eid_day1 = dict(session_uuid=eids['session_uuid'][0])\n",
    "trials_day1 = ((subjects & 'subject_nickname = \"KS022\"').proj() * (sessions & eid_day1).proj() * trials).fetch(format='frame')\n",
    "trials_day1"
   ]
  },
  {
   "cell_type": "markdown",
   "metadata": {},
   "source": [
    "Note restrict by dictionary"
   ]
  },
  {
   "cell_type": "markdown",
   "metadata": {},
   "source": [
    "From this table we can extract the same computations that we did in the previous tutorial. Let's look at contrasts presented and  number of contrasts"
   ]
  },
  {
   "cell_type": "code",
   "execution_count": null,
   "metadata": {},
   "outputs": [],
   "source": [
    "contrasts = trials_day1['signed_contrasts'].to_numpy()[0]\n",
    "n_contrasts = trials_day1['n_trials_stim'].to_numpy()[0]\n",
    "print(contrasts)\n",
    "print(n_contrasts)"
   ]
  },
  {
   "cell_type": "markdown",
   "metadata": {},
   "source": [
    "We can compute performance at each contrast"
   ]
  },
  {
   "cell_type": "code",
   "execution_count": null,
   "metadata": {},
   "outputs": [],
   "source": [
    "contrast_performance = trials_day1['n_trials_stim_right'].to_numpy()[0]/n_contrasts\n",
    "print(contrast_performance)"
   ]
  },
  {
   "cell_type": "code",
   "execution_count": null,
   "metadata": {},
   "outputs": [],
   "source": [
    "import matplotlib.pyplot as plt\n",
    "plt.plot(contrasts * 100, contrast_performance * 100)\n",
    "plt.scatter(contrasts * 100, contrast_performance * 100)\n",
    "plt.ylim([0,100])\n",
    "plt.xticks([*(contrasts * 100)])\n",
    "plt.xlabel('Stimulus Contrast (%)')\n",
    "plt.ylabel('Performance (%)')"
   ]
  },
  {
   "cell_type": "code",
   "execution_count": null,
   "metadata": {},
   "outputs": [],
   "source": []
  }
 ],
 "metadata": {
  "kernelspec": {
   "display_name": "Python",
   "language": "python",
   "name": "python3"
  },
  "language_info": {
   "codemirror_mode": {
    "name": "ipython",
    "version": 3
   },
   "file_extension": ".py",
   "mimetype": "text/x-python",
   "name": "python",
   "nbconvert_exporter": "python",
   "pygments_lexer": "ipython3",
   "version": "3.7.7"
  }
 },
 "nbformat": 4,
 "nbformat_minor": 4
}