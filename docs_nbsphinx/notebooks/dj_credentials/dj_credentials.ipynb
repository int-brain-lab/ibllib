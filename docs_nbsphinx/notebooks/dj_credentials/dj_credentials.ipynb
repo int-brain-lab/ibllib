{
 "cells": [
  {
   "cell_type": "markdown",
   "metadata": {},
   "source": [
    "# Configuring DataJoint\n",
    "\n",
    "Before you can start using anything with DataJoint, you need to configure DataJoint. Installing `ibl-pipeline` packaged automatically install the latest DataJoint with it. In order for DataJoint to work, you need to tell it informatoin about the database connection, namely the database hostname."
   ]
  },
  {
   "cell_type": "markdown",
   "metadata": {},
   "source": [
    "Start by importing the package. Convention is to import it as `dj`."
   ]
  },
  {
   "cell_type": "code",
   "execution_count": null,
   "metadata": {},
   "outputs": [],
   "source": [
    "import datajoint as dj"
   ]
  },
  {
   "cell_type": "code",
   "execution_count": null,
   "metadata": {},
   "outputs": [],
   "source": [
    "dj.config"
   ]
  },
  {
   "cell_type": "markdown",
   "metadata": {},
   "source": [
    "Notice that `database.host` is already set to `datajoint.internationalbrainlab.org`. If not, we can manually set it by:"
   ]
  },
  {
   "cell_type": "code",
   "execution_count": null,
   "metadata": {},
   "outputs": [],
   "source": [
    "dj.config['database.host'] = 'datajoint.internationalbrainlab.org'"
   ]
  },
  {
   "cell_type": "code",
   "execution_count": null,
   "metadata": {},
   "outputs": [],
   "source": [
    "dj.config"
   ]
  },
  {
   "cell_type": "markdown",
   "metadata": {},
   "source": [
    "Now we are pointing to the right place, let's try connecting. You can explicitly trigger a connection with `dj.conn()`"
   ]
  },
  {
   "cell_type": "code",
   "execution_count": null,
   "metadata": {},
   "outputs": [],
   "source": [
    "dj.conn()"
   ]
  },
  {
   "cell_type": "markdown",
   "metadata": {},
   "source": [
    "Once you verify that the connection is working, you'd want to save the configuration so that you don't have to keep on changing the `database.host` everytime you work with DataJoint. Simply run the following:"
   ]
  },
  {
   "cell_type": "code",
   "execution_count": null,
   "metadata": {},
   "outputs": [],
   "source": [
    "dj.config.save_local()"
   ]
  },
  {
   "cell_type": "code",
   "execution_count": null,
   "metadata": {},
   "outputs": [],
   "source": [
    "ls"
   ]
  },
  {
   "cell_type": "markdown",
   "metadata": {},
   "source": [
    "Notice that this created `dj_local_conf.json` in the local directory."
   ]
  },
  {
   "cell_type": "code",
   "execution_count": null,
   "metadata": {},
   "outputs": [],
   "source": [
    "%load dj_local_conf.json\n",
    "{\n",
    "    \"database.host\": \"datajoint.internationalbrainlab.org\",\n",
    "    \"database.password\": null,\n",
    "    \"database.user\": null,\n",
    "    \"database.port\": 3306,\n",
    "    \"database.reconnect\": true,\n",
    "    \"connection.init_function\": null,\n",
    "    \"connection.charset\": \"\",\n",
    "    \"loglevel\": \"INFO\",\n",
    "    \"safemode\": true,\n",
    "    \"fetch_format\": \"array\",\n",
    "    \"display.limit\": 12,\n",
    "    \"display.width\": 14,\n",
    "    \"display.show_tuple_count\": true\n",
    "}"
   ]
  },
  {
   "cell_type": "markdown",
   "metadata": {},
   "source": [
    "Inside the dj_local_conf.json, you will find saved dj.config information, and notice that database.host is set to the right value."
   ]
  },
  {
   "cell_type": "markdown",
   "metadata": {},
   "source": [
    "### Bonus: saving username and password into local config"
   ]
  },
  {
   "cell_type": "markdown",
   "metadata": {},
   "source": [
    "Although now you don't have to keep on specifying `database.host` inside `dj.config`, everytime DataJoint tries to connect to the database, it'll prompt you for your username and password. Although this maybe fine when working interactively, it can be rather limiting when you want a script to run without interaction. To get around this, you can also save your username and password into the configuration as follows:"
   ]
  },
  {
   "cell_type": "code",
   "execution_count": null,
   "metadata": {},
   "outputs": [],
   "source": [
    "from getpass import getpass # use this to type password in without showing it"
   ]
  },
  {
   "cell_type": "code",
   "execution_count": null,
   "metadata": {},
   "outputs": [],
   "source": [
    "dj.config['database.user'] = 'shan'\n",
    "dj.config['database.password'] = getpass('Type password:')"
   ]
  },
  {
   "cell_type": "markdown",
   "metadata": {},
   "source": [
    "Test the connection with it"
   ]
  },
  {
   "cell_type": "code",
   "execution_count": null,
   "metadata": {},
   "outputs": [],
   "source": [
    "dj.conn()"
   ]
  },
  {
   "cell_type": "markdown",
   "metadata": {},
   "source": [
    "Now save the username and password into the local config:"
   ]
  },
  {
   "cell_type": "code",
   "execution_count": null,
   "metadata": {},
   "outputs": [],
   "source": [
    "dj.config.save_local()"
   ]
  }
 ],
 "metadata": {
  "kernelspec": {
   "display_name": "Python 3",
   "language": "python",
   "name": "python3"
  },
  "language_info": {
   "codemirror_mode": {
    "name": "ipython",
    "version": 3
   },
   "file_extension": ".py",
   "mimetype": "text/x-python",
   "name": "python",
   "nbconvert_exporter": "python",
   "pygments_lexer": "ipython3",
   "version": "3.7.7"
  },
  "nbsphinx": {
   "execute": "never"
  }
 },
 "nbformat": 4,
 "nbformat_minor": 2
}
