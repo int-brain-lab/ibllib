{
  "nbformat": 4,
  "nbformat_minor": 0,
  "metadata": {
    "colab": {
      "name": "Untitled0.ipynb",
      "provenance": [],
      "collapsed_sections": []
    },
    "kernelspec": {
      "name": "python3",
      "display_name": "Python 3"
    }
  },
  "cells": [
    {
      "cell_type": "code",
      "metadata": {
        "id": "HzRwehxFukh_",
        "colab_type": "code",
        "colab": {}
      },
      "source": [
        "!pip install ibllib\n",
        "from google.colab import drive\n",
        "drive.mount('/content/drive')\n",
        "!cp drive/My\\ Drive/params/.one_params ../root"
      ],
      "execution_count": null,
      "outputs": []
    }
  ]
}