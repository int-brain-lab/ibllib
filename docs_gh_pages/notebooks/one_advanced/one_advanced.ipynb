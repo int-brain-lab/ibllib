{
 "cells": [
  {
   "cell_type": "markdown",
   "metadata": {},
   "source": [
    "# ONE advanced queries\n",
    "\n",
    "While the basic `one.search` command allows us to filter experimental sessions by date, lab, user, subject etc, you may quickly find that you want to apply more complex queries to restrict your search output. This can be achieved using the `one.alyx.rest` command. This has access to a range of tables stored in Alyx and gives us more flexibilty when forming our queries."
   ]
  },
  {
   "cell_type": "markdown",
   "metadata": {},
   "source": [
    "## `one.search` vs `one.alyx.rest`\n",
    "We will get started by importing ONE"
   ]
  },
  {
   "cell_type": "code",
   "execution_count": null,
   "metadata": {},
   "outputs": [],
   "source": [
    "from oneibl.one import ONE\n",
    "one = ONE()"
   ]
  },
  {
   "cell_type": "markdown",
   "metadata": {},
   "source": [
    "We can list the possible tables that we have access to, by typing the following command"
   ]
  },
  {
   "cell_type": "code",
   "execution_count": null,
   "metadata": {},
   "outputs": [],
   "source": [
    "one.alyx.rest()"
   ]
  },
  {
   "cell_type": "markdown",
   "metadata": {},
   "source": [
    "Let's first look at `sessions` table. The information about what filters can be applied to this table are available under **Query Parameters** [here](https://alyx.internationalbrainlab.org/docs/#sessions-list). Let's apply a filter based on `subject` and `task_protocol`. We can do this using the following expression,"
   ]
  },
  {
   "cell_type": "code",
   "execution_count": null,
   "metadata": {},
   "outputs": [],
   "source": [
    "sess_info = one.alyx.rest('sessions', 'list', subject='SWC_015', task_protocol='ephys')\n",
    "sess_info[0]"
   ]
  },
  {
   "cell_type": "markdown",
   "metadata": {},
   "source": [
    "Notice how this command doesn't just return the session eID but a dictionary containing information about each session. We can extract the set of eIDs from the `url` key "
   ]
  },
  {
   "cell_type": "code",
   "execution_count": null,
   "metadata": {},
   "outputs": [],
   "source": [
    "eids = [s['url'] for s in sess_info]\n",
    "eids = [e.split('/')[-1] for e in eids]\n",
    "eids"
   ]
  },
  {
   "cell_type": "markdown",
   "metadata": {},
   "source": [
    "You might have noticed that this same query could be have been achieved using the `one.search` method,"
   ]
  },
  {
   "cell_type": "code",
   "execution_count": null,
   "metadata": {},
   "outputs": [],
   "source": [
    "eids = one.search(subject='SWC_015', task_protocol='ephys')\n",
    "eids"
   ]
  },
  {
   "cell_type": "markdown",
   "metadata": {},
   "source": [
    "Let's add in another filter to see the benefits of the `one.alyx.rest` approach. We will add an `atlas_acronym` filter to see if any of the ephys sessions from SWC_015 were recorded from the somatomotor areas (acronym MO). This query would not be possible with the `one.search` command!"
   ]
  },
  {
   "cell_type": "code",
   "execution_count": null,
   "metadata": {},
   "outputs": [],
   "source": [
    "sess_info = one.alyx.rest('sessions', 'list', subject='SWC_015', task_protocol='ephys',\n",
    "                          atlas_acronym='MO')\n",
    "sess_info"
   ]
  },
  {
   "cell_type": "markdown",
   "metadata": {},
   "source": [
    "## Accessing other Alyx tables\n",
    "\n",
    "With the `one.alyx.rest` command we are not only limited to the `sessions` table, but can formulate queries based on other tables to find session eIDs of interest. Consider the case where we want to find all sessions that have probe insertions that target a specific ML and AP coordinate. For this we can formulate our query based on the [trajectories table](https://alyx.internationalbrainlab.org/docs/#trajectories-list). Let's see if there are any probe insertions at the coordinates ML(x) = -2000, and AP(y) = -2000 from bregma. "
   ]
  },
  {
   "cell_type": "code",
   "execution_count": null,
   "metadata": {},
   "outputs": [],
   "source": [
    "trajs = one.alyx.rest('trajectories', 'list', x=-2000, y=-2000)\n",
    "trajs[0]"
   ]
  },
  {
   "cell_type": "markdown",
   "metadata": {},
   "source": [
    "We can find the session eID associated with this trajectory by looking at the `id` of the `session` field in the returned dictionary"
   ]
  },
  {
   "cell_type": "code",
   "execution_count": null,
   "metadata": {},
   "outputs": [],
   "source": [
    "eid = trajs[0]['session']['id']\n",
    "eid"
   ]
  },
  {
   "cell_type": "markdown",
   "metadata": {},
   "source": [
    "<div class=\"alert alert-info\">\n",
    "\n",
    "Note. \n",
    "    \n",
    "It is not just sessions that have unique IDs associated with them! Every object stored in Alyx has a unique UUID, whether it is a trajectory, a subject, a user or a dataset. For example in the above example we can access the unique ID of the trajectory by typing `traj_id = trajs[0]['id']`\n",
    "\n",
    "\n",
    "</div>"
   ]
  },
  {
   "cell_type": "markdown",
   "metadata": {},
   "source": [
    "## Searching with `one.alyx.rest` \n",
    "The `one.alyx.rest` command is also a far superior method compared to `one.list` for searching the database for possible keywords that you can use to restrict your queries. For example, if we want to find the names of female subjects in the Witten lab that are alive, we can use the [subjects table](https://alyx.internationalbrainlab.org/docs/#subjects-list) to write,"
   ]
  },
  {
   "cell_type": "code",
   "execution_count": null,
   "metadata": {},
   "outputs": [],
   "source": [
    "subj_info = one.alyx.rest('subjects', 'list', lab='wittenlab', sex='F', alive=True)\n",
    "subj_nickname = [subj['nickname'] for subj in subj_info]\n",
    "subj_nickname"
   ]
  }
 ],
 "metadata": {
  "kernelspec": {
   "display_name": "Python 3",
   "language": "python",
   "name": "python3"
  },
  "language_info": {
   "codemirror_mode": {
    "name": "ipython",
    "version": 3
   },
   "file_extension": ".py",
   "mimetype": "text/x-python",
   "name": "python",
   "nbconvert_exporter": "python",
   "pygments_lexer": "ipython3",
   "version": "3.7.7"
  }
 },
 "nbformat": 4,
 "nbformat_minor": 4
}
